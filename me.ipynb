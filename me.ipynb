{
  "nbformat": 4,
  "nbformat_minor": 0,
  "metadata": {
    "kernelspec": {
      "display_name": "Python 3",
      "language": "python",
      "name": "python3"
    },
    "language_info": {
      "codemirror_mode": {
        "name": "ipython",
        "version": 3
      },
      "file_extension": ".py",
      "mimetype": "text/x-python",
      "name": "python",
      "nbconvert_exporter": "python",
      "pygments_lexer": "ipython3",
      "version": "3.7.3"
    },
    "colab": {
      "name": "me.ipynb",
      "provenance": [],
      "collapsed_sections": []
    },
    "accelerator": "TPU"
  },
  "cells": [
    {
      "cell_type": "code",
      "metadata": {
        "id": "kLyIoRb6np9M"
      },
      "source": [
        "import numpy as np\n",
        "import pandas as pd\n",
        "import seaborn as sns\n",
        "import matplotlib.pyplot as plt"
      ],
      "execution_count": null,
      "outputs": []
    },
    {
      "cell_type": "code",
      "metadata": {
        "id": "uH0JhSxonp9v"
      },
      "source": [
        "def lift(y_true, y_pred, lift_perc):\n",
        "    cutoff=np.percentile(y_pred, lift_perc)       \n",
        "    return y_true[y_pred<=cutoff].mean()/y_true.mean()"
      ],
      "execution_count": null,
      "outputs": []
    },
    {
      "cell_type": "code",
      "metadata": {
        "id": "vdS75Lttnp-P"
      },
      "source": [
        "data = pd.read_csv('sample_data/train.csv') "
      ],
      "execution_count": null,
      "outputs": []
    },
    {
      "cell_type": "code",
      "metadata": {
        "id": "rnxmRwAqnp-l",
        "colab": {
          "base_uri": "https://localhost:8080/",
          "height": 244
        },
        "outputId": "e3181d4b-b639-46cf-ad44-26d04c14701c"
      },
      "source": [
        "test = pd.read_csv('sample_data/test_.csv') \n",
        "test.head()"
      ],
      "execution_count": null,
      "outputs": [
        {
          "output_type": "execute_result",
          "data": {
            "text/html": [
              "<div>\n",
              "<style scoped>\n",
              "    .dataframe tbody tr th:only-of-type {\n",
              "        vertical-align: middle;\n",
              "    }\n",
              "\n",
              "    .dataframe tbody tr th {\n",
              "        vertical-align: top;\n",
              "    }\n",
              "\n",
              "    .dataframe thead th {\n",
              "        text-align: right;\n",
              "    }\n",
              "</style>\n",
              "<table border=\"1\" class=\"dataframe\">\n",
              "  <thead>\n",
              "    <tr style=\"text-align: right;\">\n",
              "      <th></th>\n",
              "      <th>Unnamed: 0</th>\n",
              "      <th>F_0</th>\n",
              "      <th>F_1</th>\n",
              "      <th>F_2</th>\n",
              "      <th>F_3</th>\n",
              "      <th>F_4</th>\n",
              "      <th>F_5</th>\n",
              "      <th>F_6</th>\n",
              "      <th>F_7</th>\n",
              "      <th>F_8</th>\n",
              "      <th>F_9</th>\n",
              "      <th>F_10</th>\n",
              "      <th>F_11</th>\n",
              "      <th>F_12</th>\n",
              "      <th>F_13</th>\n",
              "      <th>F_14</th>\n",
              "      <th>F_15</th>\n",
              "      <th>F_16</th>\n",
              "      <th>F_17</th>\n",
              "      <th>F_18</th>\n",
              "      <th>F_19</th>\n",
              "      <th>F_20</th>\n",
              "      <th>F_21</th>\n",
              "      <th>F_22</th>\n",
              "      <th>F_23</th>\n",
              "      <th>F_24</th>\n",
              "      <th>F_25</th>\n",
              "      <th>F_26</th>\n",
              "      <th>F_27</th>\n",
              "      <th>F_28</th>\n",
              "      <th>F_29</th>\n",
              "      <th>F_30</th>\n",
              "      <th>F_31</th>\n",
              "      <th>F_32</th>\n",
              "      <th>F_33</th>\n",
              "      <th>F_34</th>\n",
              "      <th>F_35</th>\n",
              "      <th>F_36</th>\n",
              "      <th>F_37</th>\n",
              "      <th>F_38</th>\n",
              "      <th>F_39</th>\n",
              "      <th>F_40</th>\n",
              "    </tr>\n",
              "  </thead>\n",
              "  <tbody>\n",
              "    <tr>\n",
              "      <th>0</th>\n",
              "      <td>16380</td>\n",
              "      <td>30.0</td>\n",
              "      <td>1690.0</td>\n",
              "      <td>0.0</td>\n",
              "      <td>1.0</td>\n",
              "      <td>0.500000</td>\n",
              "      <td>1.000000</td>\n",
              "      <td>0.0</td>\n",
              "      <td>2.0</td>\n",
              "      <td>0.000000</td>\n",
              "      <td>2.0</td>\n",
              "      <td>2.0</td>\n",
              "      <td>0.0</td>\n",
              "      <td>0.333333</td>\n",
              "      <td>0.0</td>\n",
              "      <td>0.0</td>\n",
              "      <td>0.0</td>\n",
              "      <td>2.0</td>\n",
              "      <td>0.0</td>\n",
              "      <td>0.000000</td>\n",
              "      <td>0.0</td>\n",
              "      <td>0.0</td>\n",
              "      <td>0.000000</td>\n",
              "      <td>0.000000</td>\n",
              "      <td>0.0</td>\n",
              "      <td>0.000000</td>\n",
              "      <td>0.0</td>\n",
              "      <td>0.0</td>\n",
              "      <td>0.0</td>\n",
              "      <td>1.0</td>\n",
              "      <td>3.0</td>\n",
              "      <td>1900.0</td>\n",
              "      <td>0.000000</td>\n",
              "      <td>0.000000</td>\n",
              "      <td>194.800000</td>\n",
              "      <td>404.800000</td>\n",
              "      <td>0.0</td>\n",
              "      <td>2.0</td>\n",
              "      <td>2.0</td>\n",
              "      <td>179.0</td>\n",
              "      <td>179.0</td>\n",
              "      <td>122.0</td>\n",
              "    </tr>\n",
              "    <tr>\n",
              "      <th>1</th>\n",
              "      <td>145630</td>\n",
              "      <td>30.0</td>\n",
              "      <td>2710.0</td>\n",
              "      <td>0.0</td>\n",
              "      <td>1.0</td>\n",
              "      <td>289.666667</td>\n",
              "      <td>316.666667</td>\n",
              "      <td>388.0</td>\n",
              "      <td>543.0</td>\n",
              "      <td>218.450000</td>\n",
              "      <td>389.0</td>\n",
              "      <td>1.0</td>\n",
              "      <td>0.0</td>\n",
              "      <td>198.333333</td>\n",
              "      <td>0.0</td>\n",
              "      <td>0.0</td>\n",
              "      <td>145.0</td>\n",
              "      <td>49.0</td>\n",
              "      <td>0.0</td>\n",
              "      <td>139.666667</td>\n",
              "      <td>165.0</td>\n",
              "      <td>254.0</td>\n",
              "      <td>80.200000</td>\n",
              "      <td>0.033333</td>\n",
              "      <td>47.0</td>\n",
              "      <td>89.000000</td>\n",
              "      <td>118.0</td>\n",
              "      <td>566.0</td>\n",
              "      <td>0.0</td>\n",
              "      <td>3.0</td>\n",
              "      <td>10.0</td>\n",
              "      <td>2910.0</td>\n",
              "      <td>126.666667</td>\n",
              "      <td>233.333335</td>\n",
              "      <td>1.066618</td>\n",
              "      <td>14.483347</td>\n",
              "      <td>20.0</td>\n",
              "      <td>4.0</td>\n",
              "      <td>6.0</td>\n",
              "      <td>254.0</td>\n",
              "      <td>NaN</td>\n",
              "      <td>323.0</td>\n",
              "    </tr>\n",
              "    <tr>\n",
              "      <th>2</th>\n",
              "      <td>112658</td>\n",
              "      <td>30.0</td>\n",
              "      <td>1690.0</td>\n",
              "      <td>0.0</td>\n",
              "      <td>1.0</td>\n",
              "      <td>189.333333</td>\n",
              "      <td>140.666667</td>\n",
              "      <td>173.0</td>\n",
              "      <td>192.0</td>\n",
              "      <td>268.866667</td>\n",
              "      <td>173.0</td>\n",
              "      <td>0.0</td>\n",
              "      <td>0.0</td>\n",
              "      <td>52.000000</td>\n",
              "      <td>0.0</td>\n",
              "      <td>8.0</td>\n",
              "      <td>111.0</td>\n",
              "      <td>0.0</td>\n",
              "      <td>0.0</td>\n",
              "      <td>161.000000</td>\n",
              "      <td>212.0</td>\n",
              "      <td>273.0</td>\n",
              "      <td>316.233333</td>\n",
              "      <td>0.000000</td>\n",
              "      <td>90.0</td>\n",
              "      <td>81.333333</td>\n",
              "      <td>122.0</td>\n",
              "      <td>768.0</td>\n",
              "      <td>8.0</td>\n",
              "      <td>1.0</td>\n",
              "      <td>2.0</td>\n",
              "      <td>1730.0</td>\n",
              "      <td>3.333333</td>\n",
              "      <td>0.000000</td>\n",
              "      <td>120.279593</td>\n",
              "      <td>18.712925</td>\n",
              "      <td>28.0</td>\n",
              "      <td>3.0</td>\n",
              "      <td>3.0</td>\n",
              "      <td>127.0</td>\n",
              "      <td>NaN</td>\n",
              "      <td>763.0</td>\n",
              "    </tr>\n",
              "    <tr>\n",
              "      <th>3</th>\n",
              "      <td>102310</td>\n",
              "      <td>30.0</td>\n",
              "      <td>1603.0</td>\n",
              "      <td>0.0</td>\n",
              "      <td>1.0</td>\n",
              "      <td>213.500000</td>\n",
              "      <td>212.000000</td>\n",
              "      <td>281.0</td>\n",
              "      <td>543.0</td>\n",
              "      <td>399.866667</td>\n",
              "      <td>281.0</td>\n",
              "      <td>1.0</td>\n",
              "      <td>0.0</td>\n",
              "      <td>86.000000</td>\n",
              "      <td>0.0</td>\n",
              "      <td>0.0</td>\n",
              "      <td>185.0</td>\n",
              "      <td>1.0</td>\n",
              "      <td>0.0</td>\n",
              "      <td>247.000000</td>\n",
              "      <td>291.0</td>\n",
              "      <td>497.0</td>\n",
              "      <td>459.100000</td>\n",
              "      <td>0.000000</td>\n",
              "      <td>102.0</td>\n",
              "      <td>115.000000</td>\n",
              "      <td>189.0</td>\n",
              "      <td>2162.0</td>\n",
              "      <td>6.0</td>\n",
              "      <td>2.0</td>\n",
              "      <td>4.0</td>\n",
              "      <td>2850.0</td>\n",
              "      <td>65.833333</td>\n",
              "      <td>66.666667</td>\n",
              "      <td>-281.033344</td>\n",
              "      <td>-380.133364</td>\n",
              "      <td>17.0</td>\n",
              "      <td>5.0</td>\n",
              "      <td>6.0</td>\n",
              "      <td>233.0</td>\n",
              "      <td>NaN</td>\n",
              "      <td>701.0</td>\n",
              "    </tr>\n",
              "    <tr>\n",
              "      <th>4</th>\n",
              "      <td>158200</td>\n",
              "      <td>0.0</td>\n",
              "      <td>0.0</td>\n",
              "      <td>0.0</td>\n",
              "      <td>200.0</td>\n",
              "      <td>0.000000</td>\n",
              "      <td>0.000000</td>\n",
              "      <td>0.0</td>\n",
              "      <td>0.0</td>\n",
              "      <td>0.000000</td>\n",
              "      <td>0.0</td>\n",
              "      <td>0.0</td>\n",
              "      <td>0.0</td>\n",
              "      <td>0.000000</td>\n",
              "      <td>0.0</td>\n",
              "      <td>0.0</td>\n",
              "      <td>0.0</td>\n",
              "      <td>0.0</td>\n",
              "      <td>0.0</td>\n",
              "      <td>0.000000</td>\n",
              "      <td>0.0</td>\n",
              "      <td>0.0</td>\n",
              "      <td>0.000000</td>\n",
              "      <td>0.000000</td>\n",
              "      <td>0.0</td>\n",
              "      <td>0.000000</td>\n",
              "      <td>0.0</td>\n",
              "      <td>0.0</td>\n",
              "      <td>0.0</td>\n",
              "      <td>0.0</td>\n",
              "      <td>0.0</td>\n",
              "      <td>0.0</td>\n",
              "      <td>0.000000</td>\n",
              "      <td>0.000000</td>\n",
              "      <td>0.000000</td>\n",
              "      <td>0.000000</td>\n",
              "      <td>0.0</td>\n",
              "      <td>NaN</td>\n",
              "      <td>NaN</td>\n",
              "      <td>NaN</td>\n",
              "      <td>NaN</td>\n",
              "      <td>0.0</td>\n",
              "    </tr>\n",
              "  </tbody>\n",
              "</table>\n",
              "</div>"
            ],
            "text/plain": [
              "   Unnamed: 0   F_0     F_1  F_2    F_3  ...  F_36  F_37   F_38   F_39   F_40\n",
              "0       16380  30.0  1690.0  0.0    1.0  ...   2.0   2.0  179.0  179.0  122.0\n",
              "1      145630  30.0  2710.0  0.0    1.0  ...   4.0   6.0  254.0    NaN  323.0\n",
              "2      112658  30.0  1690.0  0.0    1.0  ...   3.0   3.0  127.0    NaN  763.0\n",
              "3      102310  30.0  1603.0  0.0    1.0  ...   5.0   6.0  233.0    NaN  701.0\n",
              "4      158200   0.0     0.0  0.0  200.0  ...   NaN   NaN    NaN    NaN    0.0\n",
              "\n",
              "[5 rows x 42 columns]"
            ]
          },
          "metadata": {
            "tags": []
          },
          "execution_count": 121
        }
      ]
    },
    {
      "cell_type": "code",
      "metadata": {
        "id": "ocxm7k_nnp-9",
        "colab": {
          "base_uri": "https://localhost:8080/",
          "height": 444
        },
        "outputId": "6e539944-2812-4f99-d5e8-1711f5e948a3"
      },
      "source": [
        "df = data.drop('Unnamed: 0',axis=1)\n",
        "df"
      ],
      "execution_count": null,
      "outputs": [
        {
          "output_type": "execute_result",
          "data": {
            "text/html": [
              "<div>\n",
              "<style scoped>\n",
              "    .dataframe tbody tr th:only-of-type {\n",
              "        vertical-align: middle;\n",
              "    }\n",
              "\n",
              "    .dataframe tbody tr th {\n",
              "        vertical-align: top;\n",
              "    }\n",
              "\n",
              "    .dataframe thead th {\n",
              "        text-align: right;\n",
              "    }\n",
              "</style>\n",
              "<table border=\"1\" class=\"dataframe\">\n",
              "  <thead>\n",
              "    <tr style=\"text-align: right;\">\n",
              "      <th></th>\n",
              "      <th>F_0</th>\n",
              "      <th>F_1</th>\n",
              "      <th>F_2</th>\n",
              "      <th>F_3</th>\n",
              "      <th>F_4</th>\n",
              "      <th>F_5</th>\n",
              "      <th>F_6</th>\n",
              "      <th>F_7</th>\n",
              "      <th>F_8</th>\n",
              "      <th>F_9</th>\n",
              "      <th>F_10</th>\n",
              "      <th>F_11</th>\n",
              "      <th>F_12</th>\n",
              "      <th>F_13</th>\n",
              "      <th>F_14</th>\n",
              "      <th>F_15</th>\n",
              "      <th>F_16</th>\n",
              "      <th>F_17</th>\n",
              "      <th>F_18</th>\n",
              "      <th>F_19</th>\n",
              "      <th>F_20</th>\n",
              "      <th>F_21</th>\n",
              "      <th>F_22</th>\n",
              "      <th>F_23</th>\n",
              "      <th>F_24</th>\n",
              "      <th>F_25</th>\n",
              "      <th>F_26</th>\n",
              "      <th>F_27</th>\n",
              "      <th>F_28</th>\n",
              "      <th>F_29</th>\n",
              "      <th>F_30</th>\n",
              "      <th>F_31</th>\n",
              "      <th>F_32</th>\n",
              "      <th>F_33</th>\n",
              "      <th>F_34</th>\n",
              "      <th>F_35</th>\n",
              "      <th>F_36</th>\n",
              "      <th>F_37</th>\n",
              "      <th>F_38</th>\n",
              "      <th>F_39</th>\n",
              "      <th>F_40</th>\n",
              "      <th>Label</th>\n",
              "    </tr>\n",
              "  </thead>\n",
              "  <tbody>\n",
              "    <tr>\n",
              "      <th>0</th>\n",
              "      <td>30.0</td>\n",
              "      <td>1590.0</td>\n",
              "      <td>0.0</td>\n",
              "      <td>1.0</td>\n",
              "      <td>195.666667</td>\n",
              "      <td>179.666667</td>\n",
              "      <td>107.0</td>\n",
              "      <td>305.0</td>\n",
              "      <td>158.333333</td>\n",
              "      <td>115.0</td>\n",
              "      <td>5.0</td>\n",
              "      <td>0.0</td>\n",
              "      <td>95.333333</td>\n",
              "      <td>0.0</td>\n",
              "      <td>0.0</td>\n",
              "      <td>19.0</td>\n",
              "      <td>19.0</td>\n",
              "      <td>0.0</td>\n",
              "      <td>120.333333</td>\n",
              "      <td>76.0</td>\n",
              "      <td>188.0</td>\n",
              "      <td>174.816667</td>\n",
              "      <td>0.033333</td>\n",
              "      <td>70.0</td>\n",
              "      <td>43.666667</td>\n",
              "      <td>6.0</td>\n",
              "      <td>436.0</td>\n",
              "      <td>9.0</td>\n",
              "      <td>1.0</td>\n",
              "      <td>2.0</td>\n",
              "      <td>1700.0</td>\n",
              "      <td>2.500000</td>\n",
              "      <td>0.000000</td>\n",
              "      <td>94.716668</td>\n",
              "      <td>104.716668</td>\n",
              "      <td>0.0</td>\n",
              "      <td>2.0</td>\n",
              "      <td>2.0</td>\n",
              "      <td>6.0</td>\n",
              "      <td>NaN</td>\n",
              "      <td>658.0</td>\n",
              "      <td>0</td>\n",
              "    </tr>\n",
              "    <tr>\n",
              "      <th>1</th>\n",
              "      <td>30.0</td>\n",
              "      <td>2410.0</td>\n",
              "      <td>0.0</td>\n",
              "      <td>1.0</td>\n",
              "      <td>521.166667</td>\n",
              "      <td>489.666667</td>\n",
              "      <td>599.0</td>\n",
              "      <td>1036.0</td>\n",
              "      <td>730.766667</td>\n",
              "      <td>599.0</td>\n",
              "      <td>1.0</td>\n",
              "      <td>0.0</td>\n",
              "      <td>150.666667</td>\n",
              "      <td>0.0</td>\n",
              "      <td>0.0</td>\n",
              "      <td>395.0</td>\n",
              "      <td>10.0</td>\n",
              "      <td>0.0</td>\n",
              "      <td>756.666667</td>\n",
              "      <td>836.0</td>\n",
              "      <td>1494.0</td>\n",
              "      <td>1105.733333</td>\n",
              "      <td>1.716667</td>\n",
              "      <td>284.0</td>\n",
              "      <td>479.666667</td>\n",
              "      <td>552.0</td>\n",
              "      <td>5358.0</td>\n",
              "      <td>34.0</td>\n",
              "      <td>2.0</td>\n",
              "      <td>7.0</td>\n",
              "      <td>2570.0</td>\n",
              "      <td>50.000000</td>\n",
              "      <td>53.333333</td>\n",
              "      <td>-189.929226</td>\n",
              "      <td>-29.929226</td>\n",
              "      <td>27.0</td>\n",
              "      <td>1.0</td>\n",
              "      <td>1.0</td>\n",
              "      <td>NaN</td>\n",
              "      <td>166.0</td>\n",
              "      <td>3705.0</td>\n",
              "      <td>0</td>\n",
              "    </tr>\n",
              "    <tr>\n",
              "      <th>2</th>\n",
              "      <td>30.0</td>\n",
              "      <td>1719.0</td>\n",
              "      <td>0.0</td>\n",
              "      <td>1.0</td>\n",
              "      <td>136.000000</td>\n",
              "      <td>108.333333</td>\n",
              "      <td>87.0</td>\n",
              "      <td>174.0</td>\n",
              "      <td>168.916667</td>\n",
              "      <td>88.0</td>\n",
              "      <td>0.0</td>\n",
              "      <td>0.0</td>\n",
              "      <td>46.000000</td>\n",
              "      <td>0.0</td>\n",
              "      <td>0.0</td>\n",
              "      <td>49.0</td>\n",
              "      <td>3.0</td>\n",
              "      <td>0.0</td>\n",
              "      <td>97.666667</td>\n",
              "      <td>113.0</td>\n",
              "      <td>190.0</td>\n",
              "      <td>189.400000</td>\n",
              "      <td>0.016667</td>\n",
              "      <td>66.0</td>\n",
              "      <td>48.000000</td>\n",
              "      <td>46.0</td>\n",
              "      <td>878.0</td>\n",
              "      <td>15.0</td>\n",
              "      <td>1.0</td>\n",
              "      <td>2.0</td>\n",
              "      <td>1930.0</td>\n",
              "      <td>0.000000</td>\n",
              "      <td>0.000000</td>\n",
              "      <td>41.217949</td>\n",
              "      <td>252.217949</td>\n",
              "      <td>0.0</td>\n",
              "      <td>1.0</td>\n",
              "      <td>5.0</td>\n",
              "      <td>340.0</td>\n",
              "      <td>NaN</td>\n",
              "      <td>606.0</td>\n",
              "      <td>0</td>\n",
              "    </tr>\n",
              "    <tr>\n",
              "      <th>3</th>\n",
              "      <td>12.0</td>\n",
              "      <td>0.0</td>\n",
              "      <td>0.0</td>\n",
              "      <td>1.0</td>\n",
              "      <td>27.500000</td>\n",
              "      <td>11.666667</td>\n",
              "      <td>2.0</td>\n",
              "      <td>7.0</td>\n",
              "      <td>5.416667</td>\n",
              "      <td>3.0</td>\n",
              "      <td>1.0</td>\n",
              "      <td>0.0</td>\n",
              "      <td>1.666667</td>\n",
              "      <td>0.0</td>\n",
              "      <td>0.0</td>\n",
              "      <td>0.0</td>\n",
              "      <td>6.0</td>\n",
              "      <td>0.0</td>\n",
              "      <td>77.333333</td>\n",
              "      <td>14.0</td>\n",
              "      <td>80.0</td>\n",
              "      <td>22.550000</td>\n",
              "      <td>0.000000</td>\n",
              "      <td>2.0</td>\n",
              "      <td>59.333333</td>\n",
              "      <td>12.0</td>\n",
              "      <td>1352.0</td>\n",
              "      <td>0.0</td>\n",
              "      <td>0.0</td>\n",
              "      <td>0.0</td>\n",
              "      <td>50.0</td>\n",
              "      <td>2.500000</td>\n",
              "      <td>0.000000</td>\n",
              "      <td>1.166614</td>\n",
              "      <td>1.166614</td>\n",
              "      <td>30.0</td>\n",
              "      <td>3.0</td>\n",
              "      <td>6.0</td>\n",
              "      <td>354.0</td>\n",
              "      <td>354.0</td>\n",
              "      <td>467.0</td>\n",
              "      <td>0</td>\n",
              "    </tr>\n",
              "    <tr>\n",
              "      <th>4</th>\n",
              "      <td>30.0</td>\n",
              "      <td>799.0</td>\n",
              "      <td>0.0</td>\n",
              "      <td>1.0</td>\n",
              "      <td>6.500000</td>\n",
              "      <td>6.666667</td>\n",
              "      <td>5.0</td>\n",
              "      <td>10.0</td>\n",
              "      <td>4.033333</td>\n",
              "      <td>5.0</td>\n",
              "      <td>0.0</td>\n",
              "      <td>0.0</td>\n",
              "      <td>0.333333</td>\n",
              "      <td>0.0</td>\n",
              "      <td>0.0</td>\n",
              "      <td>4.0</td>\n",
              "      <td>0.0</td>\n",
              "      <td>0.0</td>\n",
              "      <td>12.000000</td>\n",
              "      <td>9.0</td>\n",
              "      <td>23.0</td>\n",
              "      <td>8.583333</td>\n",
              "      <td>0.000000</td>\n",
              "      <td>4.0</td>\n",
              "      <td>10.333333</td>\n",
              "      <td>5.0</td>\n",
              "      <td>87.0</td>\n",
              "      <td>0.0</td>\n",
              "      <td>0.0</td>\n",
              "      <td>0.0</td>\n",
              "      <td>0.0</td>\n",
              "      <td>0.000000</td>\n",
              "      <td>0.000000</td>\n",
              "      <td>-11082.129032</td>\n",
              "      <td>-11881.129032</td>\n",
              "      <td>30.0</td>\n",
              "      <td>1.0</td>\n",
              "      <td>2.0</td>\n",
              "      <td>208.0</td>\n",
              "      <td>288.0</td>\n",
              "      <td>446.0</td>\n",
              "      <td>0</td>\n",
              "    </tr>\n",
              "    <tr>\n",
              "      <th>...</th>\n",
              "      <td>...</td>\n",
              "      <td>...</td>\n",
              "      <td>...</td>\n",
              "      <td>...</td>\n",
              "      <td>...</td>\n",
              "      <td>...</td>\n",
              "      <td>...</td>\n",
              "      <td>...</td>\n",
              "      <td>...</td>\n",
              "      <td>...</td>\n",
              "      <td>...</td>\n",
              "      <td>...</td>\n",
              "      <td>...</td>\n",
              "      <td>...</td>\n",
              "      <td>...</td>\n",
              "      <td>...</td>\n",
              "      <td>...</td>\n",
              "      <td>...</td>\n",
              "      <td>...</td>\n",
              "      <td>...</td>\n",
              "      <td>...</td>\n",
              "      <td>...</td>\n",
              "      <td>...</td>\n",
              "      <td>...</td>\n",
              "      <td>...</td>\n",
              "      <td>...</td>\n",
              "      <td>...</td>\n",
              "      <td>...</td>\n",
              "      <td>...</td>\n",
              "      <td>...</td>\n",
              "      <td>...</td>\n",
              "      <td>...</td>\n",
              "      <td>...</td>\n",
              "      <td>...</td>\n",
              "      <td>...</td>\n",
              "      <td>...</td>\n",
              "      <td>...</td>\n",
              "      <td>...</td>\n",
              "      <td>...</td>\n",
              "      <td>...</td>\n",
              "      <td>...</td>\n",
              "      <td>...</td>\n",
              "    </tr>\n",
              "    <tr>\n",
              "      <th>129982</th>\n",
              "      <td>30.0</td>\n",
              "      <td>1500.0</td>\n",
              "      <td>0.0</td>\n",
              "      <td>1.0</td>\n",
              "      <td>48.166667</td>\n",
              "      <td>52.000000</td>\n",
              "      <td>59.0</td>\n",
              "      <td>115.0</td>\n",
              "      <td>305.366667</td>\n",
              "      <td>59.0</td>\n",
              "      <td>0.0</td>\n",
              "      <td>0.0</td>\n",
              "      <td>13.000000</td>\n",
              "      <td>0.0</td>\n",
              "      <td>1.0</td>\n",
              "      <td>29.0</td>\n",
              "      <td>0.0</td>\n",
              "      <td>0.0</td>\n",
              "      <td>72.333333</td>\n",
              "      <td>64.0</td>\n",
              "      <td>147.0</td>\n",
              "      <td>412.366667</td>\n",
              "      <td>0.000000</td>\n",
              "      <td>9.0</td>\n",
              "      <td>60.666667</td>\n",
              "      <td>54.0</td>\n",
              "      <td>807.0</td>\n",
              "      <td>5.0</td>\n",
              "      <td>1.0</td>\n",
              "      <td>2.0</td>\n",
              "      <td>1635.0</td>\n",
              "      <td>0.000000</td>\n",
              "      <td>0.000000</td>\n",
              "      <td>6.260837</td>\n",
              "      <td>1.594170</td>\n",
              "      <td>28.0</td>\n",
              "      <td>1.0</td>\n",
              "      <td>1.0</td>\n",
              "      <td>NaN</td>\n",
              "      <td>NaN</td>\n",
              "      <td>817.0</td>\n",
              "      <td>0</td>\n",
              "    </tr>\n",
              "    <tr>\n",
              "      <th>129983</th>\n",
              "      <td>30.0</td>\n",
              "      <td>1690.0</td>\n",
              "      <td>0.0</td>\n",
              "      <td>1.0</td>\n",
              "      <td>399.833333</td>\n",
              "      <td>379.333333</td>\n",
              "      <td>430.0</td>\n",
              "      <td>717.0</td>\n",
              "      <td>485.400000</td>\n",
              "      <td>438.0</td>\n",
              "      <td>2.0</td>\n",
              "      <td>0.0</td>\n",
              "      <td>42.666667</td>\n",
              "      <td>4.0</td>\n",
              "      <td>0.0</td>\n",
              "      <td>366.0</td>\n",
              "      <td>11.0</td>\n",
              "      <td>0.0</td>\n",
              "      <td>390.000000</td>\n",
              "      <td>464.0</td>\n",
              "      <td>721.0</td>\n",
              "      <td>531.033333</td>\n",
              "      <td>3.500000</td>\n",
              "      <td>65.0</td>\n",
              "      <td>335.000000</td>\n",
              "      <td>399.0</td>\n",
              "      <td>3935.0</td>\n",
              "      <td>6.0</td>\n",
              "      <td>1.0</td>\n",
              "      <td>2.0</td>\n",
              "      <td>1918.0</td>\n",
              "      <td>0.000000</td>\n",
              "      <td>0.000000</td>\n",
              "      <td>302.382227</td>\n",
              "      <td>15.048894</td>\n",
              "      <td>5.0</td>\n",
              "      <td>2.0</td>\n",
              "      <td>2.0</td>\n",
              "      <td>3.0</td>\n",
              "      <td>NaN</td>\n",
              "      <td>1521.0</td>\n",
              "      <td>0</td>\n",
              "    </tr>\n",
              "    <tr>\n",
              "      <th>129984</th>\n",
              "      <td>30.0</td>\n",
              "      <td>2590.0</td>\n",
              "      <td>0.0</td>\n",
              "      <td>1.0</td>\n",
              "      <td>80.833333</td>\n",
              "      <td>82.000000</td>\n",
              "      <td>79.0</td>\n",
              "      <td>182.0</td>\n",
              "      <td>572.350000</td>\n",
              "      <td>79.0</td>\n",
              "      <td>0.0</td>\n",
              "      <td>0.0</td>\n",
              "      <td>50.666667</td>\n",
              "      <td>0.0</td>\n",
              "      <td>0.0</td>\n",
              "      <td>32.0</td>\n",
              "      <td>0.0</td>\n",
              "      <td>0.0</td>\n",
              "      <td>72.000000</td>\n",
              "      <td>89.0</td>\n",
              "      <td>151.0</td>\n",
              "      <td>496.016667</td>\n",
              "      <td>0.000000</td>\n",
              "      <td>53.0</td>\n",
              "      <td>21.666667</td>\n",
              "      <td>32.0</td>\n",
              "      <td>237.0</td>\n",
              "      <td>29.0</td>\n",
              "      <td>1.0</td>\n",
              "      <td>2.0</td>\n",
              "      <td>2600.0</td>\n",
              "      <td>29.555556</td>\n",
              "      <td>0.000000</td>\n",
              "      <td>630.323509</td>\n",
              "      <td>640.323509</td>\n",
              "      <td>0.0</td>\n",
              "      <td>1.0</td>\n",
              "      <td>1.0</td>\n",
              "      <td>NaN</td>\n",
              "      <td>NaN</td>\n",
              "      <td>1518.0</td>\n",
              "      <td>0</td>\n",
              "    </tr>\n",
              "    <tr>\n",
              "      <th>129985</th>\n",
              "      <td>30.0</td>\n",
              "      <td>5130.0</td>\n",
              "      <td>0.0</td>\n",
              "      <td>1.0</td>\n",
              "      <td>183.333333</td>\n",
              "      <td>184.666667</td>\n",
              "      <td>148.0</td>\n",
              "      <td>337.0</td>\n",
              "      <td>335.433333</td>\n",
              "      <td>154.0</td>\n",
              "      <td>0.0</td>\n",
              "      <td>0.0</td>\n",
              "      <td>20.000000</td>\n",
              "      <td>0.0</td>\n",
              "      <td>0.0</td>\n",
              "      <td>138.0</td>\n",
              "      <td>10.0</td>\n",
              "      <td>0.0</td>\n",
              "      <td>133.000000</td>\n",
              "      <td>131.0</td>\n",
              "      <td>263.0</td>\n",
              "      <td>280.450000</td>\n",
              "      <td>7.716667</td>\n",
              "      <td>51.0</td>\n",
              "      <td>92.000000</td>\n",
              "      <td>80.0</td>\n",
              "      <td>1149.0</td>\n",
              "      <td>5.0</td>\n",
              "      <td>3.0</td>\n",
              "      <td>4.0</td>\n",
              "      <td>1800.0</td>\n",
              "      <td>0.000000</td>\n",
              "      <td>0.000000</td>\n",
              "      <td>110.377798</td>\n",
              "      <td>382.377798</td>\n",
              "      <td>0.0</td>\n",
              "      <td>2.0</td>\n",
              "      <td>3.0</td>\n",
              "      <td>328.0</td>\n",
              "      <td>NaN</td>\n",
              "      <td>2375.0</td>\n",
              "      <td>0</td>\n",
              "    </tr>\n",
              "    <tr>\n",
              "      <th>129986</th>\n",
              "      <td>30.0</td>\n",
              "      <td>1700.0</td>\n",
              "      <td>0.0</td>\n",
              "      <td>1.0</td>\n",
              "      <td>158.666667</td>\n",
              "      <td>164.666667</td>\n",
              "      <td>167.0</td>\n",
              "      <td>327.0</td>\n",
              "      <td>326.266667</td>\n",
              "      <td>169.0</td>\n",
              "      <td>2.0</td>\n",
              "      <td>0.0</td>\n",
              "      <td>53.333333</td>\n",
              "      <td>0.0</td>\n",
              "      <td>0.0</td>\n",
              "      <td>93.0</td>\n",
              "      <td>27.0</td>\n",
              "      <td>0.0</td>\n",
              "      <td>112.333333</td>\n",
              "      <td>105.0</td>\n",
              "      <td>226.0</td>\n",
              "      <td>113.933333</td>\n",
              "      <td>0.000000</td>\n",
              "      <td>33.0</td>\n",
              "      <td>70.000000</td>\n",
              "      <td>69.0</td>\n",
              "      <td>579.0</td>\n",
              "      <td>26.0</td>\n",
              "      <td>1.0</td>\n",
              "      <td>2.0</td>\n",
              "      <td>1710.0</td>\n",
              "      <td>5.666667</td>\n",
              "      <td>2.333333</td>\n",
              "      <td>1.681420</td>\n",
              "      <td>1.681420</td>\n",
              "      <td>30.0</td>\n",
              "      <td>4.0</td>\n",
              "      <td>5.0</td>\n",
              "      <td>308.0</td>\n",
              "      <td>NaN</td>\n",
              "      <td>1491.0</td>\n",
              "      <td>0</td>\n",
              "    </tr>\n",
              "  </tbody>\n",
              "</table>\n",
              "<p>129987 rows × 42 columns</p>\n",
              "</div>"
            ],
            "text/plain": [
              "         F_0     F_1  F_2  F_3         F_4  ...  F_37   F_38   F_39    F_40  Label\n",
              "0       30.0  1590.0  0.0  1.0  195.666667  ...   2.0    6.0    NaN   658.0      0\n",
              "1       30.0  2410.0  0.0  1.0  521.166667  ...   1.0    NaN  166.0  3705.0      0\n",
              "2       30.0  1719.0  0.0  1.0  136.000000  ...   5.0  340.0    NaN   606.0      0\n",
              "3       12.0     0.0  0.0  1.0   27.500000  ...   6.0  354.0  354.0   467.0      0\n",
              "4       30.0   799.0  0.0  1.0    6.500000  ...   2.0  208.0  288.0   446.0      0\n",
              "...      ...     ...  ...  ...         ...  ...   ...    ...    ...     ...    ...\n",
              "129982  30.0  1500.0  0.0  1.0   48.166667  ...   1.0    NaN    NaN   817.0      0\n",
              "129983  30.0  1690.0  0.0  1.0  399.833333  ...   2.0    3.0    NaN  1521.0      0\n",
              "129984  30.0  2590.0  0.0  1.0   80.833333  ...   1.0    NaN    NaN  1518.0      0\n",
              "129985  30.0  5130.0  0.0  1.0  183.333333  ...   3.0  328.0    NaN  2375.0      0\n",
              "129986  30.0  1700.0  0.0  1.0  158.666667  ...   5.0  308.0    NaN  1491.0      0\n",
              "\n",
              "[129987 rows x 42 columns]"
            ]
          },
          "metadata": {
            "tags": []
          },
          "execution_count": 80
        }
      ]
    },
    {
      "cell_type": "code",
      "metadata": {
        "id": "G3qom_230DZr",
        "colab": {
          "base_uri": "https://localhost:8080/",
          "height": 35
        },
        "outputId": "92598ac3-0274-448d-865c-e36332558a43"
      },
      "source": [
        "len(test)"
      ],
      "execution_count": null,
      "outputs": [
        {
          "output_type": "execute_result",
          "data": {
            "text/plain": [
              "55671"
            ]
          },
          "metadata": {
            "tags": []
          },
          "execution_count": 122
        }
      ]
    },
    {
      "cell_type": "code",
      "metadata": {
        "id": "Cj6y7XX9np_U"
      },
      "source": [
        "def normalize(df):\n",
        "    result = df.copy()\n",
        "    for feature_name in df.columns:\n",
        "        max_value = df[feature_name].max()\n",
        "        min_value = df[feature_name].min()\n",
        "        result[feature_name] = (df[feature_name] - min_value) / (max_value - min_value)\n",
        "    return result"
      ],
      "execution_count": null,
      "outputs": []
    },
    {
      "cell_type": "code",
      "metadata": {
        "id": "kIutijQfnp_k"
      },
      "source": [
        "def correlation(dataset, threshold):\n",
        "    col_corr = set() # Set of all the names of deleted columns\n",
        "    corr_matrix = dataset.corr()\n",
        "    for i in range(len(corr_matrix.columns)):\n",
        "        for j in range(i):\n",
        "            if (corr_matrix.iloc[i, j] >= threshold) and (corr_matrix.columns[j] not in col_corr):\n",
        "                colname = corr_matrix.columns[i] # getting the name of column\n",
        "                col_corr.add(colname)\n",
        "                if colname in dataset.columns:\n",
        "                    del dataset[colname] # deleting the column from the dataset\n",
        "\n",
        "    return dataset"
      ],
      "execution_count": null,
      "outputs": []
    },
    {
      "cell_type": "code",
      "metadata": {
        "id": "VyBlKJI9np_3"
      },
      "source": [
        "data_2 = pd.DataFrame(correlation(df, 0.80))"
      ],
      "execution_count": null,
      "outputs": []
    },
    {
      "cell_type": "code",
      "metadata": {
        "id": "yaUJATGhnqAG"
      },
      "source": [
        "# from numpy import nan\n",
        "# df_n = data_2[data_2['F_38'].notnull()]\n",
        "# len(df_n)\n",
        "# df_n.head()\n",
        "df_n = data_2"
      ],
      "execution_count": null,
      "outputs": []
    },
    {
      "cell_type": "code",
      "metadata": {
        "id": "VeRqHDPfnqAX"
      },
      "source": [
        "df_n = df_n.drop(['F_39','F_11', 'F_13', 'F_10','F_17', 'F_16', 'F_30', 'F_31', 'F_2', 'F_22', 'F_38', 'F_28'],axis=1)"
      ],
      "execution_count": null,
      "outputs": []
    },
    {
      "cell_type": "code",
      "metadata": {
        "id": "aH5HLl-onqAm"
      },
      "source": [
        "df_n = df_n.drop(['F_27','F_3'],axis=1)"
      ],
      "execution_count": null,
      "outputs": []
    },
    {
      "cell_type": "code",
      "metadata": {
        "id": "sbSGH-n9nqA4",
        "colab": {
          "base_uri": "https://localhost:8080/",
          "height": 35
        },
        "outputId": "d8d541b4-716c-41ed-bc0d-81aeae14b78e"
      },
      "source": [
        "from sklearn.utils import resample\n",
        "df_majority = df_n[df_n['Label']==0]\n",
        "df_minority = df_n[df_n['Label']==1]\n",
        "\n",
        "len(df_majority)\n",
        "\n",
        "len(df_minority)\n"
      ],
      "execution_count": null,
      "outputs": [
        {
          "output_type": "execute_result",
          "data": {
            "text/plain": [
              "4418"
            ]
          },
          "metadata": {
            "tags": []
          },
          "execution_count": 87
        }
      ]
    },
    {
      "cell_type": "code",
      "metadata": {
        "id": "1QhjcM0GtuW3",
        "colab": {
          "base_uri": "https://localhost:8080/",
          "height": 72
        },
        "outputId": "b7e6a712-037b-4cd9-c9dd-fa1653a82d3e"
      },
      "source": [
        "# Upsample minority class\n",
        "df_minority_upsampled = resample(df_minority, \n",
        "                                 replace=True,     # sample with replacement\n",
        "                                 n_samples=125569,    # to match majority class\n",
        "                                 random_state=123) # reproducible results\n",
        " \n",
        "# Combine majority class with upsampled minority class\n",
        "df_upsampled = pd.concat([df_majority, df_minority_upsampled])\n",
        " \n",
        "# Display new class counts\n",
        "df_upsampled[\"Label\"].value_counts()"
      ],
      "execution_count": null,
      "outputs": [
        {
          "output_type": "execute_result",
          "data": {
            "text/plain": [
              "1    125569\n",
              "0    125569\n",
              "Name: Label, dtype: int64"
            ]
          },
          "metadata": {
            "tags": []
          },
          "execution_count": 88
        }
      ]
    },
    {
      "cell_type": "code",
      "metadata": {
        "id": "PWWxPDcenqBO"
      },
      "source": [
        "df_upsampled = df_upsampled.drop(['F_33'],axis=1)"
      ],
      "execution_count": null,
      "outputs": []
    },
    {
      "cell_type": "code",
      "metadata": {
        "id": "HtkCZnDsnqBf"
      },
      "source": [
        "import seaborn as sns\n",
        "import numpy as np\n",
        "import math\n",
        "import scipy.stats as ss\n",
        "import matplotlib.pyplot as plt\n",
        "\n",
        "def skew_autotransform(DF, include = None, exclude = None, plot = False, threshold = 1, exp = False):\n",
        "    \n",
        "    #Get list of column names that should be processed based on input parameters\n",
        "    if include is None and exclude is None:\n",
        "        colnames = DF.columns.values\n",
        "    elif include is not None:\n",
        "        colnames = include\n",
        "    elif exclude is not None:\n",
        "        colnames = [item for item in list(DF.columns.values) if item not in exclude]\n",
        "    else:\n",
        "        print('No columns to process!')\n",
        "    \n",
        "    #Helper function that checks if all values are positive\n",
        "    def make_positive(series):\n",
        "        minimum = np.amin(series)\n",
        "        #If minimum is negative, offset all values by a constant to move all values to positive teritory\n",
        "        if minimum <= 0:\n",
        "            series = series + abs(minimum) + 0.01\n",
        "        return series\n",
        "    \n",
        "    \n",
        "    #Go throug desired columns in DataFrame\n",
        "    for col in colnames:\n",
        "        #Get column skewness\n",
        "        skew = DF[col].skew()\n",
        "        transformed = True\n",
        "        \n",
        "        if plot:\n",
        "            #Prep the plot of original data\n",
        "            sns.set_style(\"darkgrid\")\n",
        "            sns.set_palette(\"Blues_r\")\n",
        "            fig, axes = plt.subplots(1, 2, figsize=(10, 5))\n",
        "            ax1 = sns.distplot(DF[col], ax=axes[0])\n",
        "            ax1.set(xlabel='Original ' + col)\n",
        "        \n",
        "        #If skewness is larger than threshold and positively skewed; If yes, apply appropriate transformation\n",
        "        if abs(skew) > threshold and skew > 0:\n",
        "            skewType = 'positive'\n",
        "            #Make sure all values are positive\n",
        "            DF[col] = make_positive(DF[col])\n",
        "            \n",
        "            if exp:\n",
        "               #Apply log transformation \n",
        "               DF[col] = DF[col].apply(math.log)\n",
        "            else:\n",
        "                #Apply boxcox transformation\n",
        "                DF[col] = ss.boxcox(DF[col])[0]\n",
        "            skew_new = DF[col].skew()\n",
        "         \n",
        "        elif abs(skew) > threshold and skew < 0:\n",
        "            skewType = 'negative'\n",
        "            #Make sure all values are positive\n",
        "            DF[col] = make_positive(DF[col])\n",
        "            \n",
        "            if exp:\n",
        "               #Apply exp transformation \n",
        "               DF[col] = DF[col].pow(10)\n",
        "            else:\n",
        "                #Apply boxcox transformation\n",
        "                DF[col] = ss.boxcox(DF[col])[0]\n",
        "            skew_new = DF[col].skew()\n",
        "        \n",
        "        else:\n",
        "            #Flag if no transformation was performed\n",
        "            transformed = False\n",
        "            skew_new = skew\n",
        "        \n",
        "        #Compare before and after if plot is True\n",
        "        if plot:\n",
        "            print('\\n ------------------------------------------------------')     \n",
        "            if transformed:\n",
        "                print('\\n %r had %r skewness of %2.2f' %(col, skewType, skew))\n",
        "                print('\\n Transformation yielded skewness of %2.2f' %(skew_new))\n",
        "                sns.set_palette(\"Paired\")\n",
        "                ax2 = sns.distplot(DF[col], ax=axes[1], color = 'r')\n",
        "                ax2.set(xlabel='Transformed ' + col)\n",
        "                plt.show()\n",
        "            else:\n",
        "                print('\\n NO TRANSFORMATION APPLIED FOR %r . Skewness = %2.2f' %(col, skew))\n",
        "                ax2 = sns.distplot(DF[col], ax=axes[1])\n",
        "                ax2.set(xlabel='NO TRANSFORM ' + col)\n",
        "                plt.show()\n",
        "                \n",
        "\n",
        "    return DF"
      ],
      "execution_count": null,
      "outputs": []
    },
    {
      "cell_type": "code",
      "metadata": {
        "id": "Ks2bpxbWuJai"
      },
      "source": [
        "df_upsampled = df_upsampled[['F_4', 'F_8', 'F_12', 'F_14', 'F_18', 'F_21', 'F_23', 'F_40', 'Label']]"
      ],
      "execution_count": null,
      "outputs": []
    },
    {
      "cell_type": "code",
      "metadata": {
        "id": "8GWjfPB-nqBt",
        "colab": {
          "base_uri": "https://localhost:8080/",
          "height": 1000
        },
        "outputId": "c702b82a-85c7-4084-cf52-5131b5b8401c"
      },
      "source": [
        "transformedDF = skew_autotransform(df_upsampled.copy(deep=True), plot = True, \n",
        "                                   exp = True, threshold = 0.7, exclude = ['B','LSTAT'])\n",
        "\n",
        "print('Original average skewness value was %2.2f' %(np.mean(abs(df_upsampled.skew()))))\n",
        "print('Average skewness after transformation is %2.2f' %(np.mean(abs(transformedDF.skew()))))"
      ],
      "execution_count": null,
      "outputs": [
        {
          "output_type": "stream",
          "text": [
            "\n",
            " ------------------------------------------------------\n",
            "\n",
            " 'F_4' had 'positive' skewness of 1.82\n",
            "\n",
            " Transformation yielded skewness of -2.88\n"
          ],
          "name": "stdout"
        },
        {
          "output_type": "display_data",
          "data": {
            "image/png": "[encoded data removed]",
            "text/plain": [
              "<Figure size 720x360 with 2 Axes>"
            ]
          },
          "metadata": {
            "tags": []
          }
        },
        {
          "output_type": "stream",
          "text": [
            "\n",
            " ------------------------------------------------------\n",
            "\n",
            " 'F_8' had 'positive' skewness of 3.59\n",
            "\n",
            " Transformation yielded skewness of -2.47\n"
          ],
          "name": "stdout"
        },
        {
          "output_type": "display_data",
          "data": {
            "image/png": "[encoded data removed]",
            "text/plain": [
              "<Figure size 720x360 with 2 Axes>"
            ]
          },
          "metadata": {
            "tags": []
          }
        },
        {
          "output_type": "stream",
          "text": [
            "\n",
            " ------------------------------------------------------\n",
            "\n",
            " 'F_12' had 'positive' skewness of 2.52\n",
            "\n",
            " Transformation yielded skewness of -2.45\n"
          ],
          "name": "stdout"
        },
        {
          "output_type": "display_data",
          "data": {
            "image/png": "[encoded data removed]",
            "text/plain": [
              "<Figure size 720x360 with 2 Axes>"
            ]
          },
          "metadata": {
            "tags": []
          }
        },
        {
          "output_type": "stream",
          "text": [
            "\n",
            " ------------------------------------------------------\n",
            "\n",
            " 'F_14' had 'positive' skewness of 10.87\n",
            "\n",
            " Transformation yielded skewness of 0.20\n"
          ],
          "name": "stdout"
        },
        {
          "output_type": "display_data",
          "data": {
            "image/png": "[encoded data removed]",
            "text/plain": [
              "<Figure size 720x360 with 2 Axes>"
            ]
          },
          "metadata": {
            "tags": []
          }
        },
        {
          "output_type": "stream",
          "text": [
            "\n",
            " ------------------------------------------------------\n",
            "\n",
            " 'F_18' had 'positive' skewness of 2.02\n",
            "\n",
            " Transformation yielded skewness of -3.62\n"
          ],
          "name": "stdout"
        },
        {
          "output_type": "display_data",
          "data": {
            "image/png": "[encoded data removed]",
            "text/plain": [
              "<Figure size 720x360 with 2 Axes>"
            ]
          },
          "metadata": {
            "tags": []
          }
        },
        {
          "output_type": "stream",
          "text": [
            "\n",
            " ------------------------------------------------------\n",
            "\n",
            " 'F_21' had 'positive' skewness of 3.79\n",
            "\n",
            " Transformation yielded skewness of -3.43\n"
          ],
          "name": "stdout"
        },
        {
          "output_type": "display_data",
          "data": {
            "image/png": "[encoded data removed]",
            "text/plain": [
              "<Figure size 720x360 with 2 Axes>"
            ]
          },
          "metadata": {
            "tags": []
          }
        },
        {
          "output_type": "stream",
          "text": [
            "\n",
            " ------------------------------------------------------\n",
            "\n",
            " 'F_23' had 'positive' skewness of 2.94\n",
            "\n",
            " Transformation yielded skewness of -2.60\n"
          ],
          "name": "stdout"
        },
        {
          "output_type": "display_data",
          "data": {
            "image/png": "[encoded data removed]",
            "text/plain": [
              "<Figure size 720x360 with 2 Axes>"
            ]
          },
          "metadata": {
            "tags": []
          }
        },
        {
          "output_type": "stream",
          "text": [
            "\n",
            " ------------------------------------------------------\n",
            "\n",
            " 'F_40' had 'positive' skewness of 1.03\n",
            "\n",
            " Transformation yielded skewness of 0.03\n"
          ],
          "name": "stdout"
        },
        {
          "output_type": "display_data",
          "data": {
            "image/png": "[encoded data removed]",
            "text/plain": [
              "<Figure size 720x360 with 2 Axes>"
            ]
          },
          "metadata": {
            "tags": []
          }
        },
        {
          "output_type": "stream",
          "text": [
            "\n",
            " ------------------------------------------------------\n",
            "\n",
            " NO TRANSFORMATION APPLIED FOR 'Label' . Skewness = 0.00\n"
          ],
          "name": "stdout"
        },
        {
          "output_type": "display_data",
          "data": {
            "image/png": "[encoded data removed]",
            "text/plain": [
              "<Figure size 720x360 with 2 Axes>"
            ]
          },
          "metadata": {
            "tags": []
          }
        },
        {
          "output_type": "stream",
          "text": [
            "Original average skewness value was 3.17\n",
            "Average skewness after transformation is 1.96\n"
          ],
          "name": "stdout"
        }
      ]
    },
    {
      "cell_type": "code",
      "metadata": {
        "id": "axbXFrz5nqB-"
      },
      "source": [
        "new = transformedDF.fillna(transformedDF.mean())"
      ],
      "execution_count": null,
      "outputs": []
    },
    {
      "cell_type": "code",
      "metadata": {
        "id": "KolPkUcTueFT",
        "colab": {
          "base_uri": "https://localhost:8080/",
          "height": 201
        },
        "outputId": "ee9006bc-8605-4034-bfc5-c1e006b87e73"
      },
      "source": [
        "new.isna().sum()"
      ],
      "execution_count": null,
      "outputs": [
        {
          "output_type": "execute_result",
          "data": {
            "text/plain": [
              "F_4      0\n",
              "F_8      0\n",
              "F_12     0\n",
              "F_14     0\n",
              "F_18     0\n",
              "F_21     0\n",
              "F_23     0\n",
              "F_40     0\n",
              "Label    0\n",
              "dtype: int64"
            ]
          },
          "metadata": {
            "tags": []
          },
          "execution_count": 96
        }
      ]
    },
    {
      "cell_type": "code",
      "metadata": {
        "id": "mWzERAC5nqCL",
        "colab": {
          "base_uri": "https://localhost:8080/",
          "height": 206
        },
        "outputId": "9943b7bd-57b2-404f-d506-e4d7d4b6dfe2"
      },
      "source": [
        "new.head()"
      ],
      "execution_count": null,
      "outputs": [
        {
          "output_type": "execute_result",
          "data": {
            "text/html": [
              "<div>\n",
              "<style scoped>\n",
              "    .dataframe tbody tr th:only-of-type {\n",
              "        vertical-align: middle;\n",
              "    }\n",
              "\n",
              "    .dataframe tbody tr th {\n",
              "        vertical-align: top;\n",
              "    }\n",
              "\n",
              "    .dataframe thead th {\n",
              "        text-align: right;\n",
              "    }\n",
              "</style>\n",
              "<table border=\"1\" class=\"dataframe\">\n",
              "  <thead>\n",
              "    <tr style=\"text-align: right;\">\n",
              "      <th></th>\n",
              "      <th>F_4</th>\n",
              "      <th>F_8</th>\n",
              "      <th>F_12</th>\n",
              "      <th>F_14</th>\n",
              "      <th>F_18</th>\n",
              "      <th>F_21</th>\n",
              "      <th>F_23</th>\n",
              "      <th>F_40</th>\n",
              "      <th>Label</th>\n",
              "    </tr>\n",
              "  </thead>\n",
              "  <tbody>\n",
              "    <tr>\n",
              "      <th>0</th>\n",
              "      <td>5.276464</td>\n",
              "      <td>5.064766</td>\n",
              "      <td>4.557484</td>\n",
              "      <td>-4.60517</td>\n",
              "      <td>4.790349</td>\n",
              "      <td>5.163795</td>\n",
              "      <td>4.248638</td>\n",
              "      <td>7.099210</td>\n",
              "      <td>0</td>\n",
              "    </tr>\n",
              "    <tr>\n",
              "      <th>1</th>\n",
              "      <td>6.256089</td>\n",
              "      <td>6.594108</td>\n",
              "      <td>5.015136</td>\n",
              "      <td>-4.60517</td>\n",
              "      <td>6.628936</td>\n",
              "      <td>7.008273</td>\n",
              "      <td>5.649009</td>\n",
              "      <td>8.356557</td>\n",
              "      <td>0</td>\n",
              "    </tr>\n",
              "    <tr>\n",
              "      <th>2</th>\n",
              "      <td>4.912728</td>\n",
              "      <td>5.129465</td>\n",
              "      <td>3.828859</td>\n",
              "      <td>-4.60517</td>\n",
              "      <td>4.581663</td>\n",
              "      <td>5.243914</td>\n",
              "      <td>4.189806</td>\n",
              "      <td>7.055321</td>\n",
              "      <td>0</td>\n",
              "    </tr>\n",
              "    <tr>\n",
              "      <th>3</th>\n",
              "      <td>3.314550</td>\n",
              "      <td>1.691325</td>\n",
              "      <td>0.516808</td>\n",
              "      <td>-4.60517</td>\n",
              "      <td>4.348254</td>\n",
              "      <td>3.116178</td>\n",
              "      <td>0.698135</td>\n",
              "      <td>6.927568</td>\n",
              "      <td>0</td>\n",
              "    </tr>\n",
              "    <tr>\n",
              "      <th>4</th>\n",
              "      <td>1.873339</td>\n",
              "      <td>1.397069</td>\n",
              "      <td>-1.069053</td>\n",
              "      <td>-4.60517</td>\n",
              "      <td>2.485740</td>\n",
              "      <td>2.150987</td>\n",
              "      <td>1.388791</td>\n",
              "      <td>6.906765</td>\n",
              "      <td>0</td>\n",
              "    </tr>\n",
              "  </tbody>\n",
              "</table>\n",
              "</div>"
            ],
            "text/plain": [
              "        F_4       F_8      F_12     F_14  ...      F_21      F_23      F_40  Label\n",
              "0  5.276464  5.064766  4.557484 -4.60517  ...  5.163795  4.248638  7.099210      0\n",
              "1  6.256089  6.594108  5.015136 -4.60517  ...  7.008273  5.649009  8.356557      0\n",
              "2  4.912728  5.129465  3.828859 -4.60517  ...  5.243914  4.189806  7.055321      0\n",
              "3  3.314550  1.691325  0.516808 -4.60517  ...  3.116178  0.698135  6.927568      0\n",
              "4  1.873339  1.397069 -1.069053 -4.60517  ...  2.150987  1.388791  6.906765      0\n",
              "\n",
              "[5 rows x 9 columns]"
            ]
          },
          "metadata": {
            "tags": []
          },
          "execution_count": 97
        }
      ]
    },
    {
      "cell_type": "code",
      "metadata": {
        "id": "dPrNBTR9nqCb",
        "colab": {
          "base_uri": "https://localhost:8080/",
          "height": 1000
        },
        "outputId": "41a405ef-8f18-4295-db5f-cd82a7febadd"
      },
      "source": [
        "new.hist(bins=20, figsize = (16,18))"
      ],
      "execution_count": null,
      "outputs": [
        {
          "output_type": "execute_result",
          "data": {
            "text/plain": [
              "array([[<matplotlib.axes._subplots.AxesSubplot object at 0x7f9deeec7710>,\n",
              "        <matplotlib.axes._subplots.AxesSubplot object at 0x7f9def3b76a0>,\n",
              "        <matplotlib.axes._subplots.AxesSubplot object at 0x7f9dee5f0dd8>],\n",
              "       [<matplotlib.axes._subplots.AxesSubplot object at 0x7f9dee5f6588>,\n",
              "        <matplotlib.axes._subplots.AxesSubplot object at 0x7f9def566cf8>,\n",
              "        <matplotlib.axes._subplots.AxesSubplot object at 0x7f9dee73d4a8>],\n",
              "       [<matplotlib.axes._subplots.AxesSubplot object at 0x7f9dee7b1c18>,\n",
              "        <matplotlib.axes._subplots.AxesSubplot object at 0x7f9deea2d390>,\n",
              "        <matplotlib.axes._subplots.AxesSubplot object at 0x7f9deea2d400>]],\n",
              "      dtype=object)"
            ]
          },
          "metadata": {
            "tags": []
          },
          "execution_count": 98
        },
        {
          "output_type": "display_data",
          "data": {
            "image/png": "[encoded data removed]",
            "text/plain": [
              "<Figure size 1152x1296 with 9 Axes>"
            ]
          },
          "metadata": {
            "tags": []
          }
        }
      ]
    },
    {
      "cell_type": "code",
      "metadata": {
        "id": "tsr4aAStnqCn"
      },
      "source": [
        "tr = transformedDF.drop(['F_0','F_1', 'F_35'],axis=1)"
      ],
      "execution_count": null,
      "outputs": []
    },
    {
      "cell_type": "code",
      "metadata": {
        "id": "qyicSV9YnqDH",
        "colab": {
          "base_uri": "https://localhost:8080/",
          "height": 72
        },
        "outputId": "063cb5a1-9209-4d94-f383-fb1dffe4d05f"
      },
      "source": [
        "tr.columns"
      ],
      "execution_count": null,
      "outputs": [
        {
          "output_type": "execute_result",
          "data": {
            "text/plain": [
              "Index(['F_4', 'F_8', 'F_12', 'F_14', 'F_18', 'F_21', 'F_23', 'F_28', 'F_36',\n",
              "       'F_38', 'F_40', 'Label'],\n",
              "      dtype='object')"
            ]
          },
          "metadata": {
            "tags": []
          },
          "execution_count": 25
        }
      ]
    },
    {
      "cell_type": "code",
      "metadata": {
        "id": "njA-hAMWnqDT"
      },
      "source": [
        "import pandas as pd\n",
        "import numpy as np\n",
        "from sklearn.metrics import roc_auc_score, accuracy_score, precision_score, recall_score, f1_score\n",
        "from sklearn.linear_model import LogisticRegression\n",
        "from sklearn.tree import DecisionTreeClassifier\n",
        "from sklearn.svm import SVC\n",
        "from sklearn.ensemble import RandomForestClassifier\n",
        "from sklearn.discriminant_analysis import LinearDiscriminantAnalysis, QuadraticDiscriminantAnalysis\n",
        "from sklearn.cluster import KMeans\n",
        "from sklearn.neighbors import KNeighborsClassifier\n",
        "from sklearn.naive_bayes import GaussianNB\n",
        "from sklearn.metrics import precision_recall_fscore_support\n",
        "from sklearn.metrics import mean_squared_error as mse\n",
        "from sklearn.preprocessing import StandardScaler\n",
        "from sklearn.model_selection import cross_validate\n",
        "from sklearn.model_selection import train_test_split\n",
        "from sklearn.ensemble import ExtraTreesClassifier\n",
        "from sklearn.feature_selection import SelectFromModel\n",
        "from sklearn.svm import LinearSVC\n",
        "from sklearn.ensemble import VotingClassifier\n",
        "from sklearn.feature_selection import RFECV"
      ],
      "execution_count": null,
      "outputs": []
    },
    {
      "cell_type": "code",
      "metadata": {
        "id": "RL_aCEV5nqDl"
      },
      "source": [
        "\n",
        "\n",
        "import warnings\n",
        "warnings.filterwarnings('ignore')\n",
        "\n"
      ],
      "execution_count": null,
      "outputs": []
    },
    {
      "cell_type": "code",
      "metadata": {
        "id": "6VCkICTdnqDy"
      },
      "source": [
        "from sklearn.model_selection import train_test_split\n",
        "X_train, x_test, y_train, y_test = train_test_split(tr.iloc[:, :-1],tr.iloc[:, -1], test_size=0.25, random_state=0)"
      ],
      "execution_count": null,
      "outputs": []
    },
    {
      "cell_type": "code",
      "metadata": {
        "id": "FFa5aXZlnqD_"
      },
      "source": [
        "X_train, X_test, y_train, y_test = train_test_split(tr.iloc[:, :-1],tr.iloc[:, -1],test_size=0.34)"
      ],
      "execution_count": null,
      "outputs": []
    },
    {
      "cell_type": "code",
      "metadata": {
        "id": "FvqLrtDunqEK",
        "colab": {
          "base_uri": "https://localhost:8080/",
          "height": 72
        },
        "outputId": "628f2603-6bdb-4c46-e0d7-77e18f2baede"
      },
      "source": [
        "tr['Label'].value_counts()"
      ],
      "execution_count": null,
      "outputs": [
        {
          "output_type": "execute_result",
          "data": {
            "text/plain": [
              "1    89463\n",
              "0    89463\n",
              "Name: Label, dtype: int64"
            ]
          },
          "metadata": {
            "tags": []
          },
          "execution_count": 30
        }
      ]
    },
    {
      "cell_type": "code",
      "metadata": {
        "id": "tUxwN_SvnqEW"
      },
      "source": [
        "LR = LogisticRegression()\n",
        "\n",
        "scoring = ['accuracy', 'precision_macro', 'recall_macro' , 'f1_weighted', 'roc_auc']\n",
        "scores = cross_validate(LR, X_train, y_train, scoring=scoring, cv=20)\n",
        "\n",
        "sorted(scores.keys())\n",
        "LR_fit_time = scores['fit_time'].mean()\n",
        "LR_score_time = scores['score_time'].mean()\n",
        "LR_accuracy = scores['test_accuracy'].mean()\n",
        "LR_precision = scores['test_precision_macro'].mean()\n",
        "LR_recall = scores['test_recall_macro'].mean()\n",
        "LR_f1 = scores['test_f1_weighted'].mean()\n",
        "LR_roc = scores['test_roc_auc'].mean()"
      ],
      "execution_count": null,
      "outputs": []
    },
    {
      "cell_type": "code",
      "metadata": {
        "id": "ynRJBxcsnqEj"
      },
      "source": [
        "\n",
        "\n",
        "decision_tree = DecisionTreeClassifier()\n",
        "\n",
        "scoring = ['accuracy', 'precision_macro', 'recall_macro' , 'f1_weighted', 'roc_auc']\n",
        "scores = cross_validate(decision_tree, X_train, y_train, scoring=scoring, cv=20)\n",
        "\n",
        "sorted(scores.keys())\n",
        "dtree_fit_time = scores['fit_time'].mean()\n",
        "dtree_score_time = scores['score_time'].mean()\n",
        "dtree_accuracy = scores['test_accuracy'].mean()\n",
        "dtree_precision = scores['test_precision_macro'].mean()\n",
        "dtree_recall = scores['test_recall_macro'].mean()\n",
        "dtree_f1 = scores['test_f1_weighted'].mean()\n",
        "dtree_roc = scores['test_roc_auc'].mean()\n",
        "\n"
      ],
      "execution_count": null,
      "outputs": []
    },
    {
      "cell_type": "code",
      "metadata": {
        "id": "hyVsT519nqEv"
      },
      "source": [
        "\n",
        "\n",
        "# SVM = SVC(probability = True)\n",
        "\n",
        "# scoring = ['accuracy','precision_macro', 'recall_macro' , 'f1_weighted', 'roc_auc']\n",
        "# scores = cross_validate(SVM, X_train, y_train, scoring=scoring, cv=20)\n",
        "\n",
        "# sorted(scores.keys())\n",
        "# SVM_fit_time = scores['fit_time'].mean()\n",
        "# SVM_score_time = scores['score_time'].mean()\n",
        "# SVM_accuracy = scores['test_accuracy'].mean()\n",
        "# SVM_precision = scores['test_precision_macro'].mean()\n",
        "# SVM_recall = scores['test_recall_macro'].mean()\n",
        "# SVM_f1 = scores['test_f1_weighted'].mean()\n",
        "# SVM_roc = scores['test_roc_auc'].mean()\n",
        "\n"
      ],
      "execution_count": null,
      "outputs": []
    },
    {
      "cell_type": "code",
      "metadata": {
        "id": "gxlPWu9bnqE7"
      },
      "source": [
        "LDA = LinearDiscriminantAnalysis()\n",
        "\n",
        "scoring = ['accuracy', 'precision_macro', 'recall_macro' , 'f1_weighted', 'roc_auc']\n",
        "scores = cross_validate(LDA, X_train, y_train, scoring=scoring, cv=20)\n",
        "\n",
        "sorted(scores.keys())\n",
        "LDA_fit_time = scores['fit_time'].mean()\n",
        "LDA_score_time = scores['score_time'].mean()\n",
        "LDA_accuracy = scores['test_accuracy'].mean()\n",
        "LDA_precision = scores['test_precision_macro'].mean()\n",
        "LDA_recall = scores['test_recall_macro'].mean()\n",
        "LDA_f1 = scores['test_f1_weighted'].mean()\n",
        "LDA_roc = scores['test_roc_auc'].mean()"
      ],
      "execution_count": null,
      "outputs": []
    },
    {
      "cell_type": "code",
      "metadata": {
        "id": "rwm1SF9YnqFM"
      },
      "source": [
        "QDA = QuadraticDiscriminantAnalysis()\n",
        "\n",
        "scoring = ['accuracy', 'precision_macro', 'recall_macro' , 'f1_weighted', 'roc_auc']\n",
        "scores = cross_validate(QDA, X_train, y_train, scoring=scoring, cv=20)\n",
        "\n",
        "sorted(scores.keys())\n",
        "QDA_fit_time = scores['fit_time'].mean()\n",
        "QDA_score_time = scores['score_time'].mean()\n",
        "QDA_accuracy = scores['test_accuracy'].mean()\n",
        "QDA_precision = scores['test_precision_macro'].mean()\n",
        "QDA_recall = scores['test_recall_macro'].mean()\n",
        "QDA_f1 = scores['test_f1_weighted'].mean()\n",
        "QDA_roc = scores['test_roc_auc'].mean()"
      ],
      "execution_count": null,
      "outputs": []
    },
    {
      "cell_type": "code",
      "metadata": {
        "id": "Ik566DsvnqGS"
      },
      "source": [
        "random_forest = RandomForestClassifier()\n",
        "\n",
        "scoring = ['accuracy', 'precision_macro', 'recall_macro' , 'f1_weighted', 'roc_auc']\n",
        "scores = cross_validate(random_forest, X_train, y_train, scoring=scoring, cv=20)\n",
        "\n",
        "sorted(scores.keys())\n",
        "forest_fit_time = scores['fit_time'].mean()\n",
        "forest_score_time = scores['score_time'].mean()\n",
        "forest_accuracy = scores['test_accuracy'].mean()\n",
        "forest_precision = scores['test_precision_macro'].mean()\n",
        "forest_recall = scores['test_recall_macro'].mean()\n",
        "forest_f1 = scores['test_f1_weighted'].mean()\n",
        "forest_roc = scores['test_roc_auc'].mean()"
      ],
      "execution_count": null,
      "outputs": []
    },
    {
      "cell_type": "code",
      "metadata": {
        "id": "ag0U6XY7nqGh"
      },
      "source": [
        "KNN = KNeighborsClassifier()\n",
        "\n",
        "scoring = ['accuracy', 'precision_macro', 'recall_macro' , 'f1_weighted', 'roc_auc']\n",
        "scores = cross_validate(KNN, X_train, y_train, scoring=scoring, cv=20)\n",
        "\n",
        "sorted(scores.keys())\n",
        "KNN_fit_time = scores['fit_time'].mean()\n",
        "KNN_score_time = scores['score_time'].mean()\n",
        "KNN_accuracy = scores['test_accuracy'].mean()\n",
        "KNN_precision = scores['test_precision_macro'].mean()\n",
        "KNN_recall = scores['test_recall_macro'].mean()\n",
        "KNN_f1 = scores['test_f1_weighted'].mean()\n",
        "KNN_roc = scores['test_roc_auc'].mean()"
      ],
      "execution_count": null,
      "outputs": []
    },
    {
      "cell_type": "code",
      "metadata": {
        "id": "fQu3oPxVnqHL"
      },
      "source": [
        "bayes = GaussianNB()\n",
        "\n",
        "scoring = ['accuracy', 'precision_macro', 'recall_macro' , 'f1_weighted', 'roc_auc']\n",
        "scores = cross_validate(bayes, X_train, y_train, scoring=scoring, cv=20)\n",
        "\n",
        "sorted(scores.keys())\n",
        "bayes_fit_time = scores['fit_time'].mean()\n",
        "bayes_score_time = scores['score_time'].mean()\n",
        "bayes_accuracy = scores['test_accuracy'].mean()\n",
        "bayes_precision = scores['test_precision_macro'].mean()\n",
        "bayes_recall = scores['test_recall_macro'].mean()\n",
        "bayes_f1 = scores['test_f1_weighted'].mean()\n",
        "bayes_roc = scores['test_roc_auc'].mean()"
      ],
      "execution_count": null,
      "outputs": []
    },
    {
      "cell_type": "code",
      "metadata": {
        "id": "WIdY1nNznqHW",
        "colab": {
          "base_uri": "https://localhost:8080/",
          "height": 269
        },
        "outputId": "a880f040-5b24-4d1e-c886-fe34066163a4"
      },
      "source": [
        "models_initial = pd.DataFrame({\n",
        "    'Model'       : ['Logistic Regression', 'Decision Tree', 'Linear Discriminant Analysis', 'Quadratic Discriminant Analysis', 'Random Forest', 'K-Nearest Neighbors', 'Bayes'],\n",
        "    'Fitting time': [LR_fit_time, dtree_fit_time, LDA_fit_time, QDA_fit_time, forest_fit_time, KNN_fit_time, bayes_fit_time],\n",
        "    'Scoring time': [LR_score_time, dtree_score_time, LDA_score_time, QDA_score_time, forest_score_time, KNN_score_time, bayes_score_time],\n",
        "    'Accuracy'    : [LR_accuracy, dtree_accuracy, LDA_accuracy, QDA_accuracy, forest_accuracy, KNN_accuracy, bayes_accuracy],\n",
        "    'Precision'   : [LR_precision, dtree_precision, LDA_precision, QDA_precision, forest_precision, KNN_precision, bayes_precision],\n",
        "    'Recall'      : [LR_recall, dtree_recall, LDA_recall, QDA_recall, forest_recall, KNN_recall, bayes_recall],\n",
        "    'F1_score'    : [LR_f1, dtree_f1, LDA_f1, QDA_f1, forest_f1, KNN_f1, bayes_f1],\n",
        "    'AUC_ROC'     : [LR_roc, dtree_roc, LDA_roc, QDA_roc, forest_roc, KNN_roc, bayes_roc],\n",
        "    }, columns = ['Model', 'Fitting time', 'Scoring time', 'Accuracy', 'Precision', 'Recall', 'F1_score', 'AUC_ROC'])\n",
        "\n",
        "models_initial.sort_values(by='Accuracy', ascending=False)"
      ],
      "execution_count": null,
      "outputs": [
        {
          "output_type": "execute_result",
          "data": {
            "text/html": [
              "<div>\n",
              "<style scoped>\n",
              "    .dataframe tbody tr th:only-of-type {\n",
              "        vertical-align: middle;\n",
              "    }\n",
              "\n",
              "    .dataframe tbody tr th {\n",
              "        vertical-align: top;\n",
              "    }\n",
              "\n",
              "    .dataframe thead th {\n",
              "        text-align: right;\n",
              "    }\n",
              "</style>\n",
              "<table border=\"1\" class=\"dataframe\">\n",
              "  <thead>\n",
              "    <tr style=\"text-align: right;\">\n",
              "      <th></th>\n",
              "      <th>Model</th>\n",
              "      <th>Fitting time</th>\n",
              "      <th>Scoring time</th>\n",
              "      <th>Accuracy</th>\n",
              "      <th>Precision</th>\n",
              "      <th>Recall</th>\n",
              "      <th>F1_score</th>\n",
              "      <th>AUC_ROC</th>\n",
              "    </tr>\n",
              "  </thead>\n",
              "  <tbody>\n",
              "    <tr>\n",
              "      <th>4</th>\n",
              "      <td>Random Forest</td>\n",
              "      <td>25.505133</td>\n",
              "      <td>0.352530</td>\n",
              "      <td>0.999001</td>\n",
              "      <td>0.999001</td>\n",
              "      <td>0.999003</td>\n",
              "      <td>0.999001</td>\n",
              "      <td>0.999924</td>\n",
              "    </tr>\n",
              "    <tr>\n",
              "      <th>1</th>\n",
              "      <td>Decision Tree</td>\n",
              "      <td>1.221700</td>\n",
              "      <td>0.017367</td>\n",
              "      <td>0.970658</td>\n",
              "      <td>0.972226</td>\n",
              "      <td>0.970732</td>\n",
              "      <td>0.970635</td>\n",
              "      <td>0.970702</td>\n",
              "    </tr>\n",
              "    <tr>\n",
              "      <th>5</th>\n",
              "      <td>K-Nearest Neighbors</td>\n",
              "      <td>0.275244</td>\n",
              "      <td>0.796303</td>\n",
              "      <td>0.930316</td>\n",
              "      <td>0.938710</td>\n",
              "      <td>0.930491</td>\n",
              "      <td>0.929988</td>\n",
              "      <td>0.974245</td>\n",
              "    </tr>\n",
              "    <tr>\n",
              "      <th>2</th>\n",
              "      <td>Linear Discriminant Analysis</td>\n",
              "      <td>0.238358</td>\n",
              "      <td>0.020854</td>\n",
              "      <td>0.652471</td>\n",
              "      <td>0.652628</td>\n",
              "      <td>0.652430</td>\n",
              "      <td>0.652358</td>\n",
              "      <td>0.705871</td>\n",
              "    </tr>\n",
              "    <tr>\n",
              "      <th>3</th>\n",
              "      <td>Quadratic Discriminant Analysis</td>\n",
              "      <td>0.078654</td>\n",
              "      <td>0.026807</td>\n",
              "      <td>0.645875</td>\n",
              "      <td>0.650741</td>\n",
              "      <td>0.645645</td>\n",
              "      <td>0.642858</td>\n",
              "      <td>0.697203</td>\n",
              "    </tr>\n",
              "    <tr>\n",
              "      <th>6</th>\n",
              "      <td>Bayes</td>\n",
              "      <td>0.035608</td>\n",
              "      <td>0.017461</td>\n",
              "      <td>0.643140</td>\n",
              "      <td>0.650160</td>\n",
              "      <td>0.642864</td>\n",
              "      <td>0.638744</td>\n",
              "      <td>0.692820</td>\n",
              "    </tr>\n",
              "    <tr>\n",
              "      <th>0</th>\n",
              "      <td>Logistic Regression</td>\n",
              "      <td>2.209965</td>\n",
              "      <td>0.020533</td>\n",
              "      <td>0.635645</td>\n",
              "      <td>0.636372</td>\n",
              "      <td>0.635551</td>\n",
              "      <td>0.635087</td>\n",
              "      <td>0.684763</td>\n",
              "    </tr>\n",
              "  </tbody>\n",
              "</table>\n",
              "</div>"
            ],
            "text/plain": [
              "                             Model  Fitting time  ...  F1_score   AUC_ROC\n",
              "4                    Random Forest     25.505133  ...  0.999001  0.999924\n",
              "1                    Decision Tree      1.221700  ...  0.970635  0.970702\n",
              "5              K-Nearest Neighbors      0.275244  ...  0.929988  0.974245\n",
              "2     Linear Discriminant Analysis      0.238358  ...  0.652358  0.705871\n",
              "3  Quadratic Discriminant Analysis      0.078654  ...  0.642858  0.697203\n",
              "6                            Bayes      0.035608  ...  0.638744  0.692820\n",
              "0              Logistic Regression      2.209965  ...  0.635087  0.684763\n",
              "\n",
              "[7 rows x 8 columns]"
            ]
          },
          "metadata": {
            "tags": []
          },
          "execution_count": 39
        }
      ]
    },
    {
      "cell_type": "code",
      "metadata": {
        "id": "wMWhOr9ipctO",
        "colab": {
          "base_uri": "https://localhost:8080/",
          "height": 72
        },
        "outputId": "e154dad3-16b8-43d4-f79f-1dcb379c4c22"
      },
      "source": [
        "tr.columns"
      ],
      "execution_count": null,
      "outputs": [
        {
          "output_type": "execute_result",
          "data": {
            "text/plain": [
              "Index(['F_4', 'F_8', 'F_12', 'F_14', 'F_18', 'F_21', 'F_23', 'F_28', 'F_36',\n",
              "       'F_38', 'F_40', 'Label'],\n",
              "      dtype='object')"
            ]
          },
          "metadata": {
            "tags": []
          },
          "execution_count": 40
        }
      ]
    },
    {
      "cell_type": "code",
      "metadata": {
        "id": "so8LAdcyvtLs"
      },
      "source": [
        "X_train, X_test, y_train, y_test = train_test_split(new.iloc[:, :-1],new.iloc[:, -1],test_size=0.34)"
      ],
      "execution_count": null,
      "outputs": []
    },
    {
      "cell_type": "code",
      "metadata": {
        "id": "lYa71aNZvwsL",
        "colab": {
          "base_uri": "https://localhost:8080/",
          "height": 237
        },
        "outputId": "179b7fe6-9f87-4edb-ef77-968e031cb37e"
      },
      "source": [
        "y_test"
      ],
      "execution_count": null,
      "outputs": [
        {
          "output_type": "execute_result",
          "data": {
            "text/plain": [
              "7865     1\n",
              "30643    1\n",
              "90741    1\n",
              "36115    1\n",
              "88802    1\n",
              "        ..\n",
              "43649    1\n",
              "5796     1\n",
              "12633    1\n",
              "78894    0\n",
              "68198    0\n",
              "Name: Label, Length: 85387, dtype: int64"
            ]
          },
          "metadata": {
            "tags": []
          },
          "execution_count": 102
        }
      ]
    },
    {
      "cell_type": "code",
      "metadata": {
        "id": "yyVW6siOtPpm",
        "colab": {
          "base_uri": "https://localhost:8080/",
          "height": 164
        },
        "outputId": "d164ab4f-4ae9-4e0b-d83a-7fdde9bdd40b"
      },
      "source": [
        "from sklearn.ensemble import RandomForestClassifier\n",
        "\n",
        "# Create the model with 100 trees\n",
        "model = RandomForestClassifier()\n",
        "\n",
        "# Fit on training data\n",
        "model.fit(X_train, y_train)"
      ],
      "execution_count": null,
      "outputs": [
        {
          "output_type": "execute_result",
          "data": {
            "text/plain": [
              "RandomForestClassifier(bootstrap=True, ccp_alpha=0.0, class_weight=None,\n",
              "                       criterion='gini', max_depth=None, max_features='auto',\n",
              "                       max_leaf_nodes=None, max_samples=None,\n",
              "                       min_impurity_decrease=0.0, min_impurity_split=None,\n",
              "                       min_samples_leaf=1, min_samples_split=2,\n",
              "                       min_weight_fraction_leaf=0.0, n_estimators=100,\n",
              "                       n_jobs=None, oob_score=False, random_state=None,\n",
              "                       verbose=0, warm_start=False)"
            ]
          },
          "metadata": {
            "tags": []
          },
          "execution_count": 168
        }
      ]
    },
    {
      "cell_type": "code",
      "metadata": {
        "id": "CGlkfvX_xCyB"
      },
      "source": [
        "\n",
        "y_pred=model.predict(X_test)"
      ],
      "execution_count": null,
      "outputs": []
    },
    {
      "cell_type": "code",
      "metadata": {
        "id": "Qxu5jo8PzwHQ",
        "colab": {
          "base_uri": "https://localhost:8080/",
          "height": 424
        },
        "outputId": "3787dea2-21eb-425a-9ca4-6264014d7059"
      },
      "source": [
        "X_test"
      ],
      "execution_count": null,
      "outputs": [
        {
          "output_type": "execute_result",
          "data": {
            "text/html": [
              "<div>\n",
              "<style scoped>\n",
              "    .dataframe tbody tr th:only-of-type {\n",
              "        vertical-align: middle;\n",
              "    }\n",
              "\n",
              "    .dataframe tbody tr th {\n",
              "        vertical-align: top;\n",
              "    }\n",
              "\n",
              "    .dataframe thead th {\n",
              "        text-align: right;\n",
              "    }\n",
              "</style>\n",
              "<table border=\"1\" class=\"dataframe\">\n",
              "  <thead>\n",
              "    <tr style=\"text-align: right;\">\n",
              "      <th></th>\n",
              "      <th>F_4</th>\n",
              "      <th>F_8</th>\n",
              "      <th>F_12</th>\n",
              "      <th>F_14</th>\n",
              "      <th>F_18</th>\n",
              "      <th>F_21</th>\n",
              "      <th>F_23</th>\n",
              "      <th>F_40</th>\n",
              "    </tr>\n",
              "  </thead>\n",
              "  <tbody>\n",
              "    <tr>\n",
              "      <th>7865</th>\n",
              "      <td>5.262742</td>\n",
              "      <td>7.108102</td>\n",
              "      <td>3.932022</td>\n",
              "      <td>1.793425</td>\n",
              "      <td>5.077317</td>\n",
              "      <td>6.337020</td>\n",
              "      <td>3.466048</td>\n",
              "      <td>6.894680</td>\n",
              "    </tr>\n",
              "    <tr>\n",
              "      <th>30643</th>\n",
              "      <td>6.066518</td>\n",
              "      <td>1.359266</td>\n",
              "      <td>3.932022</td>\n",
              "      <td>-4.605170</td>\n",
              "      <td>5.777683</td>\n",
              "      <td>5.439716</td>\n",
              "      <td>5.176206</td>\n",
              "      <td>6.946986</td>\n",
              "    </tr>\n",
              "    <tr>\n",
              "      <th>90741</th>\n",
              "      <td>5.646659</td>\n",
              "      <td>4.597911</td>\n",
              "      <td>4.676032</td>\n",
              "      <td>-4.605170</td>\n",
              "      <td>5.994817</td>\n",
              "      <td>5.340147</td>\n",
              "      <td>5.402722</td>\n",
              "      <td>7.544866</td>\n",
              "    </tr>\n",
              "    <tr>\n",
              "      <th>36115</th>\n",
              "      <td>6.176927</td>\n",
              "      <td>7.824923</td>\n",
              "      <td>4.335241</td>\n",
              "      <td>-4.605170</td>\n",
              "      <td>5.838731</td>\n",
              "      <td>7.852365</td>\n",
              "      <td>4.189806</td>\n",
              "      <td>7.208608</td>\n",
              "    </tr>\n",
              "    <tr>\n",
              "      <th>88802</th>\n",
              "      <td>5.234721</td>\n",
              "      <td>4.358545</td>\n",
              "      <td>3.885200</td>\n",
              "      <td>-4.605170</td>\n",
              "      <td>5.748363</td>\n",
              "      <td>6.149913</td>\n",
              "      <td>4.770769</td>\n",
              "      <td>6.986576</td>\n",
              "    </tr>\n",
              "    <tr>\n",
              "      <th>...</th>\n",
              "      <td>...</td>\n",
              "      <td>...</td>\n",
              "      <td>...</td>\n",
              "      <td>...</td>\n",
              "      <td>...</td>\n",
              "      <td>...</td>\n",
              "      <td>...</td>\n",
              "      <td>...</td>\n",
              "    </tr>\n",
              "    <tr>\n",
              "      <th>43649</th>\n",
              "      <td>5.323871</td>\n",
              "      <td>7.235782</td>\n",
              "      <td>3.989169</td>\n",
              "      <td>-4.605170</td>\n",
              "      <td>5.509429</td>\n",
              "      <td>7.745231</td>\n",
              "      <td>4.867611</td>\n",
              "      <td>6.978223</td>\n",
              "    </tr>\n",
              "    <tr>\n",
              "      <th>5796</th>\n",
              "      <td>5.138794</td>\n",
              "      <td>5.813613</td>\n",
              "      <td>3.555634</td>\n",
              "      <td>0.009950</td>\n",
              "      <td>4.348254</td>\n",
              "      <td>4.743133</td>\n",
              "      <td>3.332562</td>\n",
              "      <td>6.543926</td>\n",
              "    </tr>\n",
              "    <tr>\n",
              "      <th>12633</th>\n",
              "      <td>5.478595</td>\n",
              "      <td>6.245932</td>\n",
              "      <td>4.229410</td>\n",
              "      <td>-4.605170</td>\n",
              "      <td>5.672212</td>\n",
              "      <td>6.062218</td>\n",
              "      <td>3.555634</td>\n",
              "      <td>6.930505</td>\n",
              "    </tr>\n",
              "    <tr>\n",
              "      <th>78894</th>\n",
              "      <td>6.112598</td>\n",
              "      <td>5.618987</td>\n",
              "      <td>5.727965</td>\n",
              "      <td>-4.605170</td>\n",
              "      <td>6.182106</td>\n",
              "      <td>5.393143</td>\n",
              "      <td>5.129958</td>\n",
              "      <td>7.196694</td>\n",
              "    </tr>\n",
              "    <tr>\n",
              "      <th>68198</th>\n",
              "      <td>4.246255</td>\n",
              "      <td>4.600593</td>\n",
              "      <td>2.591017</td>\n",
              "      <td>3.784417</td>\n",
              "      <td>3.761433</td>\n",
              "      <td>4.090894</td>\n",
              "      <td>2.303585</td>\n",
              "      <td>6.656739</td>\n",
              "    </tr>\n",
              "  </tbody>\n",
              "</table>\n",
              "<p>85387 rows × 8 columns</p>\n",
              "</div>"
            ],
            "text/plain": [
              "            F_4       F_8      F_12  ...      F_21      F_23      F_40\n",
              "7865   5.262742  7.108102  3.932022  ...  6.337020  3.466048  6.894680\n",
              "30643  6.066518  1.359266  3.932022  ...  5.439716  5.176206  6.946986\n",
              "90741  5.646659  4.597911  4.676032  ...  5.340147  5.402722  7.544866\n",
              "36115  6.176927  7.824923  4.335241  ...  7.852365  4.189806  7.208608\n",
              "88802  5.234721  4.358545  3.885200  ...  6.149913  4.770769  6.986576\n",
              "...         ...       ...       ...  ...       ...       ...       ...\n",
              "43649  5.323871  7.235782  3.989169  ...  7.745231  4.867611  6.978223\n",
              "5796   5.138794  5.813613  3.555634  ...  4.743133  3.332562  6.543926\n",
              "12633  5.478595  6.245932  4.229410  ...  6.062218  3.555634  6.930505\n",
              "78894  6.112598  5.618987  5.727965  ...  5.393143  5.129958  7.196694\n",
              "68198  4.246255  4.600593  2.591017  ...  4.090894  2.303585  6.656739\n",
              "\n",
              "[85387 rows x 8 columns]"
            ]
          },
          "metadata": {
            "tags": []
          },
          "execution_count": 170
        }
      ]
    },
    {
      "cell_type": "code",
      "metadata": {
        "id": "I2zXnO5FyFfV",
        "colab": {
          "base_uri": "https://localhost:8080/",
          "height": 35
        },
        "outputId": "18b05948-2f34-405b-ffe7-b23f43dea70c"
      },
      "source": [
        "from sklearn import metrics\n",
        "# Model Accuracy, how often is the classifier correct?\n",
        "print(\"Accuracy:\",metrics.accuracy_score(y_test, y_pred))"
      ],
      "execution_count": null,
      "outputs": [
        {
          "output_type": "stream",
          "text": [
            "Accuracy: 0.9942262873739562\n"
          ],
          "name": "stdout"
        }
      ]
    },
    {
      "cell_type": "code",
      "metadata": {
        "id": "dvlceVxwyJ93"
      },
      "source": [
        "test_new = test[['Unnamed: 0','F_4','F_8', 'F_12', 'F_14', 'F_18', 'F_21', 'F_23', 'F_40']]"
      ],
      "execution_count": null,
      "outputs": []
    },
    {
      "cell_type": "markdown",
      "metadata": {
        "id": "iRTIzB6L0Kzx"
      },
      "source": [
        ""
      ]
    },
    {
      "cell_type": "code",
      "metadata": {
        "id": "UwdbJHqZ0Lk8",
        "colab": {
          "base_uri": "https://localhost:8080/",
          "height": 35
        },
        "outputId": "9e9834e6-c822-4121-a266-b990e11b5745"
      },
      "source": [
        "len(test_new)"
      ],
      "execution_count": null,
      "outputs": [
        {
          "output_type": "execute_result",
          "data": {
            "text/plain": [
              "55671"
            ]
          },
          "metadata": {
            "tags": []
          },
          "execution_count": 173
        }
      ]
    },
    {
      "cell_type": "code",
      "metadata": {
        "id": "B7SLFepryUDL"
      },
      "source": [
        "test_new['F_4'].fillna(value=test_new['F_4'].mean(), inplace=True)\n",
        "test_new['F_8'].fillna(value=test_new['F_8'].mean(), inplace=True)\n",
        "test_new['F_12'].fillna(value=test_new['F_12'].mean(), inplace=True)\n",
        "test_new['F_14'].fillna(value=test_new['F_14'].mean(), inplace=True)\n",
        "test_new['F_18'].fillna(value=test_new['F_18'].mean(), inplace=True)\n",
        "test_new['F_21'].fillna(value=test_new['F_21'].mean(), inplace=True)\n",
        "test_new['F_23'].fillna(value=test_new['F_23'].mean(), inplace=True)\n",
        "test_new['F_40'].fillna(value=test_new['F_40'].mean(), inplace=True)"
      ],
      "execution_count": null,
      "outputs": []
    },
    {
      "cell_type": "code",
      "metadata": {
        "id": "Chv1sTeJyaDz",
        "colab": {
          "base_uri": "https://localhost:8080/",
          "height": 201
        },
        "outputId": "bbbfd3d4-46c3-4965-bc8c-8e3be71a9581"
      },
      "source": [
        "test_new.isna().sum()"
      ],
      "execution_count": null,
      "outputs": [
        {
          "output_type": "execute_result",
          "data": {
            "text/plain": [
              "Unnamed: 0    0\n",
              "F_4           0\n",
              "F_8           0\n",
              "F_12          0\n",
              "F_14          0\n",
              "F_18          0\n",
              "F_21          0\n",
              "F_23          0\n",
              "F_40          0\n",
              "dtype: int64"
            ]
          },
          "metadata": {
            "tags": []
          },
          "execution_count": 175
        }
      ]
    },
    {
      "cell_type": "code",
      "metadata": {
        "id": "2qjmAltQy59I",
        "colab": {
          "base_uri": "https://localhost:8080/",
          "height": 206
        },
        "outputId": "4e4967a1-36ee-47d2-b133-ae9c12727a7f"
      },
      "source": [
        "m = normalize(test_new.iloc[:, 1:])\n",
        "m.head()"
      ],
      "execution_count": null,
      "outputs": [
        {
          "output_type": "execute_result",
          "data": {
            "text/html": [
              "<div>\n",
              "<style scoped>\n",
              "    .dataframe tbody tr th:only-of-type {\n",
              "        vertical-align: middle;\n",
              "    }\n",
              "\n",
              "    .dataframe tbody tr th {\n",
              "        vertical-align: top;\n",
              "    }\n",
              "\n",
              "    .dataframe thead th {\n",
              "        text-align: right;\n",
              "    }\n",
              "</style>\n",
              "<table border=\"1\" class=\"dataframe\">\n",
              "  <thead>\n",
              "    <tr style=\"text-align: right;\">\n",
              "      <th></th>\n",
              "      <th>F_4</th>\n",
              "      <th>F_8</th>\n",
              "      <th>F_12</th>\n",
              "      <th>F_14</th>\n",
              "      <th>F_18</th>\n",
              "      <th>F_21</th>\n",
              "      <th>F_23</th>\n",
              "      <th>F_40</th>\n",
              "    </tr>\n",
              "  </thead>\n",
              "  <tbody>\n",
              "    <tr>\n",
              "      <th>0</th>\n",
              "      <td>0.000273</td>\n",
              "      <td>0.000000</td>\n",
              "      <td>0.000322</td>\n",
              "      <td>0.000000</td>\n",
              "      <td>0.000000</td>\n",
              "      <td>0.000000</td>\n",
              "      <td>0.000000</td>\n",
              "      <td>0.124110</td>\n",
              "    </tr>\n",
              "    <tr>\n",
              "      <th>1</th>\n",
              "      <td>0.157871</td>\n",
              "      <td>0.019346</td>\n",
              "      <td>0.191874</td>\n",
              "      <td>0.000000</td>\n",
              "      <td>0.080099</td>\n",
              "      <td>0.004601</td>\n",
              "      <td>0.038211</td>\n",
              "      <td>0.165005</td>\n",
              "    </tr>\n",
              "    <tr>\n",
              "      <th>2</th>\n",
              "      <td>0.103188</td>\n",
              "      <td>0.023811</td>\n",
              "      <td>0.050306</td>\n",
              "      <td>0.013356</td>\n",
              "      <td>0.092334</td>\n",
              "      <td>0.018142</td>\n",
              "      <td>0.073171</td>\n",
              "      <td>0.254527</td>\n",
              "    </tr>\n",
              "    <tr>\n",
              "      <th>3</th>\n",
              "      <td>0.116359</td>\n",
              "      <td>0.035412</td>\n",
              "      <td>0.083199</td>\n",
              "      <td>0.000000</td>\n",
              "      <td>0.141656</td>\n",
              "      <td>0.026338</td>\n",
              "      <td>0.082927</td>\n",
              "      <td>0.241913</td>\n",
              "    </tr>\n",
              "    <tr>\n",
              "      <th>4</th>\n",
              "      <td>0.000000</td>\n",
              "      <td>0.000000</td>\n",
              "      <td>0.000000</td>\n",
              "      <td>0.000000</td>\n",
              "      <td>0.000000</td>\n",
              "      <td>0.000000</td>\n",
              "      <td>0.000000</td>\n",
              "      <td>0.099288</td>\n",
              "    </tr>\n",
              "  </tbody>\n",
              "</table>\n",
              "</div>"
            ],
            "text/plain": [
              "        F_4       F_8      F_12  ...      F_21      F_23      F_40\n",
              "0  0.000273  0.000000  0.000322  ...  0.000000  0.000000  0.124110\n",
              "1  0.157871  0.019346  0.191874  ...  0.004601  0.038211  0.165005\n",
              "2  0.103188  0.023811  0.050306  ...  0.018142  0.073171  0.254527\n",
              "3  0.116359  0.035412  0.083199  ...  0.026338  0.082927  0.241913\n",
              "4  0.000000  0.000000  0.000000  ...  0.000000  0.000000  0.099288\n",
              "\n",
              "[5 rows x 8 columns]"
            ]
          },
          "metadata": {
            "tags": []
          },
          "execution_count": 176
        }
      ]
    },
    {
      "cell_type": "code",
      "metadata": {
        "id": "P2CwanEH0S7l",
        "colab": {
          "base_uri": "https://localhost:8080/",
          "height": 35
        },
        "outputId": "d132111f-4bed-4c2c-c936-50d4e29723fe"
      },
      "source": [
        "len(m)"
      ],
      "execution_count": null,
      "outputs": [
        {
          "output_type": "execute_result",
          "data": {
            "text/plain": [
              "55671"
            ]
          },
          "metadata": {
            "tags": []
          },
          "execution_count": 177
        }
      ]
    },
    {
      "cell_type": "markdown",
      "metadata": {
        "id": "aPqwjWUgzdIx"
      },
      "source": [
        ""
      ]
    },
    {
      "cell_type": "code",
      "metadata": {
        "id": "j5oXiWPGy9WF"
      },
      "source": [
        "# trDF = skew_autotransform(m.copy(deep=True), plot = True, \n",
        "#                                    exp = True, threshold = 0.7, exclude = ['B','LSTAT'])\n",
        "\n",
        "# print('Original average skewness value was %2.2f' %(np.mean(abs(m.skew()))))\n",
        "# print('Average skewness after transformation is %2.2f' %(np.mean(abs(trDF.skew()))))"
      ],
      "execution_count": null,
      "outputs": []
    },
    {
      "cell_type": "code",
      "metadata": {
        "id": "TPjCMAv7zCpb"
      },
      "source": [
        "pred_u=model.predict(test_new.iloc[:, 1:])"
      ],
      "execution_count": null,
      "outputs": []
    },
    {
      "cell_type": "code",
      "metadata": {
        "id": "vzn0kabc3vzr",
        "colab": {
          "base_uri": "https://localhost:8080/",
          "height": 35
        },
        "outputId": "e3f0e9ae-4630-43e8-9812-5a3e48e9b0e4"
      },
      "source": [
        "pred_u"
      ],
      "execution_count": null,
      "outputs": [
        {
          "output_type": "execute_result",
          "data": {
            "text/plain": [
              "array([0, 0, 0, ..., 0, 0, 0])"
            ]
          },
          "metadata": {
            "tags": []
          },
          "execution_count": 193
        }
      ]
    },
    {
      "cell_type": "code",
      "metadata": {
        "id": "HBSg07mw0Ymz",
        "colab": {
          "base_uri": "https://localhost:8080/",
          "height": 35
        },
        "outputId": "5a93ff30-159d-40a5-8f25-a4321775fd19"
      },
      "source": [
        "len(trDF)"
      ],
      "execution_count": null,
      "outputs": [
        {
          "output_type": "execute_result",
          "data": {
            "text/plain": [
              "55671"
            ]
          },
          "metadata": {
            "tags": []
          },
          "execution_count": 130
        }
      ]
    },
    {
      "cell_type": "code",
      "metadata": {
        "id": "gkJwyICqz5_j",
        "colab": {
          "base_uri": "https://localhost:8080/",
          "height": 35
        },
        "outputId": "5fedc1f7-ff44-4c4f-d990-f3ca05bf00ea"
      },
      "source": [
        "len(pred_u)"
      ],
      "execution_count": null,
      "outputs": [
        {
          "output_type": "execute_result",
          "data": {
            "text/plain": [
              "55671"
            ]
          },
          "metadata": {
            "tags": []
          },
          "execution_count": 133
        }
      ]
    },
    {
      "cell_type": "code",
      "metadata": {
        "id": "2jbfOvD-z8jO",
        "colab": {
          "base_uri": "https://localhost:8080/",
          "height": 35
        },
        "outputId": "9ea00bed-3272-468a-dbc0-248d3e5ee3cf"
      },
      "source": [
        "len(test)"
      ],
      "execution_count": null,
      "outputs": [
        {
          "output_type": "execute_result",
          "data": {
            "text/plain": [
              "55671"
            ]
          },
          "metadata": {
            "tags": []
          },
          "execution_count": 120
        }
      ]
    },
    {
      "cell_type": "code",
      "metadata": {
        "id": "idIXl0aDz-sf"
      },
      "source": [
        "out = pd.DataFrame()"
      ],
      "execution_count": null,
      "outputs": []
    },
    {
      "cell_type": "code",
      "metadata": {
        "id": "dv33S9mF1AQs",
        "colab": {
          "base_uri": "https://localhost:8080/",
          "height": 244
        },
        "outputId": "5c737b12-7bef-4637-b587-7474942f0c31"
      },
      "source": [
        "test.head()"
      ],
      "execution_count": null,
      "outputs": [
        {
          "output_type": "execute_result",
          "data": {
            "text/html": [
              "<div>\n",
              "<style scoped>\n",
              "    .dataframe tbody tr th:only-of-type {\n",
              "        vertical-align: middle;\n",
              "    }\n",
              "\n",
              "    .dataframe tbody tr th {\n",
              "        vertical-align: top;\n",
              "    }\n",
              "\n",
              "    .dataframe thead th {\n",
              "        text-align: right;\n",
              "    }\n",
              "</style>\n",
              "<table border=\"1\" class=\"dataframe\">\n",
              "  <thead>\n",
              "    <tr style=\"text-align: right;\">\n",
              "      <th></th>\n",
              "      <th>Unnamed: 0</th>\n",
              "      <th>F_0</th>\n",
              "      <th>F_1</th>\n",
              "      <th>F_2</th>\n",
              "      <th>F_3</th>\n",
              "      <th>F_4</th>\n",
              "      <th>F_5</th>\n",
              "      <th>F_6</th>\n",
              "      <th>F_7</th>\n",
              "      <th>F_8</th>\n",
              "      <th>F_9</th>\n",
              "      <th>F_10</th>\n",
              "      <th>F_11</th>\n",
              "      <th>F_12</th>\n",
              "      <th>F_13</th>\n",
              "      <th>F_14</th>\n",
              "      <th>F_15</th>\n",
              "      <th>F_16</th>\n",
              "      <th>F_17</th>\n",
              "      <th>F_18</th>\n",
              "      <th>F_19</th>\n",
              "      <th>F_20</th>\n",
              "      <th>F_21</th>\n",
              "      <th>F_22</th>\n",
              "      <th>F_23</th>\n",
              "      <th>F_24</th>\n",
              "      <th>F_25</th>\n",
              "      <th>F_26</th>\n",
              "      <th>F_27</th>\n",
              "      <th>F_28</th>\n",
              "      <th>F_29</th>\n",
              "      <th>F_30</th>\n",
              "      <th>F_31</th>\n",
              "      <th>F_32</th>\n",
              "      <th>F_33</th>\n",
              "      <th>F_34</th>\n",
              "      <th>F_35</th>\n",
              "      <th>F_36</th>\n",
              "      <th>F_37</th>\n",
              "      <th>F_38</th>\n",
              "      <th>F_39</th>\n",
              "      <th>F_40</th>\n",
              "    </tr>\n",
              "  </thead>\n",
              "  <tbody>\n",
              "    <tr>\n",
              "      <th>0</th>\n",
              "      <td>16380</td>\n",
              "      <td>30.0</td>\n",
              "      <td>1690.0</td>\n",
              "      <td>0.0</td>\n",
              "      <td>1.0</td>\n",
              "      <td>0.500000</td>\n",
              "      <td>1.000000</td>\n",
              "      <td>0.0</td>\n",
              "      <td>2.0</td>\n",
              "      <td>0.000000</td>\n",
              "      <td>2.0</td>\n",
              "      <td>2.0</td>\n",
              "      <td>0.0</td>\n",
              "      <td>0.333333</td>\n",
              "      <td>0.0</td>\n",
              "      <td>0.0</td>\n",
              "      <td>0.0</td>\n",
              "      <td>2.0</td>\n",
              "      <td>0.0</td>\n",
              "      <td>0.000000</td>\n",
              "      <td>0.0</td>\n",
              "      <td>0.0</td>\n",
              "      <td>0.000000</td>\n",
              "      <td>0.000000</td>\n",
              "      <td>0.0</td>\n",
              "      <td>0.000000</td>\n",
              "      <td>0.0</td>\n",
              "      <td>0.0</td>\n",
              "      <td>0.0</td>\n",
              "      <td>1.0</td>\n",
              "      <td>3.0</td>\n",
              "      <td>1900.0</td>\n",
              "      <td>0.000000</td>\n",
              "      <td>0.000000</td>\n",
              "      <td>194.800000</td>\n",
              "      <td>404.800000</td>\n",
              "      <td>0.0</td>\n",
              "      <td>2.0</td>\n",
              "      <td>2.0</td>\n",
              "      <td>179.0</td>\n",
              "      <td>179.0</td>\n",
              "      <td>122.0</td>\n",
              "    </tr>\n",
              "    <tr>\n",
              "      <th>1</th>\n",
              "      <td>145630</td>\n",
              "      <td>30.0</td>\n",
              "      <td>2710.0</td>\n",
              "      <td>0.0</td>\n",
              "      <td>1.0</td>\n",
              "      <td>289.666667</td>\n",
              "      <td>316.666667</td>\n",
              "      <td>388.0</td>\n",
              "      <td>543.0</td>\n",
              "      <td>218.450000</td>\n",
              "      <td>389.0</td>\n",
              "      <td>1.0</td>\n",
              "      <td>0.0</td>\n",
              "      <td>198.333333</td>\n",
              "      <td>0.0</td>\n",
              "      <td>0.0</td>\n",
              "      <td>145.0</td>\n",
              "      <td>49.0</td>\n",
              "      <td>0.0</td>\n",
              "      <td>139.666667</td>\n",
              "      <td>165.0</td>\n",
              "      <td>254.0</td>\n",
              "      <td>80.200000</td>\n",
              "      <td>0.033333</td>\n",
              "      <td>47.0</td>\n",
              "      <td>89.000000</td>\n",
              "      <td>118.0</td>\n",
              "      <td>566.0</td>\n",
              "      <td>0.0</td>\n",
              "      <td>3.0</td>\n",
              "      <td>10.0</td>\n",
              "      <td>2910.0</td>\n",
              "      <td>126.666667</td>\n",
              "      <td>233.333335</td>\n",
              "      <td>1.066618</td>\n",
              "      <td>14.483347</td>\n",
              "      <td>20.0</td>\n",
              "      <td>4.0</td>\n",
              "      <td>6.0</td>\n",
              "      <td>254.0</td>\n",
              "      <td>NaN</td>\n",
              "      <td>323.0</td>\n",
              "    </tr>\n",
              "    <tr>\n",
              "      <th>2</th>\n",
              "      <td>112658</td>\n",
              "      <td>30.0</td>\n",
              "      <td>1690.0</td>\n",
              "      <td>0.0</td>\n",
              "      <td>1.0</td>\n",
              "      <td>189.333333</td>\n",
              "      <td>140.666667</td>\n",
              "      <td>173.0</td>\n",
              "      <td>192.0</td>\n",
              "      <td>268.866667</td>\n",
              "      <td>173.0</td>\n",
              "      <td>0.0</td>\n",
              "      <td>0.0</td>\n",
              "      <td>52.000000</td>\n",
              "      <td>0.0</td>\n",
              "      <td>8.0</td>\n",
              "      <td>111.0</td>\n",
              "      <td>0.0</td>\n",
              "      <td>0.0</td>\n",
              "      <td>161.000000</td>\n",
              "      <td>212.0</td>\n",
              "      <td>273.0</td>\n",
              "      <td>316.233333</td>\n",
              "      <td>0.000000</td>\n",
              "      <td>90.0</td>\n",
              "      <td>81.333333</td>\n",
              "      <td>122.0</td>\n",
              "      <td>768.0</td>\n",
              "      <td>8.0</td>\n",
              "      <td>1.0</td>\n",
              "      <td>2.0</td>\n",
              "      <td>1730.0</td>\n",
              "      <td>3.333333</td>\n",
              "      <td>0.000000</td>\n",
              "      <td>120.279593</td>\n",
              "      <td>18.712925</td>\n",
              "      <td>28.0</td>\n",
              "      <td>3.0</td>\n",
              "      <td>3.0</td>\n",
              "      <td>127.0</td>\n",
              "      <td>NaN</td>\n",
              "      <td>763.0</td>\n",
              "    </tr>\n",
              "    <tr>\n",
              "      <th>3</th>\n",
              "      <td>102310</td>\n",
              "      <td>30.0</td>\n",
              "      <td>1603.0</td>\n",
              "      <td>0.0</td>\n",
              "      <td>1.0</td>\n",
              "      <td>213.500000</td>\n",
              "      <td>212.000000</td>\n",
              "      <td>281.0</td>\n",
              "      <td>543.0</td>\n",
              "      <td>399.866667</td>\n",
              "      <td>281.0</td>\n",
              "      <td>1.0</td>\n",
              "      <td>0.0</td>\n",
              "      <td>86.000000</td>\n",
              "      <td>0.0</td>\n",
              "      <td>0.0</td>\n",
              "      <td>185.0</td>\n",
              "      <td>1.0</td>\n",
              "      <td>0.0</td>\n",
              "      <td>247.000000</td>\n",
              "      <td>291.0</td>\n",
              "      <td>497.0</td>\n",
              "      <td>459.100000</td>\n",
              "      <td>0.000000</td>\n",
              "      <td>102.0</td>\n",
              "      <td>115.000000</td>\n",
              "      <td>189.0</td>\n",
              "      <td>2162.0</td>\n",
              "      <td>6.0</td>\n",
              "      <td>2.0</td>\n",
              "      <td>4.0</td>\n",
              "      <td>2850.0</td>\n",
              "      <td>65.833333</td>\n",
              "      <td>66.666667</td>\n",
              "      <td>-281.033344</td>\n",
              "      <td>-380.133364</td>\n",
              "      <td>17.0</td>\n",
              "      <td>5.0</td>\n",
              "      <td>6.0</td>\n",
              "      <td>233.0</td>\n",
              "      <td>NaN</td>\n",
              "      <td>701.0</td>\n",
              "    </tr>\n",
              "    <tr>\n",
              "      <th>4</th>\n",
              "      <td>158200</td>\n",
              "      <td>0.0</td>\n",
              "      <td>0.0</td>\n",
              "      <td>0.0</td>\n",
              "      <td>200.0</td>\n",
              "      <td>0.000000</td>\n",
              "      <td>0.000000</td>\n",
              "      <td>0.0</td>\n",
              "      <td>0.0</td>\n",
              "      <td>0.000000</td>\n",
              "      <td>0.0</td>\n",
              "      <td>0.0</td>\n",
              "      <td>0.0</td>\n",
              "      <td>0.000000</td>\n",
              "      <td>0.0</td>\n",
              "      <td>0.0</td>\n",
              "      <td>0.0</td>\n",
              "      <td>0.0</td>\n",
              "      <td>0.0</td>\n",
              "      <td>0.000000</td>\n",
              "      <td>0.0</td>\n",
              "      <td>0.0</td>\n",
              "      <td>0.000000</td>\n",
              "      <td>0.000000</td>\n",
              "      <td>0.0</td>\n",
              "      <td>0.000000</td>\n",
              "      <td>0.0</td>\n",
              "      <td>0.0</td>\n",
              "      <td>0.0</td>\n",
              "      <td>0.0</td>\n",
              "      <td>0.0</td>\n",
              "      <td>0.0</td>\n",
              "      <td>0.000000</td>\n",
              "      <td>0.000000</td>\n",
              "      <td>0.000000</td>\n",
              "      <td>0.000000</td>\n",
              "      <td>0.0</td>\n",
              "      <td>NaN</td>\n",
              "      <td>NaN</td>\n",
              "      <td>NaN</td>\n",
              "      <td>NaN</td>\n",
              "      <td>0.0</td>\n",
              "    </tr>\n",
              "  </tbody>\n",
              "</table>\n",
              "</div>"
            ],
            "text/plain": [
              "   Unnamed: 0   F_0     F_1  F_2    F_3  ...  F_36  F_37   F_38   F_39   F_40\n",
              "0       16380  30.0  1690.0  0.0    1.0  ...   2.0   2.0  179.0  179.0  122.0\n",
              "1      145630  30.0  2710.0  0.0    1.0  ...   4.0   6.0  254.0    NaN  323.0\n",
              "2      112658  30.0  1690.0  0.0    1.0  ...   3.0   3.0  127.0    NaN  763.0\n",
              "3      102310  30.0  1603.0  0.0    1.0  ...   5.0   6.0  233.0    NaN  701.0\n",
              "4      158200   0.0     0.0  0.0  200.0  ...   NaN   NaN    NaN    NaN    0.0\n",
              "\n",
              "[5 rows x 42 columns]"
            ]
          },
          "metadata": {
            "tags": []
          },
          "execution_count": 135
        }
      ]
    },
    {
      "cell_type": "code",
      "metadata": {
        "id": "jkGlb42W02OX"
      },
      "source": [
        "out['ID'] = test['Unnamed: 0']"
      ],
      "execution_count": null,
      "outputs": []
    },
    {
      "cell_type": "code",
      "metadata": {
        "id": "J6cLQD2m1Dxl"
      },
      "source": [
        "out['PRED'] = pred_u"
      ],
      "execution_count": null,
      "outputs": []
    },
    {
      "cell_type": "code",
      "metadata": {
        "id": "Ou0YK_Ea1LX-",
        "colab": {
          "base_uri": "https://localhost:8080/",
          "height": 424
        },
        "outputId": "a822729f-8306-48c4-af54-d32d8e764ad6"
      },
      "source": [
        "out"
      ],
      "execution_count": null,
      "outputs": [
        {
          "output_type": "execute_result",
          "data": {
            "text/html": [
              "<div>\n",
              "<style scoped>\n",
              "    .dataframe tbody tr th:only-of-type {\n",
              "        vertical-align: middle;\n",
              "    }\n",
              "\n",
              "    .dataframe tbody tr th {\n",
              "        vertical-align: top;\n",
              "    }\n",
              "\n",
              "    .dataframe thead th {\n",
              "        text-align: right;\n",
              "    }\n",
              "</style>\n",
              "<table border=\"1\" class=\"dataframe\">\n",
              "  <thead>\n",
              "    <tr style=\"text-align: right;\">\n",
              "      <th></th>\n",
              "      <th>ID</th>\n",
              "      <th>PRED</th>\n",
              "    </tr>\n",
              "  </thead>\n",
              "  <tbody>\n",
              "    <tr>\n",
              "      <th>0</th>\n",
              "      <td>16380</td>\n",
              "      <td>0</td>\n",
              "    </tr>\n",
              "    <tr>\n",
              "      <th>1</th>\n",
              "      <td>145630</td>\n",
              "      <td>0</td>\n",
              "    </tr>\n",
              "    <tr>\n",
              "      <th>2</th>\n",
              "      <td>112658</td>\n",
              "      <td>0</td>\n",
              "    </tr>\n",
              "    <tr>\n",
              "      <th>3</th>\n",
              "      <td>102310</td>\n",
              "      <td>0</td>\n",
              "    </tr>\n",
              "    <tr>\n",
              "      <th>4</th>\n",
              "      <td>158200</td>\n",
              "      <td>0</td>\n",
              "    </tr>\n",
              "    <tr>\n",
              "      <th>...</th>\n",
              "      <td>...</td>\n",
              "      <td>...</td>\n",
              "    </tr>\n",
              "    <tr>\n",
              "      <th>55666</th>\n",
              "      <td>126783</td>\n",
              "      <td>0</td>\n",
              "    </tr>\n",
              "    <tr>\n",
              "      <th>55667</th>\n",
              "      <td>113689</td>\n",
              "      <td>0</td>\n",
              "    </tr>\n",
              "    <tr>\n",
              "      <th>55668</th>\n",
              "      <td>126258</td>\n",
              "      <td>0</td>\n",
              "    </tr>\n",
              "    <tr>\n",
              "      <th>55669</th>\n",
              "      <td>108181</td>\n",
              "      <td>0</td>\n",
              "    </tr>\n",
              "    <tr>\n",
              "      <th>55670</th>\n",
              "      <td>46963</td>\n",
              "      <td>0</td>\n",
              "    </tr>\n",
              "  </tbody>\n",
              "</table>\n",
              "<p>55671 rows × 2 columns</p>\n",
              "</div>"
            ],
            "text/plain": [
              "           ID  PRED\n",
              "0       16380     0\n",
              "1      145630     0\n",
              "2      112658     0\n",
              "3      102310     0\n",
              "4      158200     0\n",
              "...       ...   ...\n",
              "55666  126783     0\n",
              "55667  113689     0\n",
              "55668  126258     0\n",
              "55669  108181     0\n",
              "55670   46963     0\n",
              "\n",
              "[55671 rows x 2 columns]"
            ]
          },
          "metadata": {
            "tags": []
          },
          "execution_count": 139
        }
      ]
    },
    {
      "cell_type": "code",
      "metadata": {
        "id": "-3x4sldY1Msx"
      },
      "source": [
        "k = out[out['PRED']==0]\n",
        "l = out[out['PRED']==1]"
      ],
      "execution_count": null,
      "outputs": []
    },
    {
      "cell_type": "code",
      "metadata": {
        "id": "KlC8IIdt1jP9",
        "colab": {
          "base_uri": "https://localhost:8080/",
          "height": 35
        },
        "outputId": "0e10ffc3-c1ea-43db-a1fa-cd2bfb96f940"
      },
      "source": [
        "len(k)"
      ],
      "execution_count": null,
      "outputs": [
        {
          "output_type": "execute_result",
          "data": {
            "text/plain": [
              "55671"
            ]
          },
          "metadata": {
            "tags": []
          },
          "execution_count": 184
        }
      ]
    },
    {
      "cell_type": "code",
      "metadata": {
        "id": "FwDF6Ejf1k9Z"
      },
      "source": [
        "from sklearn.linear_model import LogisticRegression\n",
        "# all parameters not specified are set to their defaults\n",
        "logisticRegr = LogisticRegression()"
      ],
      "execution_count": null,
      "outputs": []
    },
    {
      "cell_type": "code",
      "metadata": {
        "id": "WTwqf_5f18PA",
        "colab": {
          "base_uri": "https://localhost:8080/",
          "height": 109
        },
        "outputId": "78b4cd4b-46a5-4c19-cc9c-9298062d20be"
      },
      "source": [
        "logisticRegr.fit(X_train, y_train)"
      ],
      "execution_count": null,
      "outputs": [
        {
          "output_type": "execute_result",
          "data": {
            "text/plain": [
              "LogisticRegression(C=1.0, class_weight=None, dual=False, fit_intercept=True,\n",
              "                   intercept_scaling=1, l1_ratio=None, max_iter=100,\n",
              "                   multi_class='auto', n_jobs=None, penalty='l2',\n",
              "                   random_state=None, solver='lbfgs', tol=0.0001, verbose=0,\n",
              "                   warm_start=False)"
            ]
          },
          "metadata": {
            "tags": []
          },
          "execution_count": 211
        }
      ]
    },
    {
      "cell_type": "code",
      "metadata": {
        "id": "tmeCrwwF2CNS"
      },
      "source": [
        "predictions = logisticRegr.predict(X_test)"
      ],
      "execution_count": null,
      "outputs": []
    },
    {
      "cell_type": "code",
      "metadata": {
        "id": "6rQOfJCG2Eej",
        "colab": {
          "base_uri": "https://localhost:8080/",
          "height": 35
        },
        "outputId": "d1674a93-2720-45a6-be4f-8b090fb900a9"
      },
      "source": [
        "score = logisticRegr.score(X_test, y_test)\n",
        "print(score)"
      ],
      "execution_count": null,
      "outputs": [
        {
          "output_type": "stream",
          "text": [
            "0.625844683616944\n"
          ],
          "name": "stdout"
        }
      ]
    },
    {
      "cell_type": "code",
      "metadata": {
        "id": "nSVb5xrB6t5d",
        "colab": {
          "base_uri": "https://localhost:8080/",
          "height": 54
        },
        "outputId": "5abac640-7775-44f2-a447-aea3cd207dd3"
      },
      "source": [
        "logisticRegr.predict_proba(m)[:,0]"
      ],
      "execution_count": null,
      "outputs": [
        {
          "output_type": "execute_result",
          "data": {
            "text/plain": [
              "array([0.00014634, 0.00015378, 0.00017074, ..., 0.00015202, 0.00016561,\n",
              "       0.00015031])"
            ]
          },
          "metadata": {
            "tags": []
          },
          "execution_count": 215
        }
      ]
    },
    {
      "cell_type": "code",
      "metadata": {
        "id": "apGHp3K_2IAw",
        "colab": {
          "base_uri": "https://localhost:8080/",
          "height": 35
        },
        "outputId": "f95ce192-0134-4a61-9b66-e643cfe9ac41"
      },
      "source": [
        "pred_li = logisticRegr.predict(test_new.iloc[:, 1:])\n",
        "pred_li"
      ],
      "execution_count": null,
      "outputs": [
        {
          "output_type": "execute_result",
          "data": {
            "text/plain": [
              "array([0, 0, 0, ..., 0, 0, 0])"
            ]
          },
          "metadata": {
            "tags": []
          },
          "execution_count": 198
        }
      ]
    },
    {
      "cell_type": "code",
      "metadata": {
        "id": "dT3wrZzD2YVL"
      },
      "source": [
        "out['PRED'] = logisticRegr.predict_proba(m)[:,0]"
      ],
      "execution_count": null,
      "outputs": []
    },
    {
      "cell_type": "code",
      "metadata": {
        "id": "fF6OcXBi2elj",
        "colab": {
          "base_uri": "https://localhost:8080/",
          "height": 17
        },
        "outputId": "a6272014-4b1a-4a06-b2bb-f33c953edc10"
      },
      "source": [
        "from google.colab import files\n",
        "out.to_csv('out.csv', index= False) \n",
        "files.download('out.csv')"
      ],
      "execution_count": null,
      "outputs": [
        {
          "output_type": "display_data",
          "data": {
            "application/javascript": [
              "\n",
              "    async function download(id, filename, size) {\n",
              "      if (!google.colab.kernel.accessAllowed) {\n",
              "        return;\n",
              "      }\n",
              "      const div = document.createElement('div');\n",
              "      const label = document.createElement('label');\n",
              "      label.textContent = `Downloading \"${filename}\": `;\n",
              "      div.appendChild(label);\n",
              "      const progress = document.createElement('progress');\n",
              "      progress.max = size;\n",
              "      div.appendChild(progress);\n",
              "      document.body.appendChild(div);\n",
              "\n",
              "      const buffers = [];\n",
              "      let downloaded = 0;\n",
              "\n",
              "      const channel = await google.colab.kernel.comms.open(id);\n",
              "      // Send a message to notify the kernel that we're ready.\n",
              "      channel.send({})\n",
              "\n",
              "      for await (const message of channel.messages) {\n",
              "        // Send a message to notify the kernel that we're ready.\n",
              "        channel.send({})\n",
              "        if (message.buffers) {\n",
              "          for (const buffer of message.buffers) {\n",
              "            buffers.push(buffer);\n",
              "            downloaded += buffer.byteLength;\n",
              "            progress.value = downloaded;\n",
              "          }\n",
              "        }\n",
              "      }\n",
              "      const blob = new Blob(buffers, {type: 'application/binary'});\n",
              "      const a = document.createElement('a');\n",
              "      a.href = window.URL.createObjectURL(blob);\n",
              "      a.download = filename;\n",
              "      div.appendChild(a);\n",
              "      a.click();\n",
              "      div.remove();\n",
              "    }\n",
              "  "
            ],
            "text/plain": [
              "<IPython.core.display.Javascript object>"
            ]
          },
          "metadata": {
            "tags": []
          }
        },
        {
          "output_type": "display_data",
          "data": {
            "application/javascript": [
              "download(\"download_52e1185a-d714-43b0-b293-8147d6e7a569\", \"out.csv\", 1618740)"
            ],
            "text/plain": [
              "<IPython.core.display.Javascript object>"
            ]
          },
          "metadata": {
            "tags": []
          }
        }
      ]
    },
    {
      "cell_type": "code",
      "metadata": {
        "id": "YVnbZr8z4jtD"
      },
      "source": [
        "import numpy as np\n",
        "np.savetxt('out.csv', out, delimiter=',')"
      ],
      "execution_count": null,
      "outputs": []
    },
    {
      "cell_type": "code",
      "metadata": {
        "id": "71addDLu7wki",
        "colab": {
          "base_uri": "https://localhost:8080/",
          "height": 146
        },
        "outputId": "a1cd2f31-ebd1-4c50-8fd1-d1d9e69f02a1"
      },
      "source": [
        "clf = RandomForestClassifier(max_depth = 4, min_samples_split=2, n_estimators = 200, random_state = 1) \n",
        "clf.fit(X_train, y_train) \n",
        "predictions = clf.predict(X_test) \n",
        "predicted_probs = clf.predict_proba(m) \n",
        "print(predicted_probs) \n",
        "test = pd.concat([test, pd.DataFrame(predicted_probs, columns=['Col_0', 'Col_1'])], axis=1) "
      ],
      "execution_count": null,
      "outputs": [
        {
          "output_type": "stream",
          "text": [
            "[[0.29714014 0.70285986]\n",
            " [0.29714014 0.70285986]\n",
            " [0.29714014 0.70285986]\n",
            " ...\n",
            " [0.29714014 0.70285986]\n",
            " [0.29714014 0.70285986]\n",
            " [0.29714014 0.70285986]]\n"
          ],
          "name": "stdout"
        }
      ]
    },
    {
      "cell_type": "code",
      "metadata": {
        "id": "cGgJg3nT5OBR",
        "colab": {
          "base_uri": "https://localhost:8080/",
          "height": 35
        },
        "outputId": "9deaf7ac-1131-4379-860d-b0bb65767bb9"
      },
      "source": [
        "from sklearn import metrics\n",
        "# Model Accuracy, how often is the classifier correct?\n",
        "print(\"Accuracy:\",metrics.accuracy_score(y_test, y_pred))"
      ],
      "execution_count": null,
      "outputs": [
        {
          "output_type": "stream",
          "text": [
            "Accuracy: 0.9942262873739562\n"
          ],
          "name": "stdout"
        }
      ]
    },
    {
      "cell_type": "code",
      "metadata": {
        "id": "KowofMOs8GAt"
      },
      "source": [
        "test"
      ],
      "execution_count": null,
      "outputs": []
    }
  ]
}