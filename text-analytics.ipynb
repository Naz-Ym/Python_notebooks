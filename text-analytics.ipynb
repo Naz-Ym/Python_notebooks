{
 "cells": [
  {
   "cell_type": "code",
   "execution_count": 1,
   "metadata": {},
   "outputs": [],
   "source": [
    "def _syllables(word):\n",
    "    syllable_count = 0\n",
    "    vowels = 'aeiouy'\n",
    "    if word[0] in vowels:\n",
    "        syllable_count += 1\n",
    "    for index in range(1, len(word)):\n",
    "        if word[index] in vowels and word[index - 1] not in vowels:\n",
    "            syllable_count += 1\n",
    "    if word.endswith('e'):\n",
    "        syllable_count -= 1\n",
    "    if word.endswith('le') and len(word) > 2 and word[-3] not in vowels:\n",
    "        syllable_count += 1\n",
    "    if syllable_count == 0:\n",
    "        syllable_count += 1\n",
    "    return syllable_count"
   ]
  },
  {
   "cell_type": "code",
   "execution_count": 40,
   "metadata": {},
   "outputs": [
    {
     "name": "stdout",
     "output_type": "stream",
     "text": [
      "Enter file name: lorem_ipsum.txt\n",
      "501\n",
      "66\n",
      "1013\n",
      "The Flesch reading ease is 28.07274224278717 and the Flesch-Kincaid grade level is 11.229536381781895\n"
     ]
    }
   ],
   "source": [
    "fname = input(\"Enter file name: \")\n",
    "num_words, blanklines, sentences, count_of_syll = 0, 0, 0, 0\n",
    "d = dict()\n",
    "with open(fname, 'r') as f:\n",
    "    for line in f: \n",
    "        line = line.strip()  \n",
    "        line = line.lower() \n",
    "        words = line.split()\n",
    "        if line.startswith('\\n'):\n",
    "            blanklines += 1\n",
    "        else:\n",
    "            sentences += line.count('.') + line.count('!') + line.count('?')\n",
    "        for word in words: \n",
    "            if word in d: \n",
    "                d[word] = d[word] + 1\n",
    "            else: \n",
    "                d[word] = 1\n",
    "            count_of_syll += _syllables(word)\n",
    "        num_words = sum(d.values())\n",
    "print(num_words)\n",
    "print(sentences)\n",
    "print(count_of_syll)\n",
    "  \n",
    "        \n",
    "flesch_reading_ease = 206.835 - 1.015*(num_words/sentences) - 84.6*count_of_syll/num_words\n",
    "flesch_kincaid_grade_lvl = 0.39*(num_words/sentences) + 11.8*count_of_syll/num_words - 15.59\n",
    "print(\"The Flesch reading ease is {} and the Flesch-Kincaid grade level is {}\".format(flesch_reading_ease, flesch_kincaid_grade_lvl))"
   ]
  },
  {
   "cell_type": "code",
   "execution_count": null,
   "metadata": {},
   "outputs": [],
   "source": []
  }
 ],
 "metadata": {
  "kernelspec": {
   "display_name": "Python 3",
   "language": "python",
   "name": "python3"
  },
  "language_info": {
   "codemirror_mode": {
    "name": "ipython",
    "version": 3
   },
   "file_extension": ".py",
   "mimetype": "text/x-python",
   "name": "python",
   "nbconvert_exporter": "python",
   "pygments_lexer": "ipython3",
   "version": "3.6.5"
  }
 },
 "nbformat": 4,
 "nbformat_minor": 2
}
