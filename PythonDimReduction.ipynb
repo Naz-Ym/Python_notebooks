{
 "cells": [
  {
   "cell_type": "markdown",
   "metadata": {
    "colab_type": "text",
    "id": "XcmZHayeKUTA"
   },
   "source": [
    "# Part 1\n",
    "## Review on Linear Algebra in Python\n",
    "In this section of the notebook we would like to introduce you to the linear algebra library in python. For a more detailed overview of each covered concept please read this https://www.deeplearningbook.org/contents/linear_algebra.html\n"
   ]
  },
  {
   "cell_type": "code",
   "execution_count": 58,
   "metadata": {
    "colab": {},
    "colab_type": "code",
    "id": "-R_bzA6pISlw"
   },
   "outputs": [],
   "source": [
    "import numpy as np\n",
    "import numpy.linalg as la\n",
    "import matplotlib.pyplot as plt\n",
    "import pandas as pd"
   ]
  },
  {
   "cell_type": "code",
   "execution_count": 59,
   "metadata": {
    "colab": {
     "base_uri": "https://localhost:8080/",
     "height": 323
    },
    "colab_type": "code",
    "executionInfo": {
     "elapsed": 720,
     "status": "ok",
     "timestamp": 1572056350864,
     "user": {
      "displayName": "Yerbolat Khassanov",
      "photoUrl": "https://lh3.googleusercontent.com/a-/AAuE7mBkivKmNmtWRUqWz_rxy2pkQEWUWd42EDr6k6T38g=s64",
      "userId": "00538050044515419094"
     },
     "user_tz": -360
    },
    "id": "SZecZYIwIdfV",
    "outputId": "af9e05ef-8107-44b2-d54a-0f69b137144b"
   },
   "outputs": [
    {
     "name": "stdout",
     "output_type": "stream",
     "text": [
      "[[1 2 3]\n",
      " [3 4 5]]\n",
      "[[0 1]\n",
      " [3 5]\n",
      " [3 1]]\n",
      "[5 6 7]\n",
      "[[1 2 3]\n",
      " [3 4 5]\n",
      " [5 6 7]]\n",
      "[[-2  1  0]\n",
      " [ 1 -2  1]\n",
      " [ 0  1 -2]]\n",
      "[[1. 0. 0.]\n",
      " [0. 1. 0.]\n",
      " [0. 0. 1.]]\n",
      "[[ 0.66666667 -0.66666667  0.33333333]\n",
      " [ 0.33333333  0.66666667  0.66666667]\n",
      " [ 0.66666667  0.33333333 -0.66666667]]\n"
     ]
    }
   ],
   "source": [
    "# Here is a glimpse of how we can create matrices\n",
    "A = np.array([[1, 2, 3], [3, 4, 5]])\n",
    "B = np.array([[0, 1],[3, 5], [3, 1]])\n",
    "v = np.array([5, 6, 7])\n",
    "C = np.vstack((A, v))\n",
    "I = np.eye(3) # an identity matrix\n",
    "D = np.array([[-2, 1, 0], [1, -2, 1],[0, 1, -2]]) # a symmetrical matrix\n",
    "Q = np.array([[2, -2, 1],[1, 2, 2],[2, 1, -2]])*1/3 # an orthogonal matrix\n",
    "\n",
    "print(A)\n",
    "print(B)\n",
    "print(v)\n",
    "print(C)\n",
    "print(D)\n",
    "print(I)\n",
    "print(Q)\n"
   ]
  },
  {
   "cell_type": "code",
   "execution_count": 60,
   "metadata": {
    "colab": {
     "base_uri": "https://localhost:8080/",
     "height": 102
    },
    "colab_type": "code",
    "executionInfo": {
     "elapsed": 706,
     "status": "ok",
     "timestamp": 1572056355744,
     "user": {
      "displayName": "Yerbolat Khassanov",
      "photoUrl": "https://lh3.googleusercontent.com/a-/AAuE7mBkivKmNmtWRUqWz_rxy2pkQEWUWd42EDr6k6T38g=s64",
      "userId": "00538050044515419094"
     },
     "user_tz": -360
    },
    "id": "TAeMGegLhvEp",
    "outputId": "2ae9e0a2-ab62-4d50-ee4c-b015e1494df9"
   },
   "outputs": [
    {
     "name": "stdout",
     "output_type": "stream",
     "text": [
      "(2, 3)\n",
      "[[1 3]\n",
      " [2 4]\n",
      " [3 5]]\n",
      "(3, 2)\n"
     ]
    }
   ],
   "source": [
    "# Matrix transpose\n",
    "print(A.shape)\n",
    "print(A.T)\n",
    "print(A.T.shape)"
   ]
  },
  {
   "cell_type": "code",
   "execution_count": 61,
   "metadata": {
    "colab": {
     "base_uri": "https://localhost:8080/",
     "height": 187
    },
    "colab_type": "code",
    "executionInfo": {
     "elapsed": 692,
     "status": "ok",
     "timestamp": 1572056365478,
     "user": {
      "displayName": "Yerbolat Khassanov",
      "photoUrl": "https://lh3.googleusercontent.com/a-/AAuE7mBkivKmNmtWRUqWz_rxy2pkQEWUWd42EDr6k6T38g=s64",
      "userId": "00538050044515419094"
     },
     "user_tz": -360
    },
    "id": "PXxuCUqFZgPF",
    "outputId": "d2e45b99-faaa-47d1-a743-f5b9c1d2638e"
   },
   "outputs": [
    {
     "name": "stdout",
     "output_type": "stream",
     "text": [
      "[[ 5 12 21]\n",
      " [15 24 35]]\n",
      "[[ 5 12 21]\n",
      " [15 24 35]]\n",
      "[[ 1  4  9]\n",
      " [ 9 16 25]]\n",
      "[[ 1  4  9]\n",
      " [ 9 16 25]]\n",
      "[[ 2  4  6]\n",
      " [ 6  8 10]]\n"
     ]
    }
   ],
   "source": [
    "# Elementwise multiplication\n",
    "print(np.multiply(A,v))\n",
    "print(A*v)\n",
    "print(np.multiply(A,A))\n",
    "print(A**2)\n",
    "print(A*2)\n"
   ]
  },
  {
   "cell_type": "code",
   "execution_count": 62,
   "metadata": {
    "colab": {
     "base_uri": "https://localhost:8080/",
     "height": 51
    },
    "colab_type": "code",
    "executionInfo": {
     "elapsed": 718,
     "status": "ok",
     "timestamp": 1572056429135,
     "user": {
      "displayName": "Yerbolat Khassanov",
      "photoUrl": "https://lh3.googleusercontent.com/a-/AAuE7mBkivKmNmtWRUqWz_rxy2pkQEWUWd42EDr6k6T38g=s64",
      "userId": "00538050044515419094"
     },
     "user_tz": -360
    },
    "id": "xdL8BAr1i1jn",
    "outputId": "95d4484a-60b4-4cd5-c6c5-2ae60cbd28d1"
   },
   "outputs": [
    {
     "name": "stdout",
     "output_type": "stream",
     "text": [
      "(2, 3) (3,)\n",
      "[38 74]\n"
     ]
    }
   ],
   "source": [
    "# Dot product between a matrix and a vector.\n",
    "print(A.shape, v.shape)\n",
    "print(A.dot(v))"
   ]
  },
  {
   "cell_type": "code",
   "execution_count": 63,
   "metadata": {
    "colab": {
     "base_uri": "https://localhost:8080/",
     "height": 299
    },
    "colab_type": "code",
    "executionInfo": {
     "elapsed": 716,
     "status": "error",
     "timestamp": 1572056512429,
     "user": {
      "displayName": "Yerbolat Khassanov",
      "photoUrl": "https://lh3.googleusercontent.com/a-/AAuE7mBkivKmNmtWRUqWz_rxy2pkQEWUWd42EDr6k6T38g=s64",
      "userId": "00538050044515419094"
     },
     "user_tz": -360
    },
    "id": "rPdjONTHLPw2",
    "outputId": "f295d768-caf0-40f4-93ea-77f37109a180"
   },
   "outputs": [
    {
     "name": "stdout",
     "output_type": "stream",
     "text": [
      "[[14 26]\n",
      " [26 50]\n",
      " [38 74]]\n",
      "[[14 26]\n",
      " [26 50]\n",
      " [38 74]]\n"
     ]
    },
    {
     "ename": "ValueError",
     "evalue": "shapes (3,3) and (2,3) not aligned: 3 (dim 1) != 2 (dim 0)",
     "output_type": "error",
     "traceback": [
      "\u001b[1;31m---------------------------------------------------------------------------\u001b[0m",
      "\u001b[1;31mValueError\u001b[0m                                Traceback (most recent call last)",
      "\u001b[1;32m<ipython-input-63-0f7c45e34fcf>\u001b[0m in \u001b[0;36m<module>\u001b[1;34m()\u001b[0m\n\u001b[0;32m      6\u001b[0m \u001b[0mprint\u001b[0m\u001b[1;33m(\u001b[0m\u001b[0mnp\u001b[0m\u001b[1;33m.\u001b[0m\u001b[0mmatmul\u001b[0m\u001b[1;33m(\u001b[0m\u001b[0mC\u001b[0m\u001b[1;33m,\u001b[0m \u001b[0mA\u001b[0m\u001b[1;33m.\u001b[0m\u001b[0mT\u001b[0m\u001b[1;33m)\u001b[0m\u001b[1;33m)\u001b[0m\u001b[1;33m\u001b[0m\u001b[0m\n\u001b[0;32m      7\u001b[0m \u001b[1;31m# If the shapes of the matrices are not aligned, then python will make sure to complain\u001b[0m\u001b[1;33m\u001b[0m\u001b[1;33m\u001b[0m\u001b[0m\n\u001b[1;32m----> 8\u001b[1;33m \u001b[0mprint\u001b[0m\u001b[1;33m(\u001b[0m\u001b[0mC\u001b[0m\u001b[1;33m.\u001b[0m\u001b[0mdot\u001b[0m\u001b[1;33m(\u001b[0m\u001b[0mA\u001b[0m\u001b[1;33m)\u001b[0m\u001b[1;33m)\u001b[0m\u001b[1;33m\u001b[0m\u001b[0m\n\u001b[0m",
      "\u001b[1;31mValueError\u001b[0m: shapes (3,3) and (2,3) not aligned: 3 (dim 1) != 2 (dim 0)"
     ]
    }
   ],
   "source": [
    "# Matrix multiplication: dot product between two matrices\n",
    "# Remember, the dimensions of the matrices must be aligned\n",
    "# In the following example, the dimension of C is 3X3 and A is 2X3, \n",
    "# to multiply the matrices we need to transpose A first.\n",
    "print(C.dot(A.T))\n",
    "print(np.matmul(C, A.T))\n",
    "# If the shapes of the matrices are not aligned, then python will make sure to complain\n",
    "print(C.dot(A))\n"
   ]
  },
  {
   "cell_type": "code",
   "execution_count": 64,
   "metadata": {
    "colab": {
     "base_uri": "https://localhost:8080/",
     "height": 391
    },
    "colab_type": "code",
    "executionInfo": {
     "elapsed": 712,
     "status": "error",
     "timestamp": 1572056616309,
     "user": {
      "displayName": "Yerbolat Khassanov",
      "photoUrl": "https://lh3.googleusercontent.com/a-/AAuE7mBkivKmNmtWRUqWz_rxy2pkQEWUWd42EDr6k6T38g=s64",
      "userId": "00538050044515419094"
     },
     "user_tz": -360
    },
    "id": "iDiZyCqBi7RO",
    "outputId": "9c8c4e19-aa47-44e3-c7b5-8972eb336cdb"
   },
   "outputs": [
    {
     "name": "stdout",
     "output_type": "stream",
     "text": [
      "-4.4408920985006143e-16\n",
      "[[ 4.50359963e+15 -9.00719925e+15  4.50359963e+15]\n",
      " [-9.00719925e+15  1.80143985e+16 -9.00719925e+15]\n",
      " [ 4.50359963e+15 -9.00719925e+15  4.50359963e+15]]\n"
     ]
    }
   ],
   "source": [
    "# Matrix determinant\n",
    "print(la.det(C))\n",
    "# Python will complain if the given matrix is singular (determinant is 0)\n",
    "print(la.inv(C))"
   ]
  },
  {
   "cell_type": "code",
   "execution_count": 65,
   "metadata": {
    "colab": {
     "base_uri": "https://localhost:8080/",
     "height": 153
    },
    "colab_type": "code",
    "executionInfo": {
     "elapsed": 697,
     "status": "ok",
     "timestamp": 1572056714183,
     "user": {
      "displayName": "Yerbolat Khassanov",
      "photoUrl": "https://lh3.googleusercontent.com/a-/AAuE7mBkivKmNmtWRUqWz_rxy2pkQEWUWd42EDr6k6T38g=s64",
      "userId": "00538050044515419094"
     },
     "user_tz": -360
    },
    "id": "-UIqh9NWcR03",
    "outputId": "c8607742-78ce-4aa6-f3d1-5a9860f1cfb0"
   },
   "outputs": [
    {
     "name": "stdout",
     "output_type": "stream",
     "text": [
      "[[-2  1  0]\n",
      " [ 1 -2  1]\n",
      " [ 0  1 -2]]\n",
      "True\n",
      "-4.0\n",
      "[[-0.75 -0.5  -0.25]\n",
      " [-0.5  -1.   -0.5 ]\n",
      " [-0.25 -0.5  -0.75]]\n"
     ]
    }
   ],
   "source": [
    "# The symmetric matrix that is guaranteed to have a non-zero determinant\n",
    "print(D)\n",
    "print(np.allclose(D, D.T)) # To verify that the transpose of D is indeed equal to D\n",
    "print(la.det(D))\n",
    "print(la.inv(D))"
   ]
  },
  {
   "cell_type": "code",
   "execution_count": 66,
   "metadata": {
    "colab": {
     "base_uri": "https://localhost:8080/",
     "height": 102
    },
    "colab_type": "code",
    "executionInfo": {
     "elapsed": 738,
     "status": "ok",
     "timestamp": 1572056852456,
     "user": {
      "displayName": "Yerbolat Khassanov",
      "photoUrl": "https://lh3.googleusercontent.com/a-/AAuE7mBkivKmNmtWRUqWz_rxy2pkQEWUWd42EDr6k6T38g=s64",
      "userId": "00538050044515419094"
     },
     "user_tz": -360
    },
    "id": "KG4Z2_r3jPBH",
    "outputId": "d839acfb-19e6-467c-d48c-cbfd4a144494"
   },
   "outputs": [
    {
     "name": "stdout",
     "output_type": "stream",
     "text": [
      "[-3.41421356 -2.         -0.58578644]\n",
      "[[ 5.00000000e-01  7.07106781e-01  5.00000000e-01]\n",
      " [-7.07106781e-01 -4.05925293e-16  7.07106781e-01]\n",
      " [ 5.00000000e-01 -7.07106781e-01  5.00000000e-01]]\n"
     ]
    },
    {
     "data": {
      "text/plain": [
       "True"
      ]
     },
     "execution_count": 66,
     "metadata": {},
     "output_type": "execute_result"
    }
   ],
   "source": [
    "# Decomposing a symmetric matrix into a set of eigenvectors and eigenvalues. \n",
    "# eigvecs contains the normalized (unit “length”) eigenvectors,\n",
    "# such that the column eigvecs[:,i] is the eigenvector corresponding to the eigenvalue eigvals[i].\n",
    "eigvals, eigvecs = la.eig(D)\n",
    "print(eigvals)\n",
    "print(eigvecs)\n",
    "np.allclose(np.dot(eigvecs[0],eigvecs[1]),0)  # note that eigenvectors are orthogonal"
   ]
  },
  {
   "cell_type": "markdown",
   "metadata": {
    "colab_type": "text",
    "id": "-Jb07QaTa9fb"
   },
   "source": [
    "### Your turn: practice Linear Algebra using Python\n"
   ]
  },
  {
   "cell_type": "markdown",
   "metadata": {
    "colab_type": "text",
    "id": "IoXqe5or4W9L"
   },
   "source": [
    "Task 1: Compute $M = 3C^3 - 5(A^TB^T)^2$. The correct answer is [[  -42, -1596,   -99],\n",
    "       [    1, -3188,  -125],\n",
    "       [  250, -5132,    49]]"
   ]
  },
  {
   "cell_type": "code",
   "execution_count": 67,
   "metadata": {
    "colab": {},
    "colab_type": "code",
    "id": "g8pPzq312wkS"
   },
   "outputs": [
    {
     "name": "stdout",
     "output_type": "stream",
     "text": [
      "[[  -42 -1596   -99]\n",
      " [    1 -3188  -125]\n",
      " [  250 -5132    49]]\n"
     ]
    }
   ],
   "source": [
    "M = 3*(C**3) - 5* (np.matmul(A.T, B.T)**2)\n",
    "print(M)"
   ]
  },
  {
   "cell_type": "markdown",
   "metadata": {
    "colab_type": "text",
    "id": "ET8CVTZEDaTn"
   },
   "source": [
    "Task 2: Which of these matrices are equal?\n",
    "$(CD)^T, C^TD^T,D^TC^T,(DC)^T, CD^T$. Verify by computing each of the resulting matrices.\n"
   ]
  },
  {
   "cell_type": "code",
   "execution_count": 68,
   "metadata": {
    "colab": {},
    "colab_type": "code",
    "id": "UvIU4cM-2wkU"
   },
   "outputs": [
    {
     "name": "stdout",
     "output_type": "stream",
     "text": [
      "True\n",
      "[[ 1  0 -7]\n",
      " [ 0  0 -8]\n",
      " [-1  0 -9]]\n",
      "[[ 1  0 -7]\n",
      " [ 0  0 -8]\n",
      " [-1  0 -9]]\n"
     ]
    }
   ],
   "source": [
    "M = np.matmul(C.T, D.T)\n",
    "N = (np.matmul(D, C)).T\n",
    "print(np.allclose(M,N))\n",
    "print(M)\n",
    "print(N)\n"
   ]
  },
  {
   "cell_type": "code",
   "execution_count": 69,
   "metadata": {},
   "outputs": [
    {
     "name": "stdout",
     "output_type": "stream",
     "text": [
      "True\n",
      "[[ 0 -2 -4]\n",
      " [ 0  0  0]\n",
      " [-4 -6 -8]]\n",
      "[[ 0 -2 -4]\n",
      " [ 0  0  0]\n",
      " [-4 -6 -8]]\n"
     ]
    }
   ],
   "source": [
    "E = (np.matmul(C, D)).T\n",
    "F = np.matmul(D.T, C.T)\n",
    "print(np.allclose(E,F))\n",
    "print(E)\n",
    "print(F)"
   ]
  },
  {
   "cell_type": "code",
   "execution_count": 70,
   "metadata": {},
   "outputs": [
    {
     "name": "stdout",
     "output_type": "stream",
     "text": [
      "[[ 0  0 -4]\n",
      " [-2  0 -6]\n",
      " [-4  0 -8]]\n"
     ]
    }
   ],
   "source": [
    "print(np.matmul(C, D.T))"
   ]
  },
  {
   "cell_type": "markdown",
   "metadata": {
    "colab_type": "text",
    "id": "HsZno3mvSV1h"
   },
   "source": [
    "Task 3: Using np.allclose(), verify that $inv(D)$ is the inverse of $D$ by showing that $inv(D)\\ D == D\\ inv(D)== I$. "
   ]
  },
  {
   "cell_type": "code",
   "execution_count": 71,
   "metadata": {
    "colab": {},
    "colab_type": "code",
    "id": "U5XoVTyv2wkW"
   },
   "outputs": [
    {
     "name": "stdout",
     "output_type": "stream",
     "text": [
      "True\n"
     ]
    }
   ],
   "source": [
    "print(np.allclose(D, D.T, I))"
   ]
  },
  {
   "cell_type": "markdown",
   "metadata": {
    "colab_type": "text",
    "id": "KWhFuigt_DRT"
   },
   "source": [
    "Task 4: Using np.allclose(), verify that $Q$ is an orthogonal matrix by showing $QQ^T ==Q^TQ == I $"
   ]
  },
  {
   "cell_type": "code",
   "execution_count": 72,
   "metadata": {
    "colab": {},
    "colab_type": "code",
    "id": "puK-Ys4X2wkY"
   },
   "outputs": [
    {
     "name": "stdout",
     "output_type": "stream",
     "text": [
      "True\n"
     ]
    }
   ],
   "source": [
    "print(np.allclose(np.matmul(Q, Q.T), np.matmul(Q.T, Q), I))"
   ]
  },
  {
   "cell_type": "markdown",
   "metadata": {
    "colab_type": "text",
    "id": "r0nNQcwMB5MX"
   },
   "source": [
    "### A covariance matrix and its eigen decomposition.\n",
    "Suppose we have two random variables X and Y. The covariance $C(X,Y)$ is a matrix that quantifies the joint variability between these variables. The matrix is always square and symmetric: the diagonal entries of the covariance matrix are the variances of each variable and the other entries are the covariances. As the result it defines both the spread (variance), and the orientation (covariance) of our data. Remember, variance can only be used to explain the spread of the data in the directions parallel to the axes of the feature space.\n",
    "\n",
    "The eigenvalue decomposition (EVD) of covariance matrix is defined as: $C=VLV^T$, where $V$ is a matrix of orthonormal eigenvectors of $C$ and $L$ is a diagonal matrix of corresponding eigenvalues.\n",
    "\n",
    "The eigenvectors of the covariance matrix point in the direction of the spread of the data. In particular, the largest eigenvector of the covariance matrix always points into the direction of the largest variance of the data, and the magnitude of this vector equals the corresponding eigenvalue.  \n",
    "\n",
    "The example below illustrates that when the covariance matrix is a diagonal matrix, i.e. variables are uncorrelated, the eigenvalues are equal to the variances since the covariances are zero. "
   ]
  },
  {
   "cell_type": "code",
   "execution_count": 73,
   "metadata": {
    "colab": {
     "base_uri": "https://localhost:8080/",
     "height": 316
    },
    "colab_type": "code",
    "executionInfo": {
     "elapsed": 1010,
     "status": "ok",
     "timestamp": 1572057959544,
     "user": {
      "displayName": "Yerbolat Khassanov",
      "photoUrl": "https://lh3.googleusercontent.com/a-/AAuE7mBkivKmNmtWRUqWz_rxy2pkQEWUWd42EDr6k6T38g=s64",
      "userId": "00538050044515419094"
     },
     "user_tz": -360
    },
    "id": "FPDh-OJDjCIm",
    "outputId": "d2cf2d4d-a734-4599-89d0-470c8b681777"
   },
   "outputs": [
    {
     "name": "stdout",
     "output_type": "stream",
     "text": [
      "[7. 1.]\n",
      "[[1. 0.]\n",
      " [0. 1.]]\n"
     ]
    },
    {
     "data": {
      "image/png": "[encoded data removed]",
      "text/plain": [
       "<Figure size 432x288 with 1 Axes>"
      ]
     },
     "metadata": {},
     "output_type": "display_data"
    }
   ],
   "source": [
    "cov = np.array([[ 7, 0], [0,  1]]) \n",
    "mean = np.array([0, 0])\n",
    "# sampling from a 2D gaussian ditribution with a set mean and cov matrix\n",
    "data = np.random.multivariate_normal(mean, cov, 500).T\n",
    "x = data[0]\n",
    "y = data[1]\n",
    "plt.scatter(x, y, s = 8, c = 'k')\n",
    "plt.axis('equal')\n",
    "\n",
    "# plotting the direction of the eigenvectors\n",
    "eigvals_c, eigvecs_c = la.eig(cov)\n",
    "print(eigvals_c)\n",
    "print(eigvecs_c)\n",
    "scaled_eigen_vecs_c = np.multiply(eigvecs_c, eigvals_c)\n",
    "v1 = np.vstack((mean,scaled_eigen_vecs_c[:,0])).T\n",
    "v2 = np.vstack((mean,scaled_eigen_vecs_c[:,1])).T\n",
    "plt.plot(v1[0], v1[1], linewidth=3, label = \"The largest/first eigen vector\")\n",
    "plt.plot(v2[0], v2[1], linewidth=3, label = \"The second largest eigen vector\")\n",
    "plt.legend()\n",
    "plt.show()"
   ]
  },
  {
   "cell_type": "markdown",
   "metadata": {
    "colab_type": "text",
    "id": "AR6e8XuNOaFe"
   },
   "source": [
    "#### Correlated variables\n",
    "If the covariance matrix is not diagonal, such that the covariances are not zero, the eigenvalues still represent the variance magnitude in the direction of the largest spread of the data, and the variance components of the covariance matrix still represent the variance magnitude in the direction of the x-axis and y-axis. But since the data is not axis aligned, these values are not the same anymore.\n"
   ]
  },
  {
   "cell_type": "code",
   "execution_count": 88,
   "metadata": {
    "colab": {
     "base_uri": "https://localhost:8080/",
     "height": 317
    },
    "colab_type": "code",
    "executionInfo": {
     "elapsed": 1054,
     "status": "ok",
     "timestamp": 1572058019331,
     "user": {
      "displayName": "Yerbolat Khassanov",
      "photoUrl": "https://lh3.googleusercontent.com/a-/AAuE7mBkivKmNmtWRUqWz_rxy2pkQEWUWd42EDr6k6T38g=s64",
      "userId": "00538050044515419094"
     },
     "user_tz": -360
    },
    "id": "itx7yUw5OZi2",
    "outputId": "ba7753ad-3ea0-417a-b6e8-dad946ae9a53"
   },
   "outputs": [
    {
     "name": "stdout",
     "output_type": "stream",
     "text": [
      "[5. 1.]\n",
      "[[ 0.70710678 -0.70710678]\n",
      " [ 0.70710678  0.70710678]]\n",
      "[0 0]\n"
     ]
    },
    {
     "data": {
      "image/png": "[encoded data removed]",
      "text/plain": [
       "<Figure size 432x288 with 1 Axes>"
      ]
     },
     "metadata": {},
     "output_type": "display_data"
    }
   ],
   "source": [
    "cov = np.array([[ 3, 2], [2,  3]]) \n",
    "mean = np.array([0, 0])\n",
    "# sampling from a 2D gaussian ditribution with a set mean and cov matrix\n",
    "data = np.random.multivariate_normal(mean, cov, 500).T\n",
    "x = data[0]\n",
    "y = data[1]\n",
    "plt.scatter(x, y, s = 8, c = 'k')\n",
    "plt.axis('equal')\n",
    "\n",
    "# plotting the direction of the eigenvectors\n",
    "eigvals_c, eigvecs_c = la.eig(cov)\n",
    "print(eigvals_c)\n",
    "print(eigvecs_c) \n",
    "scaled_eigen_vecs_c = np.multiply(eigvecs_c, eigvals_c)\n",
    "print(mean)\n",
    "v1 = np.vstack((mean,scaled_eigen_vecs_c[:,0])).T\n",
    "v2 = np.vstack((mean,scaled_eigen_vecs_c[:,1])).T\n",
    "plt.plot(v1[0], v1[1], linewidth=3, label = \"The largest/first eigen vector\")\n",
    "plt.plot(v2[0], v2[1], linewidth=3, label = \"The second largest eigen vector\")\n",
    "plt.legend()\n",
    "plt.show()"
   ]
  },
  {
   "cell_type": "markdown",
   "metadata": {
    "colab_type": "text",
    "id": "XnV8cJ15V5yX"
   },
   "source": [
    "## Implementing Principal Component Analysis (PCA) using Eigen Decomposition (EVD) \n",
    "\n",
    "Principal component analysis(PCA) is a technique that is widely used for applications such as dimensionality reduction, feature extraction and data visualization. There are two definitions of PCA: 1. An orthogonal projection of the data onto a lower dimensional linear subspace, known as linear subspace, such that the variance of the projected data is maximized; 2. A linear projection that minimizes the average projection cost, defined as mean square distance between the data points and their projections.\n",
    "\n",
    "Consider a data set of observations in a matrix form  $X$  with dimension  $n \\times d$  ( $n$  is the number of samples, and  $d$  is the dimension of each sample or the number of features in each sample). We want to project our data onto a space of dimension  $k$ , where  $k<d$ , while maximizing the variance of the projected data. To do so, we need to find linearly uncorrelated axes/features which are also known as principal components(PC).\n",
    "\n",
    "PCs can be found by eigenvalue decomposition(EVD) of the covariance matrix  $C = \\frac{X^TX}{n-1}$, where $X$ is centered. By the definition of EVD, since $C$  is square and symmetric it can be rewritten as $C = VLV^T$, where  $V$  is a matrix of orthonormal eigenvectors of  $C$  and  $L$  is a diagonal matrix of corresponding eigenvalues. As we discussed earlier, these eigenvectors point in the direction of the spread of the data and the largest one points in the direction of the largest variance in the data. Thus, these vectors are the principal axes we need in order to find the PCs. \n",
    "\n",
    "Finally, we compute the PCs by performing the dot product $X \\cdot V$.\n",
    "If we want to find the projection to a  𝑘  dimensional space, then we need to select those principal components that correspond to the $k$ largest eigen values."
   ]
  },
  {
   "cell_type": "code",
   "execution_count": 75,
   "metadata": {
    "colab": {},
    "colab_type": "code",
    "id": "e9bywkeaWDp5"
   },
   "outputs": [
    {
     "data": {
      "text/html": [
       "<div>\n",
       "<style scoped>\n",
       "    .dataframe tbody tr th:only-of-type {\n",
       "        vertical-align: middle;\n",
       "    }\n",
       "\n",
       "    .dataframe tbody tr th {\n",
       "        vertical-align: top;\n",
       "    }\n",
       "\n",
       "    .dataframe thead th {\n",
       "        text-align: right;\n",
       "    }\n",
       "</style>\n",
       "<table border=\"1\" class=\"dataframe\">\n",
       "  <thead>\n",
       "    <tr style=\"text-align: right;\">\n",
       "      <th></th>\n",
       "      <th>sepal.length</th>\n",
       "      <th>sepal.width</th>\n",
       "      <th>petal.length</th>\n",
       "      <th>petal.width</th>\n",
       "      <th>variety</th>\n",
       "    </tr>\n",
       "  </thead>\n",
       "  <tbody>\n",
       "    <tr>\n",
       "      <th>0</th>\n",
       "      <td>5.1</td>\n",
       "      <td>3.5</td>\n",
       "      <td>1.4</td>\n",
       "      <td>0.2</td>\n",
       "      <td>Iris-setosa</td>\n",
       "    </tr>\n",
       "    <tr>\n",
       "      <th>1</th>\n",
       "      <td>4.9</td>\n",
       "      <td>3.0</td>\n",
       "      <td>1.4</td>\n",
       "      <td>0.2</td>\n",
       "      <td>Iris-setosa</td>\n",
       "    </tr>\n",
       "    <tr>\n",
       "      <th>2</th>\n",
       "      <td>4.7</td>\n",
       "      <td>3.2</td>\n",
       "      <td>1.3</td>\n",
       "      <td>0.2</td>\n",
       "      <td>Iris-setosa</td>\n",
       "    </tr>\n",
       "    <tr>\n",
       "      <th>3</th>\n",
       "      <td>4.6</td>\n",
       "      <td>3.1</td>\n",
       "      <td>1.5</td>\n",
       "      <td>0.2</td>\n",
       "      <td>Iris-setosa</td>\n",
       "    </tr>\n",
       "    <tr>\n",
       "      <th>4</th>\n",
       "      <td>5.0</td>\n",
       "      <td>3.6</td>\n",
       "      <td>1.4</td>\n",
       "      <td>0.2</td>\n",
       "      <td>Iris-setosa</td>\n",
       "    </tr>\n",
       "    <tr>\n",
       "      <th>5</th>\n",
       "      <td>5.4</td>\n",
       "      <td>3.9</td>\n",
       "      <td>1.7</td>\n",
       "      <td>0.4</td>\n",
       "      <td>Iris-setosa</td>\n",
       "    </tr>\n",
       "    <tr>\n",
       "      <th>6</th>\n",
       "      <td>4.6</td>\n",
       "      <td>3.4</td>\n",
       "      <td>1.4</td>\n",
       "      <td>0.3</td>\n",
       "      <td>Iris-setosa</td>\n",
       "    </tr>\n",
       "    <tr>\n",
       "      <th>7</th>\n",
       "      <td>5.0</td>\n",
       "      <td>3.4</td>\n",
       "      <td>1.5</td>\n",
       "      <td>0.2</td>\n",
       "      <td>Iris-setosa</td>\n",
       "    </tr>\n",
       "    <tr>\n",
       "      <th>8</th>\n",
       "      <td>4.4</td>\n",
       "      <td>2.9</td>\n",
       "      <td>1.4</td>\n",
       "      <td>0.2</td>\n",
       "      <td>Iris-setosa</td>\n",
       "    </tr>\n",
       "    <tr>\n",
       "      <th>9</th>\n",
       "      <td>4.9</td>\n",
       "      <td>3.1</td>\n",
       "      <td>1.5</td>\n",
       "      <td>0.1</td>\n",
       "      <td>Iris-setosa</td>\n",
       "    </tr>\n",
       "    <tr>\n",
       "      <th>10</th>\n",
       "      <td>5.4</td>\n",
       "      <td>3.7</td>\n",
       "      <td>1.5</td>\n",
       "      <td>0.2</td>\n",
       "      <td>Iris-setosa</td>\n",
       "    </tr>\n",
       "    <tr>\n",
       "      <th>11</th>\n",
       "      <td>4.8</td>\n",
       "      <td>3.4</td>\n",
       "      <td>1.6</td>\n",
       "      <td>0.2</td>\n",
       "      <td>Iris-setosa</td>\n",
       "    </tr>\n",
       "    <tr>\n",
       "      <th>12</th>\n",
       "      <td>4.8</td>\n",
       "      <td>3.0</td>\n",
       "      <td>1.4</td>\n",
       "      <td>0.1</td>\n",
       "      <td>Iris-setosa</td>\n",
       "    </tr>\n",
       "    <tr>\n",
       "      <th>13</th>\n",
       "      <td>4.3</td>\n",
       "      <td>3.0</td>\n",
       "      <td>1.1</td>\n",
       "      <td>0.1</td>\n",
       "      <td>Iris-setosa</td>\n",
       "    </tr>\n",
       "    <tr>\n",
       "      <th>14</th>\n",
       "      <td>5.8</td>\n",
       "      <td>4.0</td>\n",
       "      <td>1.2</td>\n",
       "      <td>0.2</td>\n",
       "      <td>Iris-setosa</td>\n",
       "    </tr>\n",
       "    <tr>\n",
       "      <th>15</th>\n",
       "      <td>5.7</td>\n",
       "      <td>4.4</td>\n",
       "      <td>1.5</td>\n",
       "      <td>0.4</td>\n",
       "      <td>Iris-setosa</td>\n",
       "    </tr>\n",
       "    <tr>\n",
       "      <th>16</th>\n",
       "      <td>5.4</td>\n",
       "      <td>3.9</td>\n",
       "      <td>1.3</td>\n",
       "      <td>0.4</td>\n",
       "      <td>Iris-setosa</td>\n",
       "    </tr>\n",
       "    <tr>\n",
       "      <th>17</th>\n",
       "      <td>5.1</td>\n",
       "      <td>3.5</td>\n",
       "      <td>1.4</td>\n",
       "      <td>0.3</td>\n",
       "      <td>Iris-setosa</td>\n",
       "    </tr>\n",
       "    <tr>\n",
       "      <th>18</th>\n",
       "      <td>5.7</td>\n",
       "      <td>3.8</td>\n",
       "      <td>1.7</td>\n",
       "      <td>0.3</td>\n",
       "      <td>Iris-setosa</td>\n",
       "    </tr>\n",
       "    <tr>\n",
       "      <th>19</th>\n",
       "      <td>5.1</td>\n",
       "      <td>3.8</td>\n",
       "      <td>1.5</td>\n",
       "      <td>0.3</td>\n",
       "      <td>Iris-setosa</td>\n",
       "    </tr>\n",
       "    <tr>\n",
       "      <th>20</th>\n",
       "      <td>5.4</td>\n",
       "      <td>3.4</td>\n",
       "      <td>1.7</td>\n",
       "      <td>0.2</td>\n",
       "      <td>Iris-setosa</td>\n",
       "    </tr>\n",
       "    <tr>\n",
       "      <th>21</th>\n",
       "      <td>5.1</td>\n",
       "      <td>3.7</td>\n",
       "      <td>1.5</td>\n",
       "      <td>0.4</td>\n",
       "      <td>Iris-setosa</td>\n",
       "    </tr>\n",
       "    <tr>\n",
       "      <th>22</th>\n",
       "      <td>4.6</td>\n",
       "      <td>3.6</td>\n",
       "      <td>1.0</td>\n",
       "      <td>0.2</td>\n",
       "      <td>Iris-setosa</td>\n",
       "    </tr>\n",
       "    <tr>\n",
       "      <th>23</th>\n",
       "      <td>5.1</td>\n",
       "      <td>3.3</td>\n",
       "      <td>1.7</td>\n",
       "      <td>0.5</td>\n",
       "      <td>Iris-setosa</td>\n",
       "    </tr>\n",
       "    <tr>\n",
       "      <th>24</th>\n",
       "      <td>4.8</td>\n",
       "      <td>3.4</td>\n",
       "      <td>1.9</td>\n",
       "      <td>0.2</td>\n",
       "      <td>Iris-setosa</td>\n",
       "    </tr>\n",
       "    <tr>\n",
       "      <th>25</th>\n",
       "      <td>5.0</td>\n",
       "      <td>3.0</td>\n",
       "      <td>1.6</td>\n",
       "      <td>0.2</td>\n",
       "      <td>Iris-setosa</td>\n",
       "    </tr>\n",
       "    <tr>\n",
       "      <th>26</th>\n",
       "      <td>5.0</td>\n",
       "      <td>3.4</td>\n",
       "      <td>1.6</td>\n",
       "      <td>0.4</td>\n",
       "      <td>Iris-setosa</td>\n",
       "    </tr>\n",
       "    <tr>\n",
       "      <th>27</th>\n",
       "      <td>5.2</td>\n",
       "      <td>3.5</td>\n",
       "      <td>1.5</td>\n",
       "      <td>0.2</td>\n",
       "      <td>Iris-setosa</td>\n",
       "    </tr>\n",
       "    <tr>\n",
       "      <th>28</th>\n",
       "      <td>5.2</td>\n",
       "      <td>3.4</td>\n",
       "      <td>1.4</td>\n",
       "      <td>0.2</td>\n",
       "      <td>Iris-setosa</td>\n",
       "    </tr>\n",
       "    <tr>\n",
       "      <th>29</th>\n",
       "      <td>4.7</td>\n",
       "      <td>3.2</td>\n",
       "      <td>1.6</td>\n",
       "      <td>0.2</td>\n",
       "      <td>Iris-setosa</td>\n",
       "    </tr>\n",
       "    <tr>\n",
       "      <th>...</th>\n",
       "      <td>...</td>\n",
       "      <td>...</td>\n",
       "      <td>...</td>\n",
       "      <td>...</td>\n",
       "      <td>...</td>\n",
       "    </tr>\n",
       "    <tr>\n",
       "      <th>120</th>\n",
       "      <td>6.9</td>\n",
       "      <td>3.2</td>\n",
       "      <td>5.7</td>\n",
       "      <td>2.3</td>\n",
       "      <td>Iris-virginica</td>\n",
       "    </tr>\n",
       "    <tr>\n",
       "      <th>121</th>\n",
       "      <td>5.6</td>\n",
       "      <td>2.8</td>\n",
       "      <td>4.9</td>\n",
       "      <td>2.0</td>\n",
       "      <td>Iris-virginica</td>\n",
       "    </tr>\n",
       "    <tr>\n",
       "      <th>122</th>\n",
       "      <td>7.7</td>\n",
       "      <td>2.8</td>\n",
       "      <td>6.7</td>\n",
       "      <td>2.0</td>\n",
       "      <td>Iris-virginica</td>\n",
       "    </tr>\n",
       "    <tr>\n",
       "      <th>123</th>\n",
       "      <td>6.3</td>\n",
       "      <td>2.7</td>\n",
       "      <td>4.9</td>\n",
       "      <td>1.8</td>\n",
       "      <td>Iris-virginica</td>\n",
       "    </tr>\n",
       "    <tr>\n",
       "      <th>124</th>\n",
       "      <td>6.7</td>\n",
       "      <td>3.3</td>\n",
       "      <td>5.7</td>\n",
       "      <td>2.1</td>\n",
       "      <td>Iris-virginica</td>\n",
       "    </tr>\n",
       "    <tr>\n",
       "      <th>125</th>\n",
       "      <td>7.2</td>\n",
       "      <td>3.2</td>\n",
       "      <td>6.0</td>\n",
       "      <td>1.8</td>\n",
       "      <td>Iris-virginica</td>\n",
       "    </tr>\n",
       "    <tr>\n",
       "      <th>126</th>\n",
       "      <td>6.2</td>\n",
       "      <td>2.8</td>\n",
       "      <td>4.8</td>\n",
       "      <td>1.8</td>\n",
       "      <td>Iris-virginica</td>\n",
       "    </tr>\n",
       "    <tr>\n",
       "      <th>127</th>\n",
       "      <td>6.1</td>\n",
       "      <td>3.0</td>\n",
       "      <td>4.9</td>\n",
       "      <td>1.8</td>\n",
       "      <td>Iris-virginica</td>\n",
       "    </tr>\n",
       "    <tr>\n",
       "      <th>128</th>\n",
       "      <td>6.4</td>\n",
       "      <td>2.8</td>\n",
       "      <td>5.6</td>\n",
       "      <td>2.1</td>\n",
       "      <td>Iris-virginica</td>\n",
       "    </tr>\n",
       "    <tr>\n",
       "      <th>129</th>\n",
       "      <td>7.2</td>\n",
       "      <td>3.0</td>\n",
       "      <td>5.8</td>\n",
       "      <td>1.6</td>\n",
       "      <td>Iris-virginica</td>\n",
       "    </tr>\n",
       "    <tr>\n",
       "      <th>130</th>\n",
       "      <td>7.4</td>\n",
       "      <td>2.8</td>\n",
       "      <td>6.1</td>\n",
       "      <td>1.9</td>\n",
       "      <td>Iris-virginica</td>\n",
       "    </tr>\n",
       "    <tr>\n",
       "      <th>131</th>\n",
       "      <td>7.9</td>\n",
       "      <td>3.8</td>\n",
       "      <td>6.4</td>\n",
       "      <td>2.0</td>\n",
       "      <td>Iris-virginica</td>\n",
       "    </tr>\n",
       "    <tr>\n",
       "      <th>132</th>\n",
       "      <td>6.4</td>\n",
       "      <td>2.8</td>\n",
       "      <td>5.6</td>\n",
       "      <td>2.2</td>\n",
       "      <td>Iris-virginica</td>\n",
       "    </tr>\n",
       "    <tr>\n",
       "      <th>133</th>\n",
       "      <td>6.3</td>\n",
       "      <td>2.8</td>\n",
       "      <td>5.1</td>\n",
       "      <td>1.5</td>\n",
       "      <td>Iris-virginica</td>\n",
       "    </tr>\n",
       "    <tr>\n",
       "      <th>134</th>\n",
       "      <td>6.1</td>\n",
       "      <td>2.6</td>\n",
       "      <td>5.6</td>\n",
       "      <td>1.4</td>\n",
       "      <td>Iris-virginica</td>\n",
       "    </tr>\n",
       "    <tr>\n",
       "      <th>135</th>\n",
       "      <td>7.7</td>\n",
       "      <td>3.0</td>\n",
       "      <td>6.1</td>\n",
       "      <td>2.3</td>\n",
       "      <td>Iris-virginica</td>\n",
       "    </tr>\n",
       "    <tr>\n",
       "      <th>136</th>\n",
       "      <td>6.3</td>\n",
       "      <td>3.4</td>\n",
       "      <td>5.6</td>\n",
       "      <td>2.4</td>\n",
       "      <td>Iris-virginica</td>\n",
       "    </tr>\n",
       "    <tr>\n",
       "      <th>137</th>\n",
       "      <td>6.4</td>\n",
       "      <td>3.1</td>\n",
       "      <td>5.5</td>\n",
       "      <td>1.8</td>\n",
       "      <td>Iris-virginica</td>\n",
       "    </tr>\n",
       "    <tr>\n",
       "      <th>138</th>\n",
       "      <td>6.0</td>\n",
       "      <td>3.0</td>\n",
       "      <td>4.8</td>\n",
       "      <td>1.8</td>\n",
       "      <td>Iris-virginica</td>\n",
       "    </tr>\n",
       "    <tr>\n",
       "      <th>139</th>\n",
       "      <td>6.9</td>\n",
       "      <td>3.1</td>\n",
       "      <td>5.4</td>\n",
       "      <td>2.1</td>\n",
       "      <td>Iris-virginica</td>\n",
       "    </tr>\n",
       "    <tr>\n",
       "      <th>140</th>\n",
       "      <td>6.7</td>\n",
       "      <td>3.1</td>\n",
       "      <td>5.6</td>\n",
       "      <td>2.4</td>\n",
       "      <td>Iris-virginica</td>\n",
       "    </tr>\n",
       "    <tr>\n",
       "      <th>141</th>\n",
       "      <td>6.9</td>\n",
       "      <td>3.1</td>\n",
       "      <td>5.1</td>\n",
       "      <td>2.3</td>\n",
       "      <td>Iris-virginica</td>\n",
       "    </tr>\n",
       "    <tr>\n",
       "      <th>142</th>\n",
       "      <td>5.8</td>\n",
       "      <td>2.7</td>\n",
       "      <td>5.1</td>\n",
       "      <td>1.9</td>\n",
       "      <td>Iris-virginica</td>\n",
       "    </tr>\n",
       "    <tr>\n",
       "      <th>143</th>\n",
       "      <td>6.8</td>\n",
       "      <td>3.2</td>\n",
       "      <td>5.9</td>\n",
       "      <td>2.3</td>\n",
       "      <td>Iris-virginica</td>\n",
       "    </tr>\n",
       "    <tr>\n",
       "      <th>144</th>\n",
       "      <td>6.7</td>\n",
       "      <td>3.3</td>\n",
       "      <td>5.7</td>\n",
       "      <td>2.5</td>\n",
       "      <td>Iris-virginica</td>\n",
       "    </tr>\n",
       "    <tr>\n",
       "      <th>145</th>\n",
       "      <td>6.7</td>\n",
       "      <td>3.0</td>\n",
       "      <td>5.2</td>\n",
       "      <td>2.3</td>\n",
       "      <td>Iris-virginica</td>\n",
       "    </tr>\n",
       "    <tr>\n",
       "      <th>146</th>\n",
       "      <td>6.3</td>\n",
       "      <td>2.5</td>\n",
       "      <td>5.0</td>\n",
       "      <td>1.9</td>\n",
       "      <td>Iris-virginica</td>\n",
       "    </tr>\n",
       "    <tr>\n",
       "      <th>147</th>\n",
       "      <td>6.5</td>\n",
       "      <td>3.0</td>\n",
       "      <td>5.2</td>\n",
       "      <td>2.0</td>\n",
       "      <td>Iris-virginica</td>\n",
       "    </tr>\n",
       "    <tr>\n",
       "      <th>148</th>\n",
       "      <td>6.2</td>\n",
       "      <td>3.4</td>\n",
       "      <td>5.4</td>\n",
       "      <td>2.3</td>\n",
       "      <td>Iris-virginica</td>\n",
       "    </tr>\n",
       "    <tr>\n",
       "      <th>149</th>\n",
       "      <td>5.9</td>\n",
       "      <td>3.0</td>\n",
       "      <td>5.1</td>\n",
       "      <td>1.8</td>\n",
       "      <td>Iris-virginica</td>\n",
       "    </tr>\n",
       "  </tbody>\n",
       "</table>\n",
       "<p>150 rows × 5 columns</p>\n",
       "</div>"
      ],
      "text/plain": [
       "     sepal.length  sepal.width  petal.length  petal.width         variety\n",
       "0             5.1          3.5           1.4          0.2     Iris-setosa\n",
       "1             4.9          3.0           1.4          0.2     Iris-setosa\n",
       "2             4.7          3.2           1.3          0.2     Iris-setosa\n",
       "3             4.6          3.1           1.5          0.2     Iris-setosa\n",
       "4             5.0          3.6           1.4          0.2     Iris-setosa\n",
       "5             5.4          3.9           1.7          0.4     Iris-setosa\n",
       "6             4.6          3.4           1.4          0.3     Iris-setosa\n",
       "7             5.0          3.4           1.5          0.2     Iris-setosa\n",
       "8             4.4          2.9           1.4          0.2     Iris-setosa\n",
       "9             4.9          3.1           1.5          0.1     Iris-setosa\n",
       "10            5.4          3.7           1.5          0.2     Iris-setosa\n",
       "11            4.8          3.4           1.6          0.2     Iris-setosa\n",
       "12            4.8          3.0           1.4          0.1     Iris-setosa\n",
       "13            4.3          3.0           1.1          0.1     Iris-setosa\n",
       "14            5.8          4.0           1.2          0.2     Iris-setosa\n",
       "15            5.7          4.4           1.5          0.4     Iris-setosa\n",
       "16            5.4          3.9           1.3          0.4     Iris-setosa\n",
       "17            5.1          3.5           1.4          0.3     Iris-setosa\n",
       "18            5.7          3.8           1.7          0.3     Iris-setosa\n",
       "19            5.1          3.8           1.5          0.3     Iris-setosa\n",
       "20            5.4          3.4           1.7          0.2     Iris-setosa\n",
       "21            5.1          3.7           1.5          0.4     Iris-setosa\n",
       "22            4.6          3.6           1.0          0.2     Iris-setosa\n",
       "23            5.1          3.3           1.7          0.5     Iris-setosa\n",
       "24            4.8          3.4           1.9          0.2     Iris-setosa\n",
       "25            5.0          3.0           1.6          0.2     Iris-setosa\n",
       "26            5.0          3.4           1.6          0.4     Iris-setosa\n",
       "27            5.2          3.5           1.5          0.2     Iris-setosa\n",
       "28            5.2          3.4           1.4          0.2     Iris-setosa\n",
       "29            4.7          3.2           1.6          0.2     Iris-setosa\n",
       "..            ...          ...           ...          ...             ...\n",
       "120           6.9          3.2           5.7          2.3  Iris-virginica\n",
       "121           5.6          2.8           4.9          2.0  Iris-virginica\n",
       "122           7.7          2.8           6.7          2.0  Iris-virginica\n",
       "123           6.3          2.7           4.9          1.8  Iris-virginica\n",
       "124           6.7          3.3           5.7          2.1  Iris-virginica\n",
       "125           7.2          3.2           6.0          1.8  Iris-virginica\n",
       "126           6.2          2.8           4.8          1.8  Iris-virginica\n",
       "127           6.1          3.0           4.9          1.8  Iris-virginica\n",
       "128           6.4          2.8           5.6          2.1  Iris-virginica\n",
       "129           7.2          3.0           5.8          1.6  Iris-virginica\n",
       "130           7.4          2.8           6.1          1.9  Iris-virginica\n",
       "131           7.9          3.8           6.4          2.0  Iris-virginica\n",
       "132           6.4          2.8           5.6          2.2  Iris-virginica\n",
       "133           6.3          2.8           5.1          1.5  Iris-virginica\n",
       "134           6.1          2.6           5.6          1.4  Iris-virginica\n",
       "135           7.7          3.0           6.1          2.3  Iris-virginica\n",
       "136           6.3          3.4           5.6          2.4  Iris-virginica\n",
       "137           6.4          3.1           5.5          1.8  Iris-virginica\n",
       "138           6.0          3.0           4.8          1.8  Iris-virginica\n",
       "139           6.9          3.1           5.4          2.1  Iris-virginica\n",
       "140           6.7          3.1           5.6          2.4  Iris-virginica\n",
       "141           6.9          3.1           5.1          2.3  Iris-virginica\n",
       "142           5.8          2.7           5.1          1.9  Iris-virginica\n",
       "143           6.8          3.2           5.9          2.3  Iris-virginica\n",
       "144           6.7          3.3           5.7          2.5  Iris-virginica\n",
       "145           6.7          3.0           5.2          2.3  Iris-virginica\n",
       "146           6.3          2.5           5.0          1.9  Iris-virginica\n",
       "147           6.5          3.0           5.2          2.0  Iris-virginica\n",
       "148           6.2          3.4           5.4          2.3  Iris-virginica\n",
       "149           5.9          3.0           5.1          1.8  Iris-virginica\n",
       "\n",
       "[150 rows x 5 columns]"
      ]
     },
     "execution_count": 75,
     "metadata": {},
     "output_type": "execute_result"
    }
   ],
   "source": [
    "# Store Iris dataset into the dataframe from the url source\n",
    "url = \"https://raw.githubusercontent.com/jbrownlee/Datasets/master/iris.csv\"\n",
    "names = ['sepal.length','sepal.width','petal.length','petal.width','variety']\n",
    "df_iris = pd.read_csv(url, names=names)\n",
    "df_iris"
   ]
  },
  {
   "cell_type": "markdown",
   "metadata": {
    "colab_type": "text",
    "id": "xwwpt5KLV5qq"
   },
   "source": [
    "Task 1: Create a dataframe called ***df_petal*** such that it contains only those entries of **petal_length** and **petal_width** features, where the variety is either Iris-versicolor or Iris-virginica. Then make a scatter plot to show the correlation between these 2 features."
   ]
  },
  {
   "cell_type": "code",
   "execution_count": 76,
   "metadata": {
    "colab": {},
    "colab_type": "code",
    "id": "5I6xSuOWWV90"
   },
   "outputs": [
    {
     "data": {
      "text/html": [
       "<div>\n",
       "<style scoped>\n",
       "    .dataframe tbody tr th:only-of-type {\n",
       "        vertical-align: middle;\n",
       "    }\n",
       "\n",
       "    .dataframe tbody tr th {\n",
       "        vertical-align: top;\n",
       "    }\n",
       "\n",
       "    .dataframe thead th {\n",
       "        text-align: right;\n",
       "    }\n",
       "</style>\n",
       "<table border=\"1\" class=\"dataframe\">\n",
       "  <thead>\n",
       "    <tr style=\"text-align: right;\">\n",
       "      <th></th>\n",
       "      <th>petal.length</th>\n",
       "      <th>petal.width</th>\n",
       "    </tr>\n",
       "  </thead>\n",
       "  <tbody>\n",
       "    <tr>\n",
       "      <th>50</th>\n",
       "      <td>4.7</td>\n",
       "      <td>1.4</td>\n",
       "    </tr>\n",
       "    <tr>\n",
       "      <th>51</th>\n",
       "      <td>4.5</td>\n",
       "      <td>1.5</td>\n",
       "    </tr>\n",
       "    <tr>\n",
       "      <th>52</th>\n",
       "      <td>4.9</td>\n",
       "      <td>1.5</td>\n",
       "    </tr>\n",
       "    <tr>\n",
       "      <th>53</th>\n",
       "      <td>4.0</td>\n",
       "      <td>1.3</td>\n",
       "    </tr>\n",
       "    <tr>\n",
       "      <th>54</th>\n",
       "      <td>4.6</td>\n",
       "      <td>1.5</td>\n",
       "    </tr>\n",
       "    <tr>\n",
       "      <th>55</th>\n",
       "      <td>4.5</td>\n",
       "      <td>1.3</td>\n",
       "    </tr>\n",
       "    <tr>\n",
       "      <th>56</th>\n",
       "      <td>4.7</td>\n",
       "      <td>1.6</td>\n",
       "    </tr>\n",
       "    <tr>\n",
       "      <th>57</th>\n",
       "      <td>3.3</td>\n",
       "      <td>1.0</td>\n",
       "    </tr>\n",
       "    <tr>\n",
       "      <th>58</th>\n",
       "      <td>4.6</td>\n",
       "      <td>1.3</td>\n",
       "    </tr>\n",
       "    <tr>\n",
       "      <th>59</th>\n",
       "      <td>3.9</td>\n",
       "      <td>1.4</td>\n",
       "    </tr>\n",
       "    <tr>\n",
       "      <th>60</th>\n",
       "      <td>3.5</td>\n",
       "      <td>1.0</td>\n",
       "    </tr>\n",
       "    <tr>\n",
       "      <th>61</th>\n",
       "      <td>4.2</td>\n",
       "      <td>1.5</td>\n",
       "    </tr>\n",
       "    <tr>\n",
       "      <th>62</th>\n",
       "      <td>4.0</td>\n",
       "      <td>1.0</td>\n",
       "    </tr>\n",
       "    <tr>\n",
       "      <th>63</th>\n",
       "      <td>4.7</td>\n",
       "      <td>1.4</td>\n",
       "    </tr>\n",
       "    <tr>\n",
       "      <th>64</th>\n",
       "      <td>3.6</td>\n",
       "      <td>1.3</td>\n",
       "    </tr>\n",
       "    <tr>\n",
       "      <th>65</th>\n",
       "      <td>4.4</td>\n",
       "      <td>1.4</td>\n",
       "    </tr>\n",
       "    <tr>\n",
       "      <th>66</th>\n",
       "      <td>4.5</td>\n",
       "      <td>1.5</td>\n",
       "    </tr>\n",
       "    <tr>\n",
       "      <th>67</th>\n",
       "      <td>4.1</td>\n",
       "      <td>1.0</td>\n",
       "    </tr>\n",
       "    <tr>\n",
       "      <th>68</th>\n",
       "      <td>4.5</td>\n",
       "      <td>1.5</td>\n",
       "    </tr>\n",
       "    <tr>\n",
       "      <th>69</th>\n",
       "      <td>3.9</td>\n",
       "      <td>1.1</td>\n",
       "    </tr>\n",
       "    <tr>\n",
       "      <th>70</th>\n",
       "      <td>4.8</td>\n",
       "      <td>1.8</td>\n",
       "    </tr>\n",
       "    <tr>\n",
       "      <th>71</th>\n",
       "      <td>4.0</td>\n",
       "      <td>1.3</td>\n",
       "    </tr>\n",
       "    <tr>\n",
       "      <th>72</th>\n",
       "      <td>4.9</td>\n",
       "      <td>1.5</td>\n",
       "    </tr>\n",
       "    <tr>\n",
       "      <th>73</th>\n",
       "      <td>4.7</td>\n",
       "      <td>1.2</td>\n",
       "    </tr>\n",
       "    <tr>\n",
       "      <th>74</th>\n",
       "      <td>4.3</td>\n",
       "      <td>1.3</td>\n",
       "    </tr>\n",
       "    <tr>\n",
       "      <th>75</th>\n",
       "      <td>4.4</td>\n",
       "      <td>1.4</td>\n",
       "    </tr>\n",
       "    <tr>\n",
       "      <th>76</th>\n",
       "      <td>4.8</td>\n",
       "      <td>1.4</td>\n",
       "    </tr>\n",
       "    <tr>\n",
       "      <th>77</th>\n",
       "      <td>5.0</td>\n",
       "      <td>1.7</td>\n",
       "    </tr>\n",
       "    <tr>\n",
       "      <th>78</th>\n",
       "      <td>4.5</td>\n",
       "      <td>1.5</td>\n",
       "    </tr>\n",
       "    <tr>\n",
       "      <th>79</th>\n",
       "      <td>3.5</td>\n",
       "      <td>1.0</td>\n",
       "    </tr>\n",
       "    <tr>\n",
       "      <th>...</th>\n",
       "      <td>...</td>\n",
       "      <td>...</td>\n",
       "    </tr>\n",
       "    <tr>\n",
       "      <th>120</th>\n",
       "      <td>5.7</td>\n",
       "      <td>2.3</td>\n",
       "    </tr>\n",
       "    <tr>\n",
       "      <th>121</th>\n",
       "      <td>4.9</td>\n",
       "      <td>2.0</td>\n",
       "    </tr>\n",
       "    <tr>\n",
       "      <th>122</th>\n",
       "      <td>6.7</td>\n",
       "      <td>2.0</td>\n",
       "    </tr>\n",
       "    <tr>\n",
       "      <th>123</th>\n",
       "      <td>4.9</td>\n",
       "      <td>1.8</td>\n",
       "    </tr>\n",
       "    <tr>\n",
       "      <th>124</th>\n",
       "      <td>5.7</td>\n",
       "      <td>2.1</td>\n",
       "    </tr>\n",
       "    <tr>\n",
       "      <th>125</th>\n",
       "      <td>6.0</td>\n",
       "      <td>1.8</td>\n",
       "    </tr>\n",
       "    <tr>\n",
       "      <th>126</th>\n",
       "      <td>4.8</td>\n",
       "      <td>1.8</td>\n",
       "    </tr>\n",
       "    <tr>\n",
       "      <th>127</th>\n",
       "      <td>4.9</td>\n",
       "      <td>1.8</td>\n",
       "    </tr>\n",
       "    <tr>\n",
       "      <th>128</th>\n",
       "      <td>5.6</td>\n",
       "      <td>2.1</td>\n",
       "    </tr>\n",
       "    <tr>\n",
       "      <th>129</th>\n",
       "      <td>5.8</td>\n",
       "      <td>1.6</td>\n",
       "    </tr>\n",
       "    <tr>\n",
       "      <th>130</th>\n",
       "      <td>6.1</td>\n",
       "      <td>1.9</td>\n",
       "    </tr>\n",
       "    <tr>\n",
       "      <th>131</th>\n",
       "      <td>6.4</td>\n",
       "      <td>2.0</td>\n",
       "    </tr>\n",
       "    <tr>\n",
       "      <th>132</th>\n",
       "      <td>5.6</td>\n",
       "      <td>2.2</td>\n",
       "    </tr>\n",
       "    <tr>\n",
       "      <th>133</th>\n",
       "      <td>5.1</td>\n",
       "      <td>1.5</td>\n",
       "    </tr>\n",
       "    <tr>\n",
       "      <th>134</th>\n",
       "      <td>5.6</td>\n",
       "      <td>1.4</td>\n",
       "    </tr>\n",
       "    <tr>\n",
       "      <th>135</th>\n",
       "      <td>6.1</td>\n",
       "      <td>2.3</td>\n",
       "    </tr>\n",
       "    <tr>\n",
       "      <th>136</th>\n",
       "      <td>5.6</td>\n",
       "      <td>2.4</td>\n",
       "    </tr>\n",
       "    <tr>\n",
       "      <th>137</th>\n",
       "      <td>5.5</td>\n",
       "      <td>1.8</td>\n",
       "    </tr>\n",
       "    <tr>\n",
       "      <th>138</th>\n",
       "      <td>4.8</td>\n",
       "      <td>1.8</td>\n",
       "    </tr>\n",
       "    <tr>\n",
       "      <th>139</th>\n",
       "      <td>5.4</td>\n",
       "      <td>2.1</td>\n",
       "    </tr>\n",
       "    <tr>\n",
       "      <th>140</th>\n",
       "      <td>5.6</td>\n",
       "      <td>2.4</td>\n",
       "    </tr>\n",
       "    <tr>\n",
       "      <th>141</th>\n",
       "      <td>5.1</td>\n",
       "      <td>2.3</td>\n",
       "    </tr>\n",
       "    <tr>\n",
       "      <th>142</th>\n",
       "      <td>5.1</td>\n",
       "      <td>1.9</td>\n",
       "    </tr>\n",
       "    <tr>\n",
       "      <th>143</th>\n",
       "      <td>5.9</td>\n",
       "      <td>2.3</td>\n",
       "    </tr>\n",
       "    <tr>\n",
       "      <th>144</th>\n",
       "      <td>5.7</td>\n",
       "      <td>2.5</td>\n",
       "    </tr>\n",
       "    <tr>\n",
       "      <th>145</th>\n",
       "      <td>5.2</td>\n",
       "      <td>2.3</td>\n",
       "    </tr>\n",
       "    <tr>\n",
       "      <th>146</th>\n",
       "      <td>5.0</td>\n",
       "      <td>1.9</td>\n",
       "    </tr>\n",
       "    <tr>\n",
       "      <th>147</th>\n",
       "      <td>5.2</td>\n",
       "      <td>2.0</td>\n",
       "    </tr>\n",
       "    <tr>\n",
       "      <th>148</th>\n",
       "      <td>5.4</td>\n",
       "      <td>2.3</td>\n",
       "    </tr>\n",
       "    <tr>\n",
       "      <th>149</th>\n",
       "      <td>5.1</td>\n",
       "      <td>1.8</td>\n",
       "    </tr>\n",
       "  </tbody>\n",
       "</table>\n",
       "<p>100 rows × 2 columns</p>\n",
       "</div>"
      ],
      "text/plain": [
       "     petal.length  petal.width\n",
       "50            4.7          1.4\n",
       "51            4.5          1.5\n",
       "52            4.9          1.5\n",
       "53            4.0          1.3\n",
       "54            4.6          1.5\n",
       "55            4.5          1.3\n",
       "56            4.7          1.6\n",
       "57            3.3          1.0\n",
       "58            4.6          1.3\n",
       "59            3.9          1.4\n",
       "60            3.5          1.0\n",
       "61            4.2          1.5\n",
       "62            4.0          1.0\n",
       "63            4.7          1.4\n",
       "64            3.6          1.3\n",
       "65            4.4          1.4\n",
       "66            4.5          1.5\n",
       "67            4.1          1.0\n",
       "68            4.5          1.5\n",
       "69            3.9          1.1\n",
       "70            4.8          1.8\n",
       "71            4.0          1.3\n",
       "72            4.9          1.5\n",
       "73            4.7          1.2\n",
       "74            4.3          1.3\n",
       "75            4.4          1.4\n",
       "76            4.8          1.4\n",
       "77            5.0          1.7\n",
       "78            4.5          1.5\n",
       "79            3.5          1.0\n",
       "..            ...          ...\n",
       "120           5.7          2.3\n",
       "121           4.9          2.0\n",
       "122           6.7          2.0\n",
       "123           4.9          1.8\n",
       "124           5.7          2.1\n",
       "125           6.0          1.8\n",
       "126           4.8          1.8\n",
       "127           4.9          1.8\n",
       "128           5.6          2.1\n",
       "129           5.8          1.6\n",
       "130           6.1          1.9\n",
       "131           6.4          2.0\n",
       "132           5.6          2.2\n",
       "133           5.1          1.5\n",
       "134           5.6          1.4\n",
       "135           6.1          2.3\n",
       "136           5.6          2.4\n",
       "137           5.5          1.8\n",
       "138           4.8          1.8\n",
       "139           5.4          2.1\n",
       "140           5.6          2.4\n",
       "141           5.1          2.3\n",
       "142           5.1          1.9\n",
       "143           5.9          2.3\n",
       "144           5.7          2.5\n",
       "145           5.2          2.3\n",
       "146           5.0          1.9\n",
       "147           5.2          2.0\n",
       "148           5.4          2.3\n",
       "149           5.1          1.8\n",
       "\n",
       "[100 rows x 2 columns]"
      ]
     },
     "execution_count": 76,
     "metadata": {},
     "output_type": "execute_result"
    }
   ],
   "source": [
    "df1 = df_iris[(df_iris['variety']=='Iris-versicolor') | (df_iris['variety']=='Iris-virginica')]\n",
    "df_petal = df1[['petal.length', 'petal.width']]\n",
    "df_petal\n"
   ]
  },
  {
   "cell_type": "code",
   "execution_count": 77,
   "metadata": {},
   "outputs": [
    {
     "data": {
      "text/plain": [
       "(2.800353539669622, 7.099646460330377, 0.9178456819416371, 2.582154318058363)"
      ]
     },
     "execution_count": 77,
     "metadata": {},
     "output_type": "execute_result"
    },
    {
     "data": {
      "image/png": "[encoded data removed]",
      "text/plain": [
       "<Figure size 432x288 with 1 Axes>"
      ]
     },
     "metadata": {},
     "output_type": "display_data"
    }
   ],
   "source": [
    "\n",
    "x = df_petal['petal.length']\n",
    "y = df_petal['petal.width']\n",
    "\n",
    "plt.scatter(x, y, s = 8, c = 'k')\n",
    "plt.axis('equal')\n"
   ]
  },
  {
   "cell_type": "markdown",
   "metadata": {
    "colab_type": "text",
    "id": "G-GrfEkdXC_V"
   },
   "source": [
    "Task 2: Center the **df_petals** (subtract the mean of each variable from the dataset to center the data around the origin) and store the result in a new dataframe **df_petals_norm**.Then make a scatter plot to show the correlation between the two features. The arragements of the data points should look the same, but they will shift and with the center at (0,0). "
   ]
  },
  {
   "cell_type": "code",
   "execution_count": 78,
   "metadata": {
    "colab": {},
    "colab_type": "code",
    "id": "cF3kyqnQY-dE"
   },
   "outputs": [
    {
     "data": {
      "text/plain": [
       "(-2.105646460330378,\n",
       " 2.193646460330377,\n",
       " -0.7581543180583632,\n",
       " 0.9061543180583622)"
      ]
     },
     "execution_count": 78,
     "metadata": {},
     "output_type": "execute_result"
    },
    {
     "data": {
      "image/png": "[encoded data removed]",
      "text/plain": [
       "<Figure size 432x288 with 1 Axes>"
      ]
     },
     "metadata": {},
     "output_type": "display_data"
    }
   ],
   "source": [
    "df_petals_norm = df_petal  - df_petal[['petal.length', 'petal.width']].mean()\n",
    "df_petal[['petal.length', 'petal.width']].mean()\n",
    "x1 = df_petals_norm['petal.length']\n",
    "y1 = df_petals_norm['petal.width']\n",
    "\n",
    "plt.scatter(x1, y1, s = 8, c = 'k')\n",
    "plt.axis('equal')"
   ]
  },
  {
   "cell_type": "markdown",
   "metadata": {
    "colab_type": "text",
    "id": "6uzqXm-lZcI7"
   },
   "source": [
    "Task 3: Using numpy functions, find the covariance matrix for **df_petals_norm** in accordance with the formula and store it in **cov**."
   ]
  },
  {
   "cell_type": "code",
   "execution_count": 79,
   "metadata": {
    "colab": {},
    "colab_type": "code",
    "id": "6A0_QkoNZidt"
   },
   "outputs": [
    {
     "data": {
      "text/plain": [
       "array([[ 0.00245, -0.00805,  0.00595, ..., -0.00105, -0.00455,  0.00245],\n",
       "       [-0.00805,  0.02645, -0.01955, ...,  0.00345,  0.01495, -0.00805],\n",
       "       [ 0.00595, -0.01955,  0.01445, ..., -0.00255, -0.01105,  0.00595],\n",
       "       ...,\n",
       "       [-0.00105,  0.00345, -0.00255, ...,  0.00045,  0.00195, -0.00105],\n",
       "       [-0.00455,  0.01495, -0.01105, ...,  0.00195,  0.00845, -0.00455],\n",
       "       [ 0.00245, -0.00805,  0.00595, ..., -0.00105, -0.00455,  0.00245]])"
      ]
     },
     "execution_count": 79,
     "metadata": {},
     "output_type": "execute_result"
    }
   ],
   "source": [
    "cov1 = np.cov(df_petals_norm)\n",
    "cov1"
   ]
  },
  {
   "cell_type": "code",
   "execution_count": 82,
   "metadata": {},
   "outputs": [],
   "source": [
    "X = np.stack((df_petals_norm['petal.length'], df_petals_norm['petal.width']), axis=0)\n",
    "cov = np.cov(X)"
   ]
  },
  {
   "cell_type": "markdown",
   "metadata": {
    "colab_type": "text",
    "id": "OgdO2_wqZk0T"
   },
   "source": [
    "We can also utilize pandas built-in function to compute the covariance matrix. If your result is correct, np.allclose should return True"
   ]
  },
  {
   "cell_type": "code",
   "execution_count": 83,
   "metadata": {
    "colab": {},
    "colab_type": "code",
    "id": "2kcZ2NomZa0n"
   },
   "outputs": [
    {
     "name": "stdout",
     "output_type": "stream",
     "text": [
      "              petal.length  petal.width\n",
      "petal.length      0.681580     0.288731\n",
      "petal.width       0.288731     0.180428\n"
     ]
    },
    {
     "data": {
      "text/plain": [
       "True"
      ]
     },
     "execution_count": 83,
     "metadata": {},
     "output_type": "execute_result"
    }
   ],
   "source": [
    "cov_pandas = df_petals_norm.cov()\n",
    "print(cov_pandas)\n",
    "np.allclose(cov_pandas, cov) # ensure that two outputs are similar"
   ]
  },
  {
   "cell_type": "markdown",
   "metadata": {
    "colab_type": "text",
    "id": "5lSWXQNya8e3"
   },
   "source": [
    "Task 4: Find the eigen decomposition of **cov**.\n",
    "\n",
    "Then, sort eigenvalues and eigenvectors in the descending order of the eigenvalues. \n",
    "\n",
    "Lastly, make a scatter plot of the centered values and add the directions of the eigen vectors, as it was done for the covariance matrix of the gaussian distribution."
   ]
  },
  {
   "cell_type": "code",
   "execution_count": 92,
   "metadata": {
    "colab": {},
    "colab_type": "code",
    "id": "r-xikwK8a37M"
   },
   "outputs": [
    {
     "name": "stdout",
     "output_type": "stream",
     "text": [
      "[5. 1.]\n",
      "[[ 0.70710678 -0.70710678]\n",
      " [ 0.70710678  0.70710678]]\n"
     ]
    },
    {
     "data": {
      "image/png": "[encoded data removed]",
      "text/plain": [
       "<Figure size 432x288 with 1 Axes>"
      ]
     },
     "metadata": {},
     "output_type": "display_data"
    }
   ],
   "source": [
    "eigvals_c, eigvecs_c = la.eig(cov)\n",
    "\n",
    "\n",
    "plt.scatter(x1, y1, s = 8, c = 'k')\n",
    "plt.axis('equal')\n",
    "\n",
    "idx = eigvals_c.argsort()[::-1]   \n",
    "eigvals_c = eigvals_c[idx]\n",
    "eigvecs_c = eigvecs_c[:,idx]\n",
    "\n",
    "\n",
    "print(eigvals_c)\n",
    "print(eigvecs_c) \n",
    "scaled_eigen_vecs_c = np.multiply(eigvecs_c, eigvals_c)\n",
    "v1 = np.vstack((mean,scaled_eigen_vecs_c[:,0])).T\n",
    "v2 = np.vstack((mean,scaled_eigen_vecs_c[:,1])).T\n",
    "plt.plot(v1[0], v1[1], linewidth=3, label = \"The largest/first eigen vector\")\n",
    "plt.plot(v2[0], v2[1], linewidth=3, label = \"The second largest eigen vector\")\n",
    "plt.legend()\n",
    "plt.show()"
   ]
  },
  {
   "cell_type": "markdown",
   "metadata": {
    "colab_type": "text",
    "id": "EKVoWD9tg2N2"
   },
   "source": [
    "Task 5: Make a new dataframe **pc_df_petals** that holds the principal components of the data. To do so, project the data into principal axes (i.e. eigenvectors) using dot product. \n",
    "\n",
    "Then to illustrate that the principal components (i.e. 0 and 1) are indeed uncorrelated:\n",
    "1. Print the covariance of the principal components.\n",
    "2. Make a scatter plot of the principal components.\n",
    "\n",
    "Hint: pandas has its own built-in function to perform dot product and compute a covariance matrix.\n",
    "\n",
    "Your covariance matrix should have 0s or infinitesimal values in the secondary diagonal.\n",
    "\n",
    " "
   ]
  },
  {
   "cell_type": "code",
   "execution_count": 85,
   "metadata": {
    "colab": {},
    "colab_type": "code",
    "id": "Ne01zx9eUR3n"
   },
   "outputs": [
    {
     "data": {
      "text/plain": [
       "(-2.1801001109743785,\n",
       " 2.2800849101064364,\n",
       " -0.6021784782401179,\n",
       " 0.6411868697102935)"
      ]
     },
     "execution_count": 85,
     "metadata": {},
     "output_type": "execute_result"
    },
    {
     "data": {
      "image/png": "[encoded data removed]",
      "text/plain": [
       "<Figure size 432x288 with 1 Axes>"
      ]
     },
     "metadata": {},
     "output_type": "display_data"
    }
   ],
   "source": [
    "pc_df_petals = eigvecs_c.T.dot(df_petals_norm.T).T\n",
    "a = df_petals_norm.dot(eigvecs_c)\n",
    "x = pc_df_petals[:,0]\n",
    "y = pc_df_petals[:,1]\n",
    "plt.scatter(x, y, s = 8, c = 'k')\n",
    "plt.axis('equal')"
   ]
  },
  {
   "cell_type": "code",
   "execution_count": 86,
   "metadata": {},
   "outputs": [
    {
     "data": {
      "text/plain": [
       "True"
      ]
     },
     "execution_count": 86,
     "metadata": {},
     "output_type": "execute_result"
    }
   ],
   "source": [
    "np.allclose(a,pc_df_petals)"
   ]
  },
  {
   "cell_type": "markdown",
   "metadata": {
    "colab_type": "text",
    "id": "lDjLD1pCjCCa"
   },
   "source": [
    "Now we can verify that your produced principal components are correct by comparing with the result of sklearn implementation of PCA decomposition\n"
   ]
  },
  {
   "cell_type": "code",
   "execution_count": 87,
   "metadata": {
    "colab": {},
    "colab_type": "code",
    "id": "sDcAAxsXi_Ym"
   },
   "outputs": [
    {
     "data": {
      "text/plain": [
       "True"
      ]
     },
     "execution_count": 87,
     "metadata": {},
     "output_type": "execute_result"
    }
   ],
   "source": [
    "from sklearn import decomposition\n",
    "pca = decomposition.PCA(n_components=2)\n",
    "pc_sk = pca.fit_transform(df_petals_norm.values)\n",
    "np.allclose(pc_sk,pc_df_petals)"
   ]
  },
  {
   "cell_type": "markdown",
   "metadata": {
    "colab_type": "text",
    "id": "mJQR82kgFld5"
   },
   "source": [
    "# Part 2"
   ]
  },
  {
   "cell_type": "markdown",
   "metadata": {
    "colab_type": "text",
    "id": "trMl_HzD8XfY"
   },
   "source": [
    "### Dimensionality reduction\n",
    "The dimensionality reduction is an important technique widely employed in data science.\n",
    "For example, in order to visualize samples consisting of more than 3 features, we need to project them into lower dimensional space (e.g. 1, 2 or 3) with minimum loss of information.\n",
    "Another example is when we want to remove highly correlated features from the dataset which are uninformative for machine learning algorithm. In addition, removing the correlated features will reduce the overhead on computationally intensive algorithms in terms of computational time, power and memory requirements.\n",
    "For example, in gender prediction task, the 'tax paid' information of a person might be unnecceray, if the 'salary' information is given and tax is a fixed percentage of the salary.\n"
   ]
  },
  {
   "cell_type": "markdown",
   "metadata": {
    "colab_type": "text",
    "id": "wlfhytVd8kUA"
   },
   "source": [
    "In all aforementioned examples, we want to remove the uninfomrative part of the data with the minimum loss of information. This is exactly what PCA does by projecting the original data into principal axes of the covariance matrix. Recall that these principal axes are aligned with the direction of maximum variance.\n"
   ]
  },
  {
   "cell_type": "markdown",
   "metadata": {
    "colab_type": "text",
    "id": "PFz-tqRn8vXZ"
   },
   "source": [
    "Suppose the dimension of the original data is $d$, then we can reduce the dimensionality of the data to $k$ (assuming $k$ < $d$), by selecting $k$ first columns of the principal components. Here we assume that principal axes were sorted on the descending order of corresponding eigenvalues.\n"
   ]
  },
  {
   "cell_type": "markdown",
   "metadata": {
    "colab_type": "text",
    "id": "j1eJeRel9et9"
   },
   "source": [
    "Task: We would like to reduce the dimension of df_petals to 1 and plot the results. To do so:\n",
    " \n",
    "1.   Select the first column of **pc_df_petals** \n",
    "2.   Plot the histogram of these values colored by their true variety/class. Provide a legend.\n",
    "\n",
    "The first 10 samples should look like this: array([[-0.30197514],\n",
    "       [-0.44242689],\n",
    "       [-0.07851029],\n",
    "       [-0.98033575],\n",
    "       [-0.35144774],\n",
    "       [-0.52544   ],\n",
    "       [-0.21896203],\n",
    "       [-1.74170947],\n",
    "       [-0.43446085],\n",
    "       [-1.02980835]])\n"
   ]
  },
  {
   "cell_type": "code",
   "execution_count": null,
   "metadata": {
    "colab": {},
    "colab_type": "code",
    "id": "-gYHksRk_E23"
   },
   "outputs": [],
   "source": []
  },
  {
   "cell_type": "markdown",
   "metadata": {
    "colab_type": "text",
    "id": "dB-o5LAOONyA"
   },
   "source": [
    "### Explained variance\n",
    "\n",
    "In the current example, we are reducing the dimension of the data from 2 to 1. In many cases, the original dimension is much larger than 2 and we need to decide how many components are needed to capture the majority of variance in data. This number can be determined by looking at the cumulative explained variance ratio as a function of the number of components. To do that we first need to compute the explained variance ratio for each eigen value $\\lambda_j$ as $\\frac{\\lambda_j}{\\sum_{i=1}^d \\lambda_i}$, where $d$ is the dimension of data. Then we can find cumulative sum of explained variance ratios.\n"
   ]
  },
  {
   "cell_type": "markdown",
   "metadata": {
    "colab_type": "text",
    "id": "MM3LkzqTPGro"
   },
   "source": [
    "Task: find the cumulative explained variance ratio using the pre-sorted eigen values. The correct answer is [0.94350037, 1.        ]. In other wods, 94.35% of variance in data should be attributed to the first principal component."
   ]
  },
  {
   "cell_type": "code",
   "execution_count": null,
   "metadata": {
    "colab": {},
    "colab_type": "code",
    "id": "KatsxRgnPUB9"
   },
   "outputs": [],
   "source": []
  },
  {
   "cell_type": "markdown",
   "metadata": {
    "colab_type": "text",
    "id": "rS83pVpS0ZtN"
   },
   "source": [
    "## Implementing PCA using SVD (brace yourself its a long read)\n",
    "\n",
    "Let us to consider again $X$, the matrix that contains all of the normalized values in **df_petals_norm**.\n",
    "\n",
    "We can get the singular value decomposition of $X$ as follows:\n",
    "\n",
    "$X=USV^T$\n",
    "\n",
    "where $U$ is a matrix of left-singular vectors corresponding to the orthonormal eigenvectors of $XX^T$, $S$ is the diagonal matrix of singular values and $V$ is a matrix of right-singular vectors corresponding to the orthonormal eigenvectors of $X^TX$.\n",
    "\n",
    "Here is a graphical representation of SVD decomposition. In our case. $M$ is $X$, $\\Sigma$ is $S$ and $V^*$ is $V^T$\n",
    "<img src=\"https://upload.wikimedia.org/wikipedia/commons/thumb/c/c8/Singular_value_decomposition_visualisation.svg/1024px-Singular_value_decomposition_visualisation.svg.png\" width = \"300\"/>"
   ]
  },
  {
   "cell_type": "markdown",
   "metadata": {
    "colab_type": "text",
    "id": "SNOda3XF7qRI"
   },
   "source": [
    "#### Relationship between eigen values and singular values\n",
    "\n",
    "\n",
    "In part 1, we computed principal components as $XV$, using the singular value decomposition of X, we can rewrite it as follows:\n",
    "\n",
    "$XV = USV^TV = US $\n",
    "\n",
    "Recall from part 1 that the convariance matrix $C$ of $X$ containing $n$ samples is computed as follows:\n",
    "\n",
    "$C=\\frac{X^TX}{n-1}$\n",
    "\n",
    "Remeber, the eigenvalue decomposition (EVD) of covariance matrix, which is square and symmetric, is represented as:\n",
    "\n",
    "$C=VLV^T$\n",
    "\n",
    "where $V$ is a matrix of orthonormal eigenvectors of $C$ and $L$ is a diagonal matrix of corresponding eigenvalues.\n",
    "\n",
    "Given that the SVD of $X=USV^T$, one can easily see that covariance matrix $C$ can be computed as:\n",
    "\n",
    "$C=\\frac{X^TX}{n-1}=\\frac{(USV^T)^TUSV^T}{n-1}=\\frac{VS^TU^TUSV^T}{n-1}=V\\frac{S^2}{n-1}V^T$\n",
    "\n",
    "since $U$ is an orthonormal matrix, i.e $U^TU=I$.\n",
    "\n",
    "As we know $C=VLV^T=V\\frac{S^2}{n-1}V^T$, then we can conclude that the relationship between eigenvalues and singular values is $L=\\frac{S^2}{n-1}$\n",
    "\n"
   ]
  },
  {
   "cell_type": "markdown",
   "metadata": {
    "colab_type": "text",
    "id": "h8UmMM_bWan6"
   },
   "source": [
    "Task 1: Using la.svd(), decompose the mean-normalized data and compute principal components based on this decomposition and store them in **PC_svd**\n",
    "  "
   ]
  },
  {
   "cell_type": "code",
   "execution_count": null,
   "metadata": {
    "colab": {},
    "colab_type": "code",
    "id": "Sm1DrgHWVLss"
   },
   "outputs": [],
   "source": []
  },
  {
   "cell_type": "markdown",
   "metadata": {
    "colab_type": "text",
    "id": "b4GAc8ewWj-w"
   },
   "source": [
    "Task 2: Verify the relationship between eigenvalues and singular values using the formula given above"
   ]
  },
  {
   "cell_type": "code",
   "execution_count": null,
   "metadata": {
    "colab": {},
    "colab_type": "code",
    "id": "Of6C-mduWqS6"
   },
   "outputs": [],
   "source": []
  },
  {
   "cell_type": "markdown",
   "metadata": {
    "colab_type": "text",
    "id": "OxpTfvOX8Wir"
   },
   "source": [
    "The results coming from the two implementations can have different signs due to the sign indeterminacy between SVD and EVD. This can be resolved using the following function\n"
   ]
  },
  {
   "cell_type": "code",
   "execution_count": null,
   "metadata": {
    "colab": {},
    "colab_type": "code",
    "id": "4MMQ5sPZXL6C"
   },
   "outputs": [],
   "source": [
    "def flip_signs(A, B):\n",
    "    \"\"\"\n",
    "    utility function for resolving the sign ambiguity in SVD\n",
    "    http://stats.stackexchange.com/q/34396/115202\n",
    "    \"\"\"\n",
    "    signs = np.sign(A) * np.sign(B)\n",
    "    return A, B * signs\n",
    "  \n",
    "np.allclose(*flip_signs(pc_svd, pc_df_petals.values)) # ensure that it is euivalent to the one computer using EVD"
   ]
  },
  {
   "cell_type": "markdown",
   "metadata": {
    "colab_type": "text",
    "id": "eu4m5UHiYNAj"
   },
   "source": [
    "Task 3: Write a function **reduce_pca_eigen**. It has two input arguments: 1) a **mean-normalized** dataframe **X** of dimension $n \\times d$, where $n$ is the number of samples and $d$ is the number of features. 2) the number components **k**. The function output of the function are the eigenvalues of the covariance matrix and the reduced version of **X**\n",
    "\n"
   ]
  },
  {
   "cell_type": "code",
   "execution_count": null,
   "metadata": {
    "colab": {},
    "colab_type": "code",
    "id": "9V0V4z69YKpK"
   },
   "outputs": [],
   "source": [
    "def reduce_pca_eigen(X, k):\n"
   ]
  },
  {
   "cell_type": "markdown",
   "metadata": {
    "colab_type": "text",
    "id": "7OhjRKaWqEmN"
   },
   "source": [
    "Task 4: Write a function **reduce_pca_svd**. It has two input arguments: 1) a **mean-normalized** dataframe **X** of dimension $n \\times d$, where $n$ is the number of samples and $d$ is the number of features. 2) the number components **k**. The output of the function is the reduced version of **X** using the SVD method."
   ]
  },
  {
   "cell_type": "code",
   "execution_count": null,
   "metadata": {
    "colab": {},
    "colab_type": "code",
    "id": "l2KWnd33aNH_"
   },
   "outputs": [],
   "source": [
    "def reduce_pca_svd(X, k):\n"
   ]
  },
  {
   "cell_type": "markdown",
   "metadata": {
    "colab_type": "text",
    "id": "fwOdZU032wlC"
   },
   "source": [
    "Task 5: Verify that both functions return the same answer when **df_petal_norm** is reduced to dimension 1 "
   ]
  },
  {
   "cell_type": "code",
   "execution_count": null,
   "metadata": {
    "colab": {},
    "colab_type": "code",
    "id": "dztvGGizix6R"
   },
   "outputs": [],
   "source": []
  },
  {
   "cell_type": "markdown",
   "metadata": {
    "colab_type": "text",
    "id": "1mpDAYT-em8F"
   },
   "source": [
    "Task 6: Take the whole Iris dataset and reduce its dimension from 4 to 2 using either of those functions. Then make a scatter plot of the results, such that the data points are colored in accordance with their true label/variety. If your functions are implemented correctly, the first 3 entries of the reduced dataframe would be:\n",
    "(-2.684207 -0.326607), (-2.715391  0.169557), (-2.889820  0.137346)"
   ]
  },
  {
   "cell_type": "code",
   "execution_count": null,
   "metadata": {
    "colab": {},
    "colab_type": "code",
    "id": "gu292Pz6enRm"
   },
   "outputs": [],
   "source": []
  },
  {
   "cell_type": "markdown",
   "metadata": {
    "colab_type": "text",
    "id": "o0zQkzEysbHe"
   },
   "source": [
    "Task 7: Make a line plot for the cumulative sum of explained variances for Iris dataset.  As the number of components increases, the total explained variance of those components should increase as well."
   ]
  },
  {
   "cell_type": "code",
   "execution_count": null,
   "metadata": {
    "colab": {},
    "colab_type": "code",
    "id": "k78sUkAQqWGQ"
   },
   "outputs": [],
   "source": []
  },
  {
   "cell_type": "markdown",
   "metadata": {
    "colab_type": "text",
    "id": "Zw2yrKPSDkiZ"
   },
   "source": [
    "## Word embeddings\n",
    "Word embeddings are vector representations of words.\n",
    "They are considered building blocks of natural language processing (NLP) applications such as machine translation, topic classification, sentiment analysis, summarization, named-entity recognition and so on.\n",
    "The word embeddings are generated by special models that map words into vectors of numerical values.\n",
    "\n",
    "While the recent word embedding models are dominated by deep learning based approaches, the very first models were based on word co-occurance statistics and matrix decomposition.\n",
    "One of such models is so called latent semantic analysis (LSA) or latent semantic indexing (LSI).\n",
    "LSA assumes that words with a similar meaning should appear with a similar distribution among documents.\n",
    "Therefore, LSA uses common linear algebra techniques to learn the conceptual correlations in a collection of text. \n",
    "In general, the process involves constructing a weighted term-document matrix, performing a Singular Value Decomposition on that matrix, and using the matrix to identify the concepts contained in the text."
   ]
  },
  {
   "cell_type": "markdown",
   "metadata": {
    "colab_type": "text",
    "id": "cISh6DiJEa3B"
   },
   "source": [
    "### Term-document matrix\n",
    "LSA begins by constructing a term-document matrix, $A$ in order to identify the occurrences of the $m$ unique terms within a collection of $n$ documents. In a term-document matrix, each term is represented by a row, and each document is represented by a column. Each matrix cell, $a_{ij}$, represents the number of times the associated term $i$ appears in the indicated document $j$, i.e. term frequency.\n",
    "In other words, $A$ is the supplied a $m \\times n$ weighted matrix of term frequencies in a collection of text, where $m$ is the number of unique terms, and $n$ is the number of documents.\n",
    "\n",
    "\n"
   ]
  },
  {
   "cell_type": "markdown",
   "metadata": {
    "colab_type": "text",
    "id": "jH4Kzi3xI6Zk"
   },
   "source": [
    "### The Dataset\n",
    "In this task, we will be using [20 newsgroups](https://archive.ics.uci.edu/ml/datasets/Twenty+Newsgroups) dataset.\n",
    "This dataset is a collection of around 18,000 newsgroup posts on 20 topics such as computers, science and so on.\n",
    "For simplicity, will be using only small subset of documents from 'computers' topic.\n",
    "We also preprocess the documents, i.e. uppercase to lowercase conversion, removal of some non-alphanumeric symbols and etc.\n",
    "In addition, we put the documents on a single file 'docs.txt' where each line corresponds to one document."
   ]
  },
  {
   "cell_type": "code",
   "execution_count": null,
   "metadata": {
    "colab": {},
    "colab_type": "code",
    "id": "oTCkluJzEaYk"
   },
   "outputs": [],
   "source": [
    "# Reading a file into the string, note that every line of docs.txt correspond to one document\n",
    "with open('docs.txt') as f:\n",
    "   raw_data = f.read()\n",
    "\n",
    "print(\"Type: \" + str(type(raw_data)))  # type of the data\n",
    "print(\"Size: \" + str(len(raw_data)))   # number of characters\n",
    "raw_data[0:181]                          # print a small snippet of the data"
   ]
  },
  {
   "cell_type": "markdown",
   "metadata": {
    "colab_type": "text",
    "id": "VL799eiwFNXw"
   },
   "source": [
    "Task 1: Split file into documents using newline sybol '\\n' as a delimiter, store the first 100 documents in **docs100** and print the first document."
   ]
  },
  {
   "cell_type": "code",
   "execution_count": null,
   "metadata": {
    "colab": {},
    "colab_type": "code",
    "id": "q44iuzEZFNlo"
   },
   "outputs": [],
   "source": []
  },
  {
   "cell_type": "markdown",
   "metadata": {
    "colab_type": "text",
    "id": "MZ8yITF2FNtf"
   },
   "source": [
    "Task 2: Create a dataframe **term_doc_df** to represent a term-document matrix. Set the index names to unique words in the dataset. The dataframe size should be: 3349 rows × 100 columns.\n",
    "The output of term_doc_df.loc['windows'][:10] = [0, 0, 2, 0, 2, 0, 1, 3, 0, 3]\n"
   ]
  },
  {
   "cell_type": "code",
   "execution_count": null,
   "metadata": {
    "colab": {},
    "colab_type": "code",
    "id": "hdxRxfZYKNy0"
   },
   "outputs": [],
   "source": []
  },
  {
   "cell_type": "markdown",
   "metadata": {
    "colab_type": "text",
    "id": "dRgyRMO9KUib"
   },
   "source": [
    "Task 3: To perform LSA, we can use our function **reduce_pca_svd(X, k)**.\n",
    "Note, we don't need to center the data in LSA because we want to keep term frequencies as positive numbers."
   ]
  },
  {
   "cell_type": "code",
   "execution_count": null,
   "metadata": {
    "colab": {},
    "colab_type": "code",
    "id": "7vKpWuBuK1nJ"
   },
   "outputs": [],
   "source": []
  },
  {
   "cell_type": "markdown",
   "metadata": {
    "colab_type": "text",
    "id": "q80HyKyoFN8m"
   },
   "source": [
    "### Cosine similarity\n",
    "To measure the similarity between two words, the common way is to compute the **cosine similarity** between two word embedding vectors, which measures the cosine of the angle between two vectors:\n",
    "\n",
    "$cosine\\_sim(w_1,w_2)=\\frac{w_1\\cdot w_2}{\\|w_1\\| \\|w_2\\|}$\n",
    "\n"
   ]
  },
  {
   "cell_type": "markdown",
   "metadata": {
    "colab_type": "text",
    "id": "lt9hEldGNYXv"
   },
   "source": [
    "Task 1: Implement the cosine similarity function that takes two words and returns a scalar value.\n"
   ]
  },
  {
   "cell_type": "code",
   "execution_count": null,
   "metadata": {
    "colab": {},
    "colab_type": "code",
    "id": "df7quMm3FODS"
   },
   "outputs": [],
   "source": [
    "def cosine_sim(w1, w2):\n"
   ]
  },
  {
   "cell_type": "markdown",
   "metadata": {
    "colab_type": "text",
    "id": "JLjA-ugXNYUM"
   },
   "source": [
    "Task 2: Calculate the similarity between **w1 = 'mouse'** *and* **w2 = 'keyboard'**"
   ]
  },
  {
   "cell_type": "code",
   "execution_count": null,
   "metadata": {
    "colab": {},
    "colab_type": "code",
    "id": "SmjW7WbqNEgT"
   },
   "outputs": [],
   "source": []
  },
  {
   "cell_type": "code",
   "execution_count": null,
   "metadata": {
    "colab": {},
    "colab_type": "code",
    "id": "_USsxqbzNOAP"
   },
   "outputs": [],
   "source": [
    "#Should return True in order to ensure that the cosine similarity implementation is correct\n",
    "from sklearn.metrics.pairwise import cosine_similarity\n",
    "np.allclose(cosine_similarity([w1.values], [w2.values]),cosine_sim(w1, w2)) "
   ]
  },
  {
   "cell_type": "markdown",
   "metadata": {
    "colab_type": "text",
    "id": "qbXkd-huFtfa"
   },
   "source": [
    "Task 3: Calculate the similarity between **w1 = 'mouse'** *and* **w3 = 'house'** and verify again that your answer is correct by comparing with the sklearn implementation of the function.\n",
    "\n",
    "Note, the word 'mouse' is closer to 'keyboard' than 'house' due to the fact that our documents came from a 'computer' related topic"
   ]
  },
  {
   "cell_type": "code",
   "execution_count": null,
   "metadata": {
    "colab": {},
    "colab_type": "code",
    "id": "WmzSne2GFxwq"
   },
   "outputs": [],
   "source": []
  },
  {
   "cell_type": "markdown",
   "metadata": {
    "colab_type": "text",
    "id": "Q5eg_3-KURGD"
   },
   "source": [
    "Sources:\n",
    "\n",
    "https://stats.stackexchange.com/questions/134282/relationship-between-svd-and-pca-how-to-use-svd-to-perform-pca\n",
    "\n",
    "https://medium.com/@jonathan_hui/machine-learning-singular-value-decomposition-svd-principal-component-analysis-pca-1d45e885e491\n",
    "\n",
    "https://towardsdatascience.com/pca-and-svd-explained-with-numpy-5d13b0d2a4d8\n",
    "\n",
    "https://intoli.com/blog/pca-and-svd/\n",
    "\n",
    "https://www.visiondummy.com/2014/04/geometric-interpretation-covariance-matrix/"
   ]
  }
 ],
 "metadata": {
  "colab": {
   "collapsed_sections": [],
   "name": "PythonDimReduction.ipynb",
   "provenance": [],
   "toc_visible": true
  },
  "kernelspec": {
   "display_name": "Python 3",
   "language": "python",
   "name": "python3"
  },
  "language_info": {
   "codemirror_mode": {
    "name": "ipython",
    "version": 3
   },
   "file_extension": ".py",
   "mimetype": "text/x-python",
   "name": "python",
   "nbconvert_exporter": "python",
   "pygments_lexer": "ipython3",
   "version": "3.6.5"
  }
 },
 "nbformat": 4,
 "nbformat_minor": 1
}
